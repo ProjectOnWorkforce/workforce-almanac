{
  "cells": [
    {
      "cell_type": "markdown",
      "metadata": {
        "id": "kCdMhHWwcdEX"
      },
      "source": [
        "This notebook combines all steps of the Almanac dataset preparation"
      ]
    },
    {
      "cell_type": "code",
      "execution_count": null,
      "metadata": {
        "id": "FD2FXvysc6YQ"
      },
      "outputs": [],
      "source": [
        "# Native libraries\n",
        "import csv\n",
        "import glob\n",
        "import json\n",
        "import os\n",
        "import shutil\n",
        "import tarfile\n",
        "import time\n",
        "import zipfile\n",
        "\n",
        "# External libraries\n",
        "import bigframes.pandas as bf\n",
        "import duckdb\n",
        "import gspread\n",
        "import pandas as pd\n",
        "import pandas_gbq\n",
        "import requests\n",
        "import spacy\n",
        "import networkx as nx\n",
        "\n",
        "from google.cloud import storage, bigquery\n",
        "from google.oauth2 import service_account\n",
        "from matplotlib import pyplot as plt\n",
        "from xml.etree import ElementTree as ET"
      ]
    },
    {
      "cell_type": "code",
      "execution_count": null,
      "metadata": {
        "id": "SnaSG7iic9-m"
      },
      "outputs": [],
      "source": [
        "project = \"hks-prod-mwc-06a2\"\n",
        "location = \"us-central1\"\n",
        "original_bucket_name = \"hks-almanac-storage-original\"\n",
        "standard_bucket_name = \"hks-almanac-storage-standard\""
      ]
    },
    {
      "cell_type": "code",
      "execution_count": null,
      "metadata": {
        "id": "tuzwm7V8dDPH"
      },
      "outputs": [],
      "source": [
        "storage_client = storage.Client(project=project)\n",
        "original_bucket = storage_client.get_bucket(original_bucket_name)\n",
        "standard_bucket = storage_client.get_bucket(standard_bucket_name)"
      ]
    },
    {
      "cell_type": "markdown",
      "metadata": {
        "id": "HHdiWUIOcT-d"
      },
      "source": [
        "# Step 01 - Load original data sets to BigQuery\n",
        "\n",
        "The original data sources for the second version of Workforce Almanac\n",
        "\n",
        "https://workforcealmanac.com/methodology\n",
        "\n",
        "We will copy the data from the original sources to v2 folder in the original bucket in GCS.\n",
        "Then we will standardize the file formats to CSV and save the files in the standard bucket in GCS.\n",
        "Finally, we will load the data from the standard bucket into BigQuery.\n"
      ]
    },
    {
      "cell_type": "code",
      "execution_count": null,
      "metadata": {
        "id": "zoPPDqFVdQfU"
      },
      "outputs": [],
      "source": [
        "# base_dir = \"/path/to/project/folder\" # Use any path if working locally\n",
        "base_dir = \"/content/\" # Use this if working in BigQuery Notebooks\n",
        "\n",
        "# folders for keeping the original and standardized files\n",
        "original_dir = base_dir + \"original/\"\n",
        "standard_dir = base_dir + \"standard/\""
      ]
    },
    {
      "cell_type": "markdown",
      "metadata": {
        "id": "meIE1lKbeBZk"
      },
      "source": [
        "Create the v2 the BigQuery datasets (aka schema)"
      ]
    },
    {
      "cell_type": "code",
      "execution_count": null,
      "metadata": {
        "id": "ibvyewQTd6_u"
      },
      "outputs": [],
      "source": [
        "%%bigquery\n",
        "CREATE SCHEMA IF NOT EXISTS deduped_v2 OPTIONS(location = 'us-central1');\n",
        "CREATE SCHEMA IF NOT EXISTS novel_v2 OPTIONS(location = 'us-central1');\n",
        "CREATE SCHEMA IF NOT EXISTS original_v2 OPTIONS(location = 'us-central1');\n",
        "CREATE SCHEMA IF NOT EXISTS reference_v2 OPTIONS(location = 'us-central1');\n",
        "CREATE SCHEMA IF NOT EXISTS standardized_v2 OPTIONS(location = 'us-central1');"
      ]
    },
    {
      "cell_type": "markdown",
      "metadata": {
        "id": "N8_rdh1weJyM"
      },
      "source": [
        "## 1 - IPEDS\n",
        "\n",
        "IPEDS dataset have two zipped CSV files.\n",
        "\n",
        "2022 files are hosted here:\n",
        "\n",
        "https://nces.ed.gov/ipeds/datacenter/Default.aspx?gotoReportId=7&fromIpeds=true\n",
        "\n",
        "Directory information (HD2022.zip):\n",
        "\n",
        "https://nces.ed.gov/ipeds/datacenter/data/HD2022.zip\n",
        "\n",
        "Educational offerings, organization, services and athletic associations (IC2022.zip):\n",
        "\n",
        "https://nces.ed.gov/ipeds/datacenter/data/IC2022.zip"
      ]
    },
    {
      "cell_type": "code",
      "execution_count": null,
      "metadata": {
        "id": "OXmU8_kJeQuo"
      },
      "outputs": [],
      "source": [
        "# IPEDS paths\n",
        "ipeds_original_dir = original_dir + \"ipeds/\"\n",
        "ipeds_standard_dir = standard_dir + \"ipeds/\"\n",
        "\n",
        "# Create the IPEDS folder if it doesn't exist\n",
        "os.makedirs(ipeds_original_dir, exist_ok=True)\n",
        "os.makedirs(ipeds_standard_dir, exist_ok=True)"
      ]
    },
    {
      "cell_type": "markdown",
      "metadata": {
        "id": "93WR-8l6ef5m"
      },
      "source": [
        "### Download original"
      ]
    },
    {
      "cell_type": "code",
      "execution_count": null,
      "metadata": {
        "id": "RlPr1w57eUyb"
      },
      "outputs": [],
      "source": [
        "# Download the IPEDS HD2022 data\n",
        "ipeds_hd_file_url = \"https://nces.ed.gov/ipeds/datacenter/data/HD2022.zip\"\n",
        "ipeds_ic_file_url = \"https://nces.ed.gov/ipeds/datacenter/data/IC2022.zip\"\n",
        "ipeds_hd_local_file_name = \"HD2022.zip\"\n",
        "ipeds_ic_local_file_name = \"IC2022.zip\"\n",
        "\n",
        "ipeds_hd_file_download_request = requests.get(ipeds_hd_file_url)\n",
        "with open(ipeds_original_dir + ipeds_hd_local_file_name, \"wb\") as f:\n",
        "    f.write(ipeds_hd_file_download_request.content)"
      ]
    },
    {
      "cell_type": "code",
      "execution_count": null,
      "metadata": {
        "id": "Y4bzav60eXTO"
      },
      "outputs": [],
      "source": [
        "# Repeat the same steps for the IC2022\n",
        "ipeds_ic_file_download_request = requests.get(ipeds_ic_file_url)\n",
        "with open(ipeds_original_dir + ipeds_ic_local_file_name, \"wb\") as f:\n",
        "    f.write(ipeds_ic_file_download_request.content)"
      ]
    },
    {
      "cell_type": "markdown",
      "metadata": {
        "id": "V7-kTtTxebKN"
      },
      "source": [
        "### Upload original"
      ]
    },
    {
      "cell_type": "code",
      "execution_count": null,
      "metadata": {
        "id": "VHTOv-HHebut"
      },
      "outputs": [],
      "source": [
        "# Upload the data to the original bucket\n",
        "ipeds_hd_blob = original_bucket.blob(f\"v2/ipeds/{ipeds_hd_local_file_name}\")\n",
        "ipeds_ic_blob = original_bucket.blob(f\"v2/ipeds/{ipeds_ic_local_file_name}\")\n",
        "\n",
        "ipeds_hd_blob.upload_from_filename(ipeds_original_dir + ipeds_hd_local_file_name)\n",
        "ipeds_ic_blob.upload_from_filename(ipeds_original_dir + ipeds_ic_local_file_name)"
      ]
    },
    {
      "cell_type": "markdown",
      "metadata": {
        "id": "S3Uzoys4eoht"
      },
      "source": [
        "### Standardize file format\n",
        "\n",
        "The data files are two zipped CSV files; so, we simply extract them."
      ]
    },
    {
      "cell_type": "code",
      "execution_count": null,
      "metadata": {
        "id": "vYJsV_H-eoM4"
      },
      "outputs": [],
      "source": [
        "with zipfile.ZipFile(ipeds_original_dir + ipeds_hd_local_file_name, 'r') as zip_ref:\n",
        "    zip_ref.extractall(ipeds_standard_dir)\n",
        "with zipfile.ZipFile(ipeds_original_dir + ipeds_ic_local_file_name, 'r') as zip_ref:\n",
        "    zip_ref.extractall(ipeds_standard_dir)"
      ]
    },
    {
      "cell_type": "markdown",
      "metadata": {
        "id": "d8pFcpUIe1IL"
      },
      "source": [
        "### Manual Fix\n",
        "\n",
        "Before we can upload the standardized CSV files, we have to fix a file format issue in the `hd2022.csv` file. This file is formatted as CSV (comma separated values) and the double quote (\") character is used to enclose fields that contain the value separator, i.e. the comma. One of the URLs has double quotes in them but the quotes are not properly escaped which renders the file non-machine-readable. The solution is to remove the offending commas which means manually changing the data.\n",
        "\n",
        "Generally, we want to avoid doing this type of modifications to the original data but it is absolutely necessary here. In addition, the change we are making to the URL has no impact as it is a parameter to the URL where a string in the page is highlighted, in this case the word \"veteran\". When testing after the fix, the URL still works fine without the quotes and the word is highlighted."
      ]
    },
    {
      "cell_type": "code",
      "execution_count": null,
      "metadata": {
        "id": "wCulLDY5fW9Z"
      },
      "outputs": [],
      "source": [
        "# Open the file in read mode\n",
        "with open(f\"{ipeds_standard_dir}hd2022.csv\", \"r\", encoding=\"latin-1\") as file:\n",
        "    # Read all lines into a list\n",
        "    lines = file.readlines()"
      ]
    },
    {
      "cell_type": "code",
      "execution_count": null,
      "metadata": {
        "id": "mj99awPpNu-Q"
      },
      "outputs": [],
      "source": [
        "line = lines[1409]"
      ]
    },
    {
      "cell_type": "markdown",
      "metadata": {
        "id": "Z7G60ZKbNyIW"
      },
      "source": [
        "Notice the text `\"veteran\"` in the line. This word and the full URL are both enclosed in double quotes which causes a file format inconsistency and prevents BigQuery from loading the data."
      ]
    },
    {
      "cell_type": "code",
      "execution_count": null,
      "metadata": {
        "id": "0xt6NiATN0a0"
      },
      "outputs": [],
      "source": [
        "line"
      ]
    },
    {
      "cell_type": "code",
      "execution_count": null,
      "metadata": {
        "id": "T9hAOWwpN2b7"
      },
      "outputs": [],
      "source": [
        "# Fix the issue by removing the double quotes\n",
        "line.replace('\"veteran\"', 'veteran')"
      ]
    },
    {
      "cell_type": "code",
      "execution_count": null,
      "metadata": {
        "id": "PsH_BWW8N428"
      },
      "outputs": [],
      "source": [
        "# Fix is working as expected. So, we apply it here.\n",
        "fixed_line = line.replace('\"veteran\"', 'veteran')"
      ]
    },
    {
      "cell_type": "code",
      "execution_count": null,
      "metadata": {
        "id": "MKBku4BlN7U8"
      },
      "outputs": [],
      "source": [
        "# Replace the original line\n",
        "lines[1409] = fixed_line"
      ]
    },
    {
      "cell_type": "code",
      "execution_count": null,
      "metadata": {
        "id": "5alq5s90N8nc"
      },
      "outputs": [],
      "source": [
        "# Rewrite the standard file\n",
        "with open('/content/standard/ipeds/hd2022.csv', 'w') as file:\n",
        "    # Write the modified lines back to the file\n",
        "    file.writelines(lines)"
      ]
    },
    {
      "cell_type": "markdown",
      "metadata": {
        "id": "d_XnKD_9ODdW"
      },
      "source": [
        "### Upload standardized files"
      ]
    },
    {
      "cell_type": "code",
      "execution_count": null,
      "metadata": {
        "id": "Rqfq9ZSNOEun"
      },
      "outputs": [],
      "source": [
        "# Upload the unzipped files to the standard bucket\n",
        "ipeds_hd_standard_blob = standard_bucket.blob(\"v2/ipeds/hd2022.csv\")\n",
        "ipeds_ic_standard_blob = standard_bucket.blob(\"v2/ipeds/ic2022.csv\")\n",
        "\n",
        "ipeds_hd_standard_blob.upload_from_filename(f\"{ipeds_standard_dir}hd2022.csv\")\n",
        "ipeds_ic_standard_blob.upload_from_filename(f\"{ipeds_standard_dir}ic2022.csv\")"
      ]
    },
    {
      "cell_type": "markdown",
      "metadata": {
        "id": "7eIrLuKqOG_V"
      },
      "source": [
        "### Load to BigQuery\n",
        "\n",
        "Create the target tables"
      ]
    },
    {
      "cell_type": "code",
      "execution_count": null,
      "metadata": {
        "id": "VZa6ZxrIOIbW"
      },
      "outputs": [],
      "source": [
        "%%bigquery\n",
        "CREATE TABLE IF NOT EXISTS original_v2.ipeds_hd_2022 (\n",
        "    UNITID INT64,\n",
        "    INSTNM STRING,\n",
        "    IALIAS STRING,\n",
        "    ADDR STRING,\n",
        "    CITY STRING,\n",
        "    STABBR STRING,\n",
        "    ZIP STRING,\n",
        "    FIPS INT64,\n",
        "    OBEREG INT64,\n",
        "    CHFNM STRING,\n",
        "    CHFTITLE STRING,\n",
        "    GENTELE INT64,\n",
        "    EIN INT64,\n",
        "    UEIS STRING,\n",
        "    OPEID INT64,\n",
        "    OPEFLAG INT64,\n",
        "    WEBADDR STRING,\n",
        "    ADMINURL STRING,\n",
        "    FAIDURL STRING,\n",
        "    APPLURL STRING,\n",
        "    NPRICURL STRING,\n",
        "    VETURL STRING,\n",
        "    ATHURL STRING,\n",
        "    DISAURL STRING,\n",
        "    SECTOR INT64,\n",
        "    ICLEVEL INT64,\n",
        "    CONTROL INT64,\n",
        "    HLOFFER INT64,\n",
        "    UGOFFER INT64,\n",
        "    GROFFER INT64,\n",
        "    HDEGOFR1 INT64,\n",
        "    DEGGRANT INT64,\n",
        "    HBCU INT64,\n",
        "    HOSPITAL INT64,\n",
        "    MEDICAL INT64,\n",
        "    TRIBAL INT64,\n",
        "    LOCALE INT64,\n",
        "    OPENPUBL INT64,\n",
        "    ACT STRING,\n",
        "    NEWID INT64,\n",
        "    DEATHYR INT64,\n",
        "    CLOSEDAT STRING,\n",
        "    CYACTIVE INT64,\n",
        "    POSTSEC INT64,\n",
        "    PSEFLAG INT64,\n",
        "    PSET4FLG INT64,\n",
        "    RPTMTH INT64,\n",
        "    INSTCAT INT64,\n",
        "    C21BASIC INT64,\n",
        "    C21IPUG INT64,\n",
        "    C21IPGRD INT64,\n",
        "    C21UGPRF INT64,\n",
        "    C21ENPRF INT64,\n",
        "    C21SZSET INT64,\n",
        "    C18BASIC INT64,\n",
        "    C15BASIC INT64,\n",
        "    CCBASIC INT64,\n",
        "    CARNEGIE INT64,\n",
        "    LANDGRNT INT64,\n",
        "    INSTSIZE INT64,\n",
        "    F1SYSTYP INT64,\n",
        "    F1SYSNAM STRING,\n",
        "    F1SYSCOD INT64,\n",
        "    CBSA INT64,\n",
        "    CBSATYPE INT64,\n",
        "    CSA INT64,\n",
        "    COUNTYCD INT64,\n",
        "    COUNTYNM STRING,\n",
        "    CNGDSTCD INT64,\n",
        "    LONGITUD NUMERIC,\n",
        "    LATITUDE NUMERIC,\n",
        "    DFRCGID INT64,\n",
        "    DFRCUSCG INT64\n",
        ");"
      ]
    },
    {
      "cell_type": "markdown",
      "metadata": {
        "id": "h0fAHUubOK2Q"
      },
      "source": [
        "Load data to the table, truncate first if already populated."
      ]
    },
    {
      "cell_type": "code",
      "execution_count": null,
      "metadata": {
        "id": "F895rADIOMMD"
      },
      "outputs": [],
      "source": [
        "%%bigquery\n",
        "TRUNCATE TABLE original_v2.ipeds_hd_2022;\n",
        "LOAD DATA INTO original_v2.ipeds_hd_2022 (\n",
        "  UNITID INT64,\n",
        "  INSTNM STRING,\n",
        "  IALIAS STRING,\n",
        "  ADDR STRING,\n",
        "  CITY STRING,\n",
        "  STABBR STRING,\n",
        "  ZIP STRING,\n",
        "  FIPS INT64,\n",
        "  OBEREG INT64,\n",
        "  CHFNM STRING,\n",
        "  CHFTITLE STRING,\n",
        "  GENTELE INT64,\n",
        "  EIN INT64,\n",
        "  UEIS STRING,\n",
        "  OPEID INT64,\n",
        "  OPEFLAG INT64,\n",
        "  WEBADDR STRING,\n",
        "  ADMINURL STRING,\n",
        "  FAIDURL STRING,\n",
        "  APPLURL STRING,\n",
        "  NPRICURL STRING,\n",
        "  VETURL STRING,\n",
        "  ATHURL STRING,\n",
        "  DISAURL STRING,\n",
        "  SECTOR INT64,\n",
        "  ICLEVEL INT64,\n",
        "  CONTROL INT64,\n",
        "  HLOFFER INT64,\n",
        "  UGOFFER INT64,\n",
        "  GROFFER INT64,\n",
        "  HDEGOFR1 INT64,\n",
        "  DEGGRANT INT64,\n",
        "  HBCU INT64,\n",
        "  HOSPITAL INT64,\n",
        "  MEDICAL INT64,\n",
        "  TRIBAL INT64,\n",
        "  LOCALE INT64,\n",
        "  OPENPUBL INT64,\n",
        "  ACT STRING,\n",
        "  NEWID INT64,\n",
        "  DEATHYR INT64,\n",
        "  CLOSEDAT STRING,\n",
        "  CYACTIVE INT64,\n",
        "  POSTSEC INT64,\n",
        "  PSEFLAG INT64,\n",
        "  PSET4FLG INT64,\n",
        "  RPTMTH INT64,\n",
        "  INSTCAT INT64,\n",
        "  C21BASIC INT64,\n",
        "  C21IPUG INT64,\n",
        "  C21IPGRD INT64,\n",
        "  C21UGPRF INT64,\n",
        "  C21ENPRF INT64,\n",
        "  C21SZSET INT64,\n",
        "  C18BASIC INT64,\n",
        "  C15BASIC INT64,\n",
        "  CCBASIC INT64,\n",
        "  CARNEGIE INT64,\n",
        "  LANDGRNT INT64,\n",
        "  INSTSIZE INT64,\n",
        "  F1SYSTYP INT64,\n",
        "  F1SYSNAM STRING,\n",
        "  F1SYSCOD INT64,\n",
        "  CBSA INT64,\n",
        "  CBSATYPE INT64,\n",
        "  CSA INT64,\n",
        "  COUNTYCD INT64,\n",
        "  COUNTYNM STRING,\n",
        "  CNGDSTCD INT64,\n",
        "  LONGITUD NUMERIC,\n",
        "  LATITUDE NUMERIC,\n",
        "  DFRCGID INT64,\n",
        "  DFRCUSCG INT64\n",
        ")\n",
        "FROM FILES(\n",
        "  format = 'CSV',\n",
        "  skip_leading_rows = 1,\n",
        "  -- allow_quoted_newlines = true,\n",
        "  uris = [\n",
        "    'gs://hks-almanac-storage-standard/v2/ipeds/hd2022.csv'\n",
        "    ]\n",
        ")\n",
        ";"
      ]
    },
    {
      "cell_type": "markdown",
      "metadata": {
        "id": "qLLXrUlMOOxw"
      },
      "source": [
        "# 2 - RAPIDS\n",
        "\n",
        "This file was provided by the DOL ETA team managing RAPIDS\n",
        "\n",
        "I downloaded the file and saved it to GCP original bucket v2"
      ]
    },
    {
      "cell_type": "code",
      "execution_count": null,
      "metadata": {
        "id": "ToJYoMguORI0"
      },
      "outputs": [],
      "source": [
        "# Rapids paths\n",
        "rapids_original_dir = original_dir + \"rapids/\"\n",
        "rapids_standard_dir = standard_dir + \"rapids/\"\n",
        "\n",
        "# Create the Rapids folder if it doesn't exist\n",
        "os.makedirs(rapids_original_dir, exist_ok=True)\n",
        "os.makedirs(rapids_standard_dir, exist_ok=True)"
      ]
    },
    {
      "cell_type": "markdown",
      "metadata": {
        "id": "NDAiRo1ZOUTX"
      },
      "source": [
        "### Download original"
      ]
    },
    {
      "cell_type": "code",
      "execution_count": null,
      "metadata": {
        "id": "7lZnqd6VOTWG"
      },
      "outputs": [],
      "source": [
        "# List the uploaded RAPIDS files in the original v2 bucket to see the names\n",
        "[blob.name for blob in original_bucket.list_blobs(prefix=\"v2/rapids/\")]"
      ]
    },
    {
      "cell_type": "code",
      "execution_count": null,
      "metadata": {
        "id": "SKxnJ1Z5OXqz"
      },
      "outputs": [],
      "source": [
        "rapids_blob = original_bucket.blob(\"v2/rapids/ProgramData FY24Q2.zip\")\n",
        "# We download it from the original bucket\n",
        "rapids_blob.download_to_filename(rapids_original_dir + \"ProgramData FY24Q2.zip\")"
      ]
    },
    {
      "cell_type": "markdown",
      "metadata": {
        "id": "S3WwuTifOZ0t"
      },
      "source": [
        "### Uncompress"
      ]
    },
    {
      "cell_type": "code",
      "execution_count": null,
      "metadata": {
        "id": "L_4spkc9ObHY"
      },
      "outputs": [],
      "source": [
        "# Uncompress it\n",
        "with zipfile.ZipFile(rapids_original_dir + \"ProgramData FY24Q2.zip\", 'r') as zip_ref:\n",
        "    zip_ref.extractall(rapids_standard_dir)"
      ]
    },
    {
      "cell_type": "markdown",
      "metadata": {
        "id": "PZwMVryNOdpd"
      },
      "source": [
        "### Upload standardized files\n",
        "We upload the apprentice and program data to GCS"
      ]
    },
    {
      "cell_type": "code",
      "execution_count": null,
      "metadata": {
        "id": "oBKJbezGOfW1"
      },
      "outputs": [],
      "source": [
        "# Upload the programs.csv file to the standard bucket\n",
        "rapids_program_standard_blob = standard_bucket.blob(\"v2/rapids/programs.csv\")\n",
        "rapids_program_standard_blob.upload_from_filename(f\"{rapids_standard_dir}programs.csv\")"
      ]
    },
    {
      "cell_type": "code",
      "execution_count": null,
      "metadata": {
        "id": "6P9dKLIAOgld"
      },
      "outputs": [],
      "source": [
        "# Upload the apprentices.csv file to the standard bucket\n",
        "rapids_apprentice_standard_blob = standard_bucket.blob(\"v2/rapids/apprentices.csv\")\n",
        "rapids_apprentice_standard_blob.upload_from_filename(f\"{rapids_standard_dir}apprentices.csv\")"
      ]
    },
    {
      "cell_type": "markdown",
      "metadata": {
        "id": "C-XxSHi1Oi3a"
      },
      "source": [
        "### Load to BigQuery"
      ]
    },
    {
      "cell_type": "code",
      "execution_count": null,
      "metadata": {
        "id": "6WOL8sT0OiHH"
      },
      "outputs": [],
      "source": [
        "%%bigquery\n",
        "CREATE TABLE IF NOT EXISTS original_v2.rapids_program (\n",
        "    SEQ_ID INT64,\n",
        "    PS_ID INT64,\n",
        "    PS_NUM STRING,\n",
        "    PROG_TYPE INT64,\n",
        "    PROG_NAME STRING,\n",
        "    PROG_STATUS STRING,\n",
        "    PROVISIONAL_REVIEW BOOLEAN,\n",
        "    REGISTERED_DT TIMESTAMP,\n",
        "    RAPIDS_UPDATED_DT TIMESTAMP,\n",
        "    EIN STRING,\n",
        "    SIC_CD INT64,\n",
        "    PROG_ADDR STRING,\n",
        "    PROG_LOCATION_CD INT64,\n",
        "    PROG_STATE STRING,\n",
        "    PROG_ZIP5 STRING,\n",
        "    ACTIVE_APPRCT INT64,\n",
        "    LAST_APPR_UPDATE_DT DATE,\n",
        "    ORG_TYPE STRING,\n",
        "    OTHER_ORG_TYPE STRING,\n",
        "    OTHER_PROG_TYPE STRING,\n",
        "    YOUTH_AGE INT64,\n",
        "    LOCAL_AREA STRING,\n",
        "    JOURNEY_WORKER_WAGE_IND STRING,\n",
        "    PROB_LENGTH STRING,\n",
        "    RTI_LENGTH STRING,\n",
        "    STATUS_CD STRING,\n",
        "    SPONSOR_ID STRING,\n",
        "    NAICS_CD STRING,\n",
        "    UNION_Y_N INT64,\n",
        "    END_DT DATE,\n",
        "    SAA_PORTAL_UNIQUE_ID STRING,\n",
        "    ACTIVE_FLG STRING,\n",
        "    SPON_EMPLOYER INT64,\n",
        "    SPON_UNIONLABOR INT64,\n",
        "    SPON_BSNSSASSCTN INT64,\n",
        "    SPON_INTERMEDIARY INT64,\n",
        "    SPON_CMMNTYCLLGUNIV INT64,\n",
        "    SPON_CMNTYBSDORG INT64,\n",
        "    SPON_WRKFRCDVLPMNTBRD INT64,\n",
        "    SPON_FOUNDATION INT64,\n",
        "    SPON_FEDERALAGENCY INT64,\n",
        "    SPON_STATEAGENCY INT64,\n",
        "    SPON_CITYCOUNTYAGENCY INT64,\n",
        "    SPON_OTHER INT64,\n",
        "    SPON_ALL_SPONSOR_TYPE STRING,\n",
        "    CREATED_DT TIMESTAMP,\n",
        "    CREATED_BY STRING,\n",
        "    UPDATED_DT TIMESTAMP,\n",
        "    UPDATED_BY STRING,\n",
        "    ROW_OPERATION STRING\n",
        ");"
      ]
    },
    {
      "cell_type": "code",
      "execution_count": null,
      "metadata": {
        "id": "IzTub4KKOmEf"
      },
      "outputs": [],
      "source": [
        "%%bigquery\n",
        "TRUNCATE TABLE original_v2.rapids_program;\n",
        "LOAD DATA INTO original_v2.rapids_program (\n",
        "    SEQ_ID INT64,\n",
        "    PS_ID INT64,\n",
        "    PS_NUM STRING,\n",
        "    PROG_TYPE INT64,\n",
        "    PROG_NAME STRING,\n",
        "    PROG_STATUS STRING,\n",
        "    PROVISIONAL_REVIEW BOOLEAN,\n",
        "    REGISTERED_DT TIMESTAMP,\n",
        "    RAPIDS_UPDATED_DT TIMESTAMP,\n",
        "    EIN STRING,\n",
        "    SIC_CD INT64,\n",
        "    PROG_ADDR STRING,\n",
        "    PROG_LOCATION_CD INT64,\n",
        "    PROG_STATE STRING,\n",
        "    PROG_ZIP5 STRING,\n",
        "    ACTIVE_APPRCT INT64,\n",
        "    LAST_APPR_UPDATE_DT DATE,\n",
        "    ORG_TYPE STRING,\n",
        "    OTHER_ORG_TYPE STRING,\n",
        "    OTHER_PROG_TYPE STRING,\n",
        "    YOUTH_AGE INT64,\n",
        "    LOCAL_AREA STRING,\n",
        "    JOURNEY_WORKER_WAGE_IND STRING,\n",
        "    PROB_LENGTH STRING,\n",
        "    RTI_LENGTH STRING,\n",
        "    STATUS_CD STRING,\n",
        "    SPONSOR_ID STRING,\n",
        "    NAICS_CD STRING,\n",
        "    UNION_Y_N INT64,\n",
        "    END_DT DATE,\n",
        "    SAA_PORTAL_UNIQUE_ID STRING,\n",
        "    ACTIVE_FLG STRING,\n",
        "    SPON_EMPLOYER INT64,\n",
        "    SPON_UNIONLABOR INT64,\n",
        "    SPON_BSNSSASSCTN INT64,\n",
        "    SPON_INTERMEDIARY INT64,\n",
        "    SPON_CMMNTYCLLGUNIV INT64,\n",
        "    SPON_CMNTYBSDORG INT64,\n",
        "    SPON_WRKFRCDVLPMNTBRD INT64,\n",
        "    SPON_FOUNDATION INT64,\n",
        "    SPON_FEDERALAGENCY INT64,\n",
        "    SPON_STATEAGENCY INT64,\n",
        "    SPON_CITYCOUNTYAGENCY INT64,\n",
        "    SPON_OTHER INT64,\n",
        "    SPON_ALL_SPONSOR_TYPE STRING,\n",
        "    CREATED_DT TIMESTAMP,\n",
        "    CREATED_BY STRING,\n",
        "    UPDATED_DT TIMESTAMP,\n",
        "    UPDATED_BY STRING,\n",
        "    ROW_OPERATION STRING\n",
        ")\n",
        "FROM FILES(\n",
        "  format = 'CSV',\n",
        "  skip_leading_rows = 1,\n",
        "  allow_quoted_newlines = true,\n",
        "  uris = [\n",
        "    'gs://hks-almanac-storage-standard/v2/rapids/programs.csv'\n",
        "    ]\n",
        ")\n",
        ";"
      ]
    },
    {
      "cell_type": "code",
      "execution_count": null,
      "metadata": {
        "id": "kUEezbeCOqUS"
      },
      "outputs": [],
      "source": [
        "%%bigquery\n",
        "DROP TABLE original_v2.rapids_apprentice;\n",
        "CREATE TABLE original_v2.rapids_apprentice (\n",
        "SEQ_ID INT64,\n",
        "APPR_ID INT64,\n",
        "APPR_NUMBER STRING,\n",
        "PS_ID INT64,\n",
        "TERM_LENGTH_MIN INT64,\n",
        "TERM_LENGTH_MAX INT64,\n",
        "RAPIDS_CD STRING,\n",
        "ONET_SOC_CD STRING,\n",
        "VERSION_NUM STRING,\n",
        "CAREER_LATTICE_LVL STRING,\n",
        "PROGRAM_STATUS STRING,\n",
        "APPR_STATUS_CD STRING,\n",
        "PENDING_ACTION STRING,\n",
        "IS_PENDING_EMP INT64,\n",
        "EMP_CD INT64,\n",
        "SCHEDULE_CD INT64,\n",
        "AGE_COHORT_CD INT64,\n",
        "REGISTER_DT STRING,\n",
        "START_DT STRING,\n",
        "STARTING_WAGE DECIMAL,\n",
        "EXIT_WAGE_DT STRING,\n",
        "EXIT_WAGE DECIMAL,\n",
        "EXPECT_COMPLETE_DT STRING,\n",
        "COMPLETION_EXT_DT STRING,\n",
        "SUSPENDED_DT STRING,\n",
        "AGE_AT_START INT64,\n",
        "STUDENT_STATUS STRING,\n",
        "OJT_CREDIT INT64,\n",
        "ETHNICITY_CD INT64,\n",
        "VET_STAT_IND INT64,\n",
        "GENDER_CD STRING,\n",
        "RACE_CD INT64,\n",
        "DISABLED_CD INT64,\n",
        "EDUCATION_CD INT64,\n",
        "COMMENTS STRING,\n",
        "RTI_CREDIT STRING,\n",
        "RAPIDS_PRG_EMP_JOIN_ID STRING,\n",
        "OCCUP_ID STRING,\n",
        "OCCUP_DTL_ID STRING,\n",
        "INMATE_IND STRING,\n",
        "PROBATIONARY_CANCEL STRING,\n",
        "CURRENT_WAGE_IND STRING,\n",
        "STARTING_WAGE_IND STRING,\n",
        "JOURNEYMAN_WAGE_IND STRING,\n",
        "PRE_APPR_WAGE_IND STRING,\n",
        "PRE_EXPER_CREDIT_IND STRING,\n",
        "SAA_PORTAL_UNIQUE_ID STRING,\n",
        "ASIAN_IND INT64,\n",
        "AFRICAAMER_IND INT64,\n",
        "NATHAWAI_IND INT64,\n",
        "NATINDIAN_IND INT64,\n",
        "W_IND INT64,\n",
        "OCCUP_TYPE STRING,\n",
        "APPR_STATUS_REASON STRING,\n",
        "CREATED_DT STRING,\n",
        "CREATED_BY STRING,\n",
        "UPDATED_DT STRING,\n",
        "UPDATED_BY STRING,\n",
        "ACTIVE_IND INT64,\n",
        "ACTIVE_FLG STRING,\n",
        "ROW_OPERATION STRING,\n",
        "STARTINGWAGEIND STRING,\n",
        "ZIP5 STRING,\n",
        "STATE STRING,\n",
        "NAICS_CD STRING,\n",
        "TERM_LENGTH STRING,\n",
        "OCCUPATION_TITLE STRING\n",
        ")"
      ]
    },
    {
      "cell_type": "code",
      "execution_count": null,
      "metadata": {
        "id": "TbmouaKgOsDe"
      },
      "outputs": [],
      "source": [
        "%%bigquery\n",
        "TRUNCATE TABLE original_v2.rapids_apprentice;\n",
        "LOAD DATA INTO original_v2.rapids_apprentice (\n",
        "  SEQ_ID INT64,\n",
        "  APPR_ID INT64,\n",
        "  APPR_NUMBER STRING,\n",
        "  PS_ID INT64,\n",
        "  TERM_LENGTH_MIN INT64,\n",
        "  TERM_LENGTH_MAX INT64,\n",
        "  RAPIDS_CD STRING,\n",
        "  ONET_SOC_CD STRING,\n",
        "  VERSION_NUM STRING,\n",
        "  CAREER_LATTICE_LVL STRING,\n",
        "  PROGRAM_STATUS STRING,\n",
        "  APPR_STATUS_CD STRING,\n",
        "  PENDING_ACTION STRING,\n",
        "  IS_PENDING_EMP INT64,\n",
        "  EMP_CD INT64,\n",
        "  SCHEDULE_CD INT64,\n",
        "  AGE_COHORT_CD INT64,\n",
        "  REGISTER_DT STRING,\n",
        "  START_DT STRING,\n",
        "  STARTING_WAGE DECIMAL,\n",
        "  EXIT_WAGE_DT STRING,\n",
        "  EXIT_WAGE DECIMAL,\n",
        "  EXPECT_COMPLETE_DT STRING,\n",
        "  COMPLETION_EXT_DT STRING,\n",
        "  SUSPENDED_DT STRING,\n",
        "  AGE_AT_START INT64,\n",
        "  STUDENT_STATUS STRING,\n",
        "  OJT_CREDIT INT64,\n",
        "  ETHNICITY_CD INT64,\n",
        "  VET_STAT_IND INT64,\n",
        "  GENDER_CD STRING,\n",
        "  RACE_CD INT64,\n",
        "  DISABLED_CD INT64,\n",
        "  EDUCATION_CD INT64,\n",
        "  COMMENTS STRING,\n",
        "  RTI_CREDIT STRING,\n",
        "  RAPIDS_PRG_EMP_JOIN_ID STRING,\n",
        "  OCCUP_ID STRING,\n",
        "  OCCUP_DTL_ID STRING,\n",
        "  INMATE_IND STRING,\n",
        "  PROBATIONARY_CANCEL STRING,\n",
        "  CURRENT_WAGE_IND STRING,\n",
        "  STARTING_WAGE_IND STRING,\n",
        "  JOURNEYMAN_WAGE_IND STRING,\n",
        "  PRE_APPR_WAGE_IND STRING,\n",
        "  PRE_EXPER_CREDIT_IND STRING,\n",
        "  SAA_PORTAL_UNIQUE_ID STRING,\n",
        "  ASIAN_IND INT64,\n",
        "  AFRICAAMER_IND INT64,\n",
        "  NATHAWAI_IND INT64,\n",
        "  NATINDIAN_IND INT64,\n",
        "  W_IND INT64,\n",
        "  OCCUP_TYPE STRING,\n",
        "  APPR_STATUS_REASON STRING,\n",
        "  CREATED_DT STRING,\n",
        "  CREATED_BY STRING,\n",
        "  UPDATED_DT STRING,\n",
        "  UPDATED_BY STRING,\n",
        "  ACTIVE_IND INT64,\n",
        "  ACTIVE_FLG STRING,\n",
        "  ROW_OPERATION STRING,\n",
        "  STARTINGWAGEIND STRING,\n",
        "  ZIP5 STRING,\n",
        "  STATE STRING,\n",
        "  NAICS_CD STRING,\n",
        "  TERM_LENGTH STRING,\n",
        "  OCCUPATION_TITLE STRING\n",
        ")\n",
        "FROM FILES(\n",
        "  format = 'CSV',\n",
        "  skip_leading_rows = 1,\n",
        "  allow_quoted_newlines = true,\n",
        "  uris = [\n",
        "    'gs://hks-almanac-storage-standard/v2/rapids/apprentices.csv'\n",
        "    ]\n",
        ")\n",
        ";"
      ]
    },
    {
      "cell_type": "markdown",
      "metadata": {
        "id": "-ewFs7iNOvFr"
      },
      "source": [
        "### Update: 2024-08-01\n",
        "\n",
        "Previous Rapids file didn't have multi-employer/single-employer flag which was one of the filters we used in the first version. This variable is provided in a new file and we can use the PS_ID to join the datasets."
      ]
    },
    {
      "cell_type": "code",
      "execution_count": null,
      "metadata": {
        "id": "AiUzL4KqOueb"
      },
      "outputs": [],
      "source": [
        "%%bigquery\n",
        "DROP TABLE IF EXISTS original_v2.rapids_add_prog_info;\n",
        "CREATE TABLE original_v2.rapids_add_prog_info (\n",
        "  PS_ID INT64,\n",
        "  IS_SINGLE_EMP BOOL,\n",
        "  IS_MULTI_EMP BOOL,\n",
        "  IS_NATIONAL BOOL,\n",
        "  IS_LOCAL BOOL,\n",
        "  IS_NGS BOOL,\n",
        "  NGS_ID INT64,\n",
        "  IS_CBA BOOL,\n",
        "  IS_PREV_CRED_DOC_REQ BOOL,\n",
        "  PREV_CRED_DOC_DESC STRING,\n",
        "  IS_SEL_PROC BOOL,\n",
        "  SEL_PROCS_3URI STRING,\n",
        "  SEL_PROCS STRING,\n",
        "  SEL_PROC_DATE TIMESTAMP,\n",
        "  CREATED_DT TIMESTAMP,\n",
        "  CREATED_BY STRING,\n",
        "  UPDATED_DT TIMESTAMP,\n",
        "  UPDATED_BY STRING,\n",
        "  ROW_OPERATION STRING\n",
        ")\n",
        ";"
      ]
    },
    {
      "cell_type": "code",
      "execution_count": null,
      "metadata": {
        "id": "k1fDHOSJOyIx"
      },
      "outputs": [],
      "source": [
        "%%bigquery\n",
        "TRUNCATE TABLE original_v2.rapids_add_prog_info;\n",
        "LOAD DATA INTO original_v2.rapids_add_prog_info (\n",
        "  PS_ID INT64,\n",
        "  IS_SINGLE_EMP BOOL,\n",
        "  IS_MULTI_EMP BOOL,\n",
        "  IS_NATIONAL BOOL,\n",
        "  IS_LOCAL BOOL,\n",
        "  IS_NGS BOOL,\n",
        "  NGS_ID INT64,\n",
        "  IS_CBA BOOL,\n",
        "  IS_PREV_CRED_DOC_REQ BOOL,\n",
        "  PREV_CRED_DOC_DESC STRING,\n",
        "  IS_SEL_PROC BOOL,\n",
        "  SEL_PROCS_3URI STRING,\n",
        "  SEL_PROCS STRING,\n",
        "  SEL_PROC_DATE TIMESTAMP,\n",
        "  CREATED_DT TIMESTAMP,\n",
        "  CREATED_BY STRING,\n",
        "  UPDATED_DT TIMESTAMP,\n",
        "  UPDATED_BY STRING,\n",
        "  ROW_OPERATION STRING\n",
        ")\n",
        "FROM FILES(\n",
        "  format = 'CSV',\n",
        "  skip_leading_rows = 1,\n",
        "  allow_quoted_newlines = true,\n",
        "  uris = [\n",
        "    'gs://hks-almanac-storage-standard/v2/rapids/additional program info.csv'\n",
        "    ]\n",
        ")\n",
        ";"
      ]
    },
    {
      "cell_type": "markdown",
      "metadata": {
        "id": "ceLJml7BO0uS"
      },
      "source": [
        "# 3 - TPR\n",
        "\n",
        "It is an Excel file hosted on TPR website"
      ]
    },
    {
      "cell_type": "code",
      "execution_count": null,
      "metadata": {
        "id": "Kl-VMLfyO193"
      },
      "outputs": [],
      "source": [
        "# TPR paths\n",
        "tpr_original_dir = original_dir + \"tpr/\"\n",
        "tpr_standard_dir = standard_dir + \"tpr/\"\n",
        "\n",
        "# Create the TPR folders if they don't exist\n",
        "os.makedirs(tpr_original_dir, exist_ok=True)\n",
        "os.makedirs(tpr_standard_dir, exist_ok=True)"
      ]
    },
    {
      "cell_type": "markdown",
      "metadata": {
        "id": "8HpAKQdXO4U5"
      },
      "source": [
        "### Download original"
      ]
    },
    {
      "cell_type": "code",
      "execution_count": null,
      "metadata": {
        "id": "mOiWGJCUO6QL"
      },
      "outputs": [],
      "source": [
        "tpr_file_url = \"https://www.trainingproviderresults.gov/data/DownloadPrograms.xlsx\"\n",
        "tpr_local_file_name = \"DownloadPrograms.xlsx\""
      ]
    },
    {
      "cell_type": "code",
      "execution_count": null,
      "metadata": {
        "id": "0WQ63roeO7qS"
      },
      "outputs": [],
      "source": [
        "# This takes 1-5 minutes\n",
        "tpr_file_download_request = requests.get(tpr_file_url)"
      ]
    },
    {
      "cell_type": "code",
      "execution_count": null,
      "metadata": {
        "id": "Ogo9UVIxO86I"
      },
      "outputs": [],
      "source": [
        "# Save the TPR file to the original folder\n",
        "with open(tpr_original_dir + tpr_local_file_name, \"wb\") as f:\n",
        "    f.write(tpr_file_download_request.content)"
      ]
    },
    {
      "cell_type": "markdown",
      "metadata": {
        "id": "Sfx75PxAO-yd"
      },
      "source": [
        "### Upload original"
      ]
    },
    {
      "cell_type": "code",
      "execution_count": null,
      "metadata": {
        "id": "XVWPdForPAck"
      },
      "outputs": [],
      "source": [
        "tpr_original_blob = original_bucket.blob(\"v2/tpr/\" + tpr_local_file_name)\n",
        "tpr_original_blob.upload_from_filename(tpr_original_dir + tpr_local_file_name)"
      ]
    },
    {
      "cell_type": "markdown",
      "metadata": {
        "id": "OhEjay4oPCXh"
      },
      "source": [
        "### Standardize file format"
      ]
    },
    {
      "cell_type": "code",
      "execution_count": null,
      "metadata": {
        "id": "TWXT2gtgPDe-"
      },
      "outputs": [],
      "source": [
        "tpr_df = pd.read_excel(tpr_original_dir + tpr_local_file_name)\n",
        "# Convert the DataFrame to a CSV file\n",
        "tpr_df.to_csv(tpr_standard_dir + \"DownloadPrograms.csv\", index=False)"
      ]
    },
    {
      "cell_type": "markdown",
      "metadata": {
        "id": "_fZwV9m6PFjm"
      },
      "source": [
        "### Upload standardized files"
      ]
    },
    {
      "cell_type": "code",
      "execution_count": null,
      "metadata": {
        "id": "jkFEXC5LPHTj"
      },
      "outputs": [],
      "source": [
        "tpr_standard_blob = standard_bucket.blob(\"v2/tpr/DownloadPrograms.csv\")\n",
        "tpr_standard_blob.upload_from_filename(f\"{tpr_standard_dir}DownloadPrograms.csv\")"
      ]
    },
    {
      "cell_type": "markdown",
      "metadata": {
        "id": "4SNfqwpiPJac"
      },
      "source": [
        "### Load to BigQuery"
      ]
    },
    {
      "cell_type": "code",
      "execution_count": null,
      "metadata": {
        "id": "yX_h6FHQPKlS"
      },
      "outputs": [],
      "source": [
        "%%bigquery\n",
        "CREATE TABLE IF NOT EXISTS original_v2.tpr (\n",
        "    d101_eligible_training_provider STRING,\n",
        "    d103_provider_address STRING,\n",
        "    d104_entity_type STRING,\n",
        "    d105_program_name STRING,\n",
        "    d106_program_description STRING,\n",
        "    d107_program_url STRING,\n",
        "    d108_program INT64,\n",
        "    d109_associated_credential STRING,\n",
        "    d110_cip_code NUMERIC,\n",
        "    d111_non_wioa_tuition_cost NUMERIC,\n",
        "    d112_non_wioa_supplies_cost NUMERIC,\n",
        "    d113_program_length_hours INT64,\n",
        "    d114_program_length_weeks INT64,\n",
        "    d115_program_prerequisites INT64,\n",
        "    d116_program_format STRING,\n",
        "    d117_program_soc_occupation_1 STRING,\n",
        "    d118_program_soc_occupation_2 STRING,\n",
        "    d119_program_soc_occupation_3 STRING,\n",
        "    d120_total_served INT64,\n",
        "    d121_total_exited INT64,\n",
        "    d122_total_completed INT64,\n",
        "    d123_total_employed_q2 INT64,\n",
        "    d124_total_employed_q4 INT64,\n",
        "    d125_median_earnings NUMERIC,\n",
        "    d126_total_credential INT64,\n",
        "    d133_total_wioa_served INT64,\n",
        "    d134_total_wioa_exiters INT64,\n",
        "    d135_total_wioa_served_with_ita NUMERIC,\n",
        "    d136_total_wioa_exited_with_ita NUMERIC,\n",
        "    d137_total_wioa_completed INT64,\n",
        "    d138_cost_per_wioa_num NUMERIC,\n",
        "    d139_total_wioa_exiters_employed_q2 INT64,\n",
        "    d140_total_wioa_exiters_employed_q4 INT64,\n",
        "    d142_total_wioa_credential INT64,\n",
        "    c_wioa_completed_percent NUMERIC,\n",
        "    c_total_employed_WIOA_q2_percent NUMERIC,\n",
        "    c_total_employed_WIOA_q4_percent NUMERIC,\n",
        "    c_completed_percent NUMERIC,\n",
        "    c_total_emp_q2_perc_comp NUMERIC,\n",
        "    c_wioa_earned_cred_percent NUMERIC,\n",
        "    c_cost_per_wioa NUMERIC,\n",
        "    c_q2_employment_percent NUMERIC,\n",
        "    address STRING,\n",
        "    city STRING,\n",
        "    state STRING,\n",
        "    zip STRING,\n",
        "    lat FLOAT64,\n",
        "    long FLOAT64,\n",
        "    cip_formatted_4 NUMERIC,\n",
        "    reportingstate STRING,\n",
        "    CIP_Title STRING,\n",
        "    provider_unique_id INT64,\n",
        "    de129 INT64,\n",
        "    de130 INT64,\n",
        "    de170 INT64,\n",
        "    de171 INT64,\n",
        "    de172 STRING\n",
        ");"
      ]
    },
    {
      "cell_type": "code",
      "execution_count": null,
      "metadata": {
        "id": "WYISCzQcPMUi"
      },
      "outputs": [],
      "source": [
        "%%bigquery\n",
        "TRUNCATE TABLE original_v2.tpr;\n",
        "LOAD DATA INTO original_v2.tpr (\n",
        "    d101_eligible_training_provider STRING,\n",
        "    d103_provider_address STRING,\n",
        "    d104_entity_type STRING,\n",
        "    d105_program_name STRING,\n",
        "    d106_program_description STRING,\n",
        "    d107_program_url STRING,\n",
        "    d108_program INT64,\n",
        "    d109_associated_credential STRING,\n",
        "    d110_cip_code NUMERIC,\n",
        "    d111_non_wioa_tuition_cost NUMERIC,\n",
        "    d112_non_wioa_supplies_cost NUMERIC,\n",
        "    d113_program_length_hours INT64,\n",
        "    d114_program_length_weeks INT64,\n",
        "    d115_program_prerequisites INT64,\n",
        "    d116_program_format STRING,\n",
        "    d117_program_soc_occupation_1 STRING,\n",
        "    d118_program_soc_occupation_2 STRING,\n",
        "    d119_program_soc_occupation_3 STRING,\n",
        "    d120_total_served INT64,\n",
        "    d121_total_exited INT64,\n",
        "    d122_total_completed INT64,\n",
        "    d123_total_employed_q2 INT64,\n",
        "    d124_total_employed_q4 INT64,\n",
        "    d125_median_earnings NUMERIC,\n",
        "    d126_total_credential INT64,\n",
        "    d133_total_wioa_served INT64,\n",
        "    d134_total_wioa_exiters INT64,\n",
        "    d135_total_wioa_served_with_ita NUMERIC,\n",
        "    d136_total_wioa_exited_with_ita NUMERIC,\n",
        "    d137_total_wioa_completed INT64,\n",
        "    d138_cost_per_wioa_num NUMERIC,\n",
        "    d139_total_wioa_exiters_employed_q2 INT64,\n",
        "    d140_total_wioa_exiters_employed_q4 INT64,\n",
        "    d142_total_wioa_credential INT64,\n",
        "    c_wioa_completed_percent NUMERIC,\n",
        "    c_total_employed_WIOA_q2_percent NUMERIC,\n",
        "    c_total_employed_WIOA_q4_percent NUMERIC,\n",
        "    c_completed_percent NUMERIC,\n",
        "    c_total_emp_q2_perc_comp NUMERIC,\n",
        "    c_wioa_earned_cred_percent NUMERIC,\n",
        "    c_cost_per_wioa NUMERIC,\n",
        "    c_q2_employment_percent NUMERIC,\n",
        "    address STRING,\n",
        "    city STRING,\n",
        "    state STRING,\n",
        "    zip STRING,\n",
        "    lat FLOAT64,\n",
        "    long FLOAT64,\n",
        "    cip_formatted_4 NUMERIC,\n",
        "    reportingstate STRING,\n",
        "    CIP_Title STRING,\n",
        "    provider_unique_id INT64,\n",
        "    de129 INT64,\n",
        "    de130 INT64,\n",
        "    de170 INT64,\n",
        "    de171 INT64,\n",
        "    de172 STRING\n",
        ")\n",
        "FROM FILES(\n",
        "  format = 'CSV',\n",
        "  skip_leading_rows = 1,\n",
        "  allow_quoted_newlines = true,\n",
        "  uris = [\n",
        "    'gs://hks-almanac-storage-standard/v2/tpr/DownloadPrograms.csv'\n",
        "    ]\n",
        ")\n",
        ";"
      ]
    },
    {
      "cell_type": "markdown",
      "metadata": {
        "id": "fXT3yJEGPPLt"
      },
      "source": [
        "# 4 - IRS\n",
        "\n",
        "We start with processing the Business Master Files (BMF)"
      ]
    },
    {
      "cell_type": "code",
      "execution_count": null,
      "metadata": {
        "id": "NSn5o_LyPQYW"
      },
      "outputs": [],
      "source": [
        "# IRS paths\n",
        "irs_original_dir = original_dir + \"irs/\"\n",
        "irs_standard_dir = standard_dir + \"irs/\"\n",
        "\n",
        "# Create the IRS folders if they don't exist\n",
        "os.makedirs(irs_original_dir, exist_ok=True)\n",
        "os.makedirs(irs_standard_dir, exist_ok=True)"
      ]
    },
    {
      "cell_type": "code",
      "execution_count": null,
      "metadata": {
        "id": "j3WTCt56PRpj"
      },
      "outputs": [],
      "source": [
        "bmf_urls = [\n",
        "    \"https://www.irs.gov/pub/irs-soi/eo1.csv\",\n",
        "    \"https://www.irs.gov/pub/irs-soi/eo2.csv\",\n",
        "    \"https://www.irs.gov/pub/irs-soi/eo3.csv\",\n",
        "    \"https://www.irs.gov/pub/irs-soi/eo4.csv\",\n",
        "    \"https://www.irs.gov/pub/irs-soi/eo_xx.csv\",\n",
        "    \"https://www.irs.gov/pub/irs-soi/eo_pr.csv\"\n",
        "    ]"
      ]
    },
    {
      "cell_type": "code",
      "execution_count": null,
      "metadata": {
        "id": "oruUNu2BPTNc"
      },
      "outputs": [],
      "source": [
        "for url in bmf_urls:\n",
        "    file_name = url.split(\"/\")[-1]\n",
        "    print(f\"Downloading {file_name}...\")\n",
        "    response = requests.get(url)\n",
        "    with open(f\"{irs_original_dir}bmf/{file_name}\", \"wb\") as f:\n",
        "        f.write(response.content)"
      ]
    },
    {
      "cell_type": "code",
      "execution_count": null,
      "metadata": {
        "id": "nqJ9EwIuPUro"
      },
      "outputs": [],
      "source": [
        "# Concatenate the BMF files\n",
        "bmf_files = [x for x in os.listdir(f\"{irs_original_dir}bmf/\") if x.endswith(\".csv\")]\n",
        "dataframes = [pd.read_csv(f\"{irs_original_dir}bmf/{f}\") for f in bmf_files]\n",
        "bmf_df = pd.concat(dataframes, ignore_index=True)\n",
        "bmf_df.to_csv(f\"{irs_standard_dir}bmf.csv\", index=False)"
      ]
    },
    {
      "cell_type": "code",
      "execution_count": null,
      "metadata": {
        "id": "DRd5thjaPWP6"
      },
      "outputs": [],
      "source": [
        "df = pd.read_csv(f\"{irs_standard_dir}bmf.csv\")"
      ]
    },
    {
      "cell_type": "code",
      "execution_count": null,
      "metadata": {
        "id": "zXPyu6qDPY1o"
      },
      "outputs": [],
      "source": [
        "irs_standard_blob = standard_bucket.blob(\"v2/irs/bmf.csv\")\n",
        "irs_standard_blob.upload_from_filename(f\"{irs_standard_dir}bmf.csv\")"
      ]
    },
    {
      "cell_type": "code",
      "execution_count": null,
      "metadata": {
        "id": "Sa0o_BVTPajm"
      },
      "outputs": [],
      "source": [
        "%%bigquery\n",
        "CREATE TABLE IF NOT EXISTS original_v2.irs_bmf (\n",
        "  EIN STRING,\n",
        "  NAME STRING,\n",
        "  ICO STRING,\n",
        "  STREET STRING,\n",
        "  CITY STRING,\n",
        "  STATE STRING,\n",
        "  ZIP STRING,\n",
        "  `GROUP` INT64,\n",
        "  SUBSECTION INT64,\n",
        "  AFFILIATION INT64,\n",
        "  CLASSIFICATION INT64,\n",
        "  RULING INT64,\n",
        "  DEDUCTIBILITY INT64,\n",
        "  FOUNDATION INT64,\n",
        "  ACTIVITY INT64,\n",
        "  ORGANIZATION INT64,\n",
        "  STATUS INT64,\n",
        "  TAX_PERIOD STRING,\n",
        "  ASSET_CD INT64,\n",
        "  INCOME_CD INT64,\n",
        "  FILING_REQ_CD INT64,\n",
        "  PF_FILING_REQ_CD INT64,\n",
        "  ACCT_PD INT64,\n",
        "  ASSET_AMT FLOAT64,\n",
        "  INCOME_AMT FLOAT64,\n",
        "  REVENUE_AMT FLOAT64,\n",
        "  NTEE_CD STRING,\n",
        "  SORT_NAME STRING\n",
        ");"
      ]
    },
    {
      "cell_type": "code",
      "execution_count": null,
      "metadata": {
        "id": "tZg7Y3yWPcQ8"
      },
      "outputs": [],
      "source": [
        "%%bigquery\n",
        "TRUNCATE TABLE original_v2.irs_bmf;\n",
        "LOAD DATA INTO original_v2.irs_bmf (\n",
        "  EIN STRING,\n",
        "  NAME STRING,\n",
        "  ICO STRING,\n",
        "  STREET STRING,\n",
        "  CITY STRING,\n",
        "  STATE STRING,\n",
        "  ZIP STRING,\n",
        "  `GROUP` INT64,\n",
        "  SUBSECTION INT64,\n",
        "  AFFILIATION INT64,\n",
        "  CLASSIFICATION INT64,\n",
        "  RULING INT64,\n",
        "  DEDUCTIBILITY INT64,\n",
        "  FOUNDATION INT64,\n",
        "  ACTIVITY INT64,\n",
        "  ORGANIZATION INT64,\n",
        "  STATUS INT64,\n",
        "  TAX_PERIOD STRING,\n",
        "  ASSET_CD INT64,\n",
        "  INCOME_CD INT64,\n",
        "  FILING_REQ_CD INT64,\n",
        "  PF_FILING_REQ_CD INT64,\n",
        "  ACCT_PD INT64,\n",
        "  ASSET_AMT FLOAT64,\n",
        "  INCOME_AMT FLOAT64,\n",
        "  REVENUE_AMT FLOAT64,\n",
        "  NTEE_CD STRING,\n",
        "  SORT_NAME STRING\n",
        ")\n",
        "FROM FILES(\n",
        "  format = 'CSV',\n",
        "  skip_leading_rows = 1,\n",
        "  -- allow_quoted_newlines = true,\n",
        "  uris = [\n",
        "    'gs://hks-almanac-storage-standard/v2/irs/bmf.csv'\n",
        "    ]\n",
        ")\n",
        ";"
      ]
    },
    {
      "cell_type": "markdown",
      "metadata": {
        "id": "t2byCZW_PhIX"
      },
      "source": [
        "At this point, the latest copies of all of the original data sources are in the v2 folder of the original bucket (except IRS form 990 XML data which is handled in the next steps)"
      ]
    },
    {
      "cell_type": "markdown",
      "metadata": {
        "id": "7ykaMU4FQDZ3"
      },
      "source": [
        "\n",
        "\n",
        "The IRS XML data is hosted here:\n",
        "\n",
        "https://www.irs.gov/charities-non-profits/form-990-series-downloads\n",
        "\n",
        "We use the Form 990 (e-file) XML format.\n",
        "\n",
        "The data is available for the last 6 years."
      ]
    },
    {
      "cell_type": "code",
      "execution_count": null,
      "metadata": {
        "id": "soo4BYfvQ4Cd"
      },
      "outputs": [],
      "source": [
        "irs_xml_urls = {\n",
        "    \"2024\": [\n",
        "        \"https://apps.irs.gov/pub/epostcard/990/xml/2024/2024_TEOS_XML_01A.zip\",\n",
        "        \"https://apps.irs.gov/pub/epostcard/990/xml/2024/2024_TEOS_XML_02A.zip\",\n",
        "        \"https://apps.irs.gov/pub/epostcard/990/xml/2024/2024_TEOS_XML_03A.zip\",\n",
        "        \"https://apps.irs.gov/pub/epostcard/990/xml/2024/2024_TEOS_XML_04A.zip\",\n",
        "        \"https://apps.irs.gov/pub/epostcard/990/xml/2024/2024_TEOS_XML_05A.zip\",\n",
        "        \"https://apps.irs.gov/pub/epostcard/990/xml/2024/2024_TEOS_XML_06A.zip\",\n",
        "        \"https://apps.irs.gov/pub/epostcard/990/xml/2024/2024_TEOS_XML_07A.zip\",\n",
        "        \"https://apps.irs.gov/pub/epostcard/990/xml/2024/2024_TEOS_XML_08A.zip\",\n",
        "        \"https://apps.irs.gov/pub/epostcard/990/xml/2024/2024_TEOS_XML_09A.zip\",\n",
        "        \"https://apps.irs.gov/pub/epostcard/990/xml/2024/2024_TEOS_XML_10A.zip\",\n",
        "        \"https://apps.irs.gov/pub/epostcard/990/xml/2024/2024_TEOS_XML_11A.zip\",\n",
        "        \"https://apps.irs.gov/pub/epostcard/990/xml/2024/2024_TEOS_XML_12A.zip\",\n",
        "    ],\n",
        "    \"2023\": [\n",
        "        \"https://apps.irs.gov/pub/epostcard/990/xml/2023/2023_TEOS_XML_01A.zip\",\n",
        "        \"https://apps.irs.gov/pub/epostcard/990/xml/2023/2023_TEOS_XML_02A.zip\",\n",
        "        \"https://apps.irs.gov/pub/epostcard/990/xml/2023/2023_TEOS_XML_03A.zip\",\n",
        "        \"https://apps.irs.gov/pub/epostcard/990/xml/2023/2023_TEOS_XML_04A.zip\",\n",
        "        \"https://apps.irs.gov/pub/epostcard/990/xml/2023/2023_TEOS_XML_05A.zip\",\n",
        "        \"https://apps.irs.gov/pub/epostcard/990/xml/2023/2023_TEOS_XML_06A.zip\",\n",
        "        \"https://apps.irs.gov/pub/epostcard/990/xml/2023/2023_TEOS_XML_07A.zip\",\n",
        "        \"https://apps.irs.gov/pub/epostcard/990/xml/2023/2023_TEOS_XML_08A.zip\",\n",
        "        \"https://apps.irs.gov/pub/epostcard/990/xml/2023/2023_TEOS_XML_09A.zip\",\n",
        "        \"https://apps.irs.gov/pub/epostcard/990/xml/2023/2023_TEOS_XML_10A.zip\",\n",
        "        \"https://apps.irs.gov/pub/epostcard/990/xml/2023/2023_TEOS_XML_11A.zip\",\n",
        "        \"https://apps.irs.gov/pub/epostcard/990/xml/2023/2023_TEOS_XML_12A.zip\",\n",
        "    ],\n",
        "}\n",
        "skipped_years = \"\"\"\n",
        "    \"2022\": [\n",
        "        \"https://apps.irs.gov/pub/epostcard/990/xml/2022/2022_TEOS_XML_01A.zip\",\n",
        "        \"https://apps.irs.gov/pub/epostcard/990/xml/2022/2022_TEOS_XML_01B.zip\",\n",
        "        \"https://apps.irs.gov/pub/epostcard/990/xml/2022/2022_TEOS_XML_01C.zip\",\n",
        "        \"https://apps.irs.gov/pub/epostcard/990/xml/2022/2022_TEOS_XML_01D.zip\",\n",
        "        \"https://apps.irs.gov/pub/epostcard/990/xml/2022/2022_TEOS_XML_01E.zip\",\n",
        "        \"https://apps.irs.gov/pub/epostcard/990/xml/2022/2022_TEOS_XML_01F.zip\",\n",
        "        \"https://apps.irs.gov/pub/epostcard/990/xml/2022/2022_TEOS_XML_11A.zip\",\n",
        "        \"https://apps.irs.gov/pub/epostcard/990/xml/2022/2022_TEOS_XML_11B.zip\",\n",
        "        \"https://apps.irs.gov/pub/epostcard/990/xml/2022/2022_TEOS_XML_11C.zip\",\n",
        "    ],\n",
        "    \"2021\": [\n",
        "        \"https://apps.irs.gov/pub/epostcard/990/xml/2021/2021_TEOS_XML_01A.zip\",\n",
        "        \"https://apps.irs.gov/pub/epostcard/990/xml/2021/2021_TEOS_XML_01B.zip\",\n",
        "        \"https://apps.irs.gov/pub/epostcard/990/xml/2021/2021_TEOS_XML_01C.zip\",\n",
        "        \"https://apps.irs.gov/pub/epostcard/990/xml/2021/2021_TEOS_XML_01D.zip\",\n",
        "        \"https://apps.irs.gov/pub/epostcard/990/xml/2021/2021_TEOS_XML_01E.zip\",\n",
        "        \"https://apps.irs.gov/pub/epostcard/990/xml/2021/2021_TEOS_XML_01F.zip\",\n",
        "        \"https://apps.irs.gov/pub/epostcard/990/xml/2021/2021_TEOS_XML_01G.zip\",\n",
        "        \"https://apps.irs.gov/pub/epostcard/990/xml/2021/2021_TEOS_XML_01H.zip\",\n",
        "    ],\n",
        "    \"2020\": [\n",
        "        \"https://apps.irs.gov/pub/epostcard/990/xml/2020/2020_TEOS_XML_CT1.zip\",\n",
        "        \"https://apps.irs.gov/pub/epostcard/990/xml/2020/download990xml_2020_1.zip\",\n",
        "        \"https://apps.irs.gov/pub/epostcard/990/xml/2020/download990xml_2020_2.zip\",\n",
        "        \"https://apps.irs.gov/pub/epostcard/990/xml/2020/download990xml_2020_3.zip\",\n",
        "        \"https://apps.irs.gov/pub/epostcard/990/xml/2020/download990xml_2020_4.zip\",\n",
        "        \"https://apps.irs.gov/pub/epostcard/990/xml/2020/download990xml_2020_5.zip\",\n",
        "        \"https://apps.irs.gov/pub/epostcard/990/xml/2020/download990xml_2020_6.zip\",\n",
        "        \"https://apps.irs.gov/pub/epostcard/990/xml/2020/download990xml_2020_7.zip\",\n",
        "        \"https://apps.irs.gov/pub/epostcard/990/xml/2020/download990xml_2020_8.zip\",\n",
        "    ],\n",
        "}\n",
        "\"\"\""
      ]
    },
    {
      "cell_type": "code",
      "execution_count": null,
      "metadata": {
        "id": "ERbgKcugQ50t"
      },
      "outputs": [],
      "source": [
        "# Download the IRS data\n",
        "for year, urls in irs_xml_urls.items():\n",
        "    # Create the year folder if it doesn't exist\n",
        "    os.makedirs(irs_original_dir + year, exist_ok=True)\n",
        "    for url in urls:\n",
        "        file_name = url.split(\"/\")[-1]\n",
        "        print(f\"Downloading {file_name} from {url}...\")\n",
        "        request = requests.get(url)\n",
        "        with open(irs_original_dir + year + \"/\" + file_name, \"wb\") as f:\n",
        "            f.write(request.content)"
      ]
    },
    {
      "cell_type": "code",
      "execution_count": null,
      "metadata": {
        "id": "Vfh4c7qwQ83m"
      },
      "outputs": [],
      "source": [
        "# Upload the IRS data to the original bucket\n",
        "for year in irs_xml_urls.keys():\n",
        "    for file_name in os.listdir(irs_original_dir + year):\n",
        "        blob = original_bucket.blob(f\"v2/irs/{year}/{file_name}\")\n",
        "        blob.upload_from_filename(f\"{irs_original_dir}{year}/{file_name}\")"
      ]
    },
    {
      "cell_type": "markdown",
      "metadata": {
        "id": "bDVF6ah5Q-wY"
      },
      "source": [
        "### Uncompress files\n",
        "\n",
        "In order to process the XML files we need to extract them from the zipped files. However, the source zip files are arbitrarily compressed with multiple compression algorithms, one of which is proprietary -`Deflate64`-.\n",
        "\n",
        "We use 7z command line tool to extract the files."
      ]
    },
    {
      "cell_type": "markdown",
      "metadata": {
        "id": "mOxFQ_bvRZDY"
      },
      "source": [
        "Make sure the directory is clean before extracting files. Use caution with the next script!"
      ]
    },
    {
      "cell_type": "code",
      "execution_count": null,
      "metadata": {
        "id": "B7br7nc8Re8I"
      },
      "outputs": [],
      "source": [
        "!rm -rf \"/content/standard/irs/2024/*\""
      ]
    },
    {
      "cell_type": "code",
      "execution_count": null,
      "metadata": {
        "id": "YC_YvTlCRgtm"
      },
      "outputs": [],
      "source": [
        "# Use 7z command line tool to extract all files one by one in the /content/original/irs/2024 directory\n",
        "\n",
        "!for zip_file in /content/original/irs/2024/*.zip; do 7z x \"$zip_file\" -o/content/standard/irs/2024/ -y; done"
      ]
    },
    {
      "cell_type": "code",
      "execution_count": null,
      "metadata": {
        "id": "TVdYDRdDRitG"
      },
      "outputs": [],
      "source": [
        "# Count the number of files in /content/standard/irs/2024\n",
        "\n",
        "!ls /content/standard/irs/2024 | wc -l"
      ]
    },
    {
      "cell_type": "markdown",
      "metadata": {
        "id": "4EgYzBVgR_jw"
      },
      "source": [
        "Repeat for 2023"
      ]
    },
    {
      "cell_type": "code",
      "execution_count": null,
      "metadata": {
        "id": "QNxc_8ODR8P6"
      },
      "outputs": [],
      "source": [
        "!rm -rf \"/content/standard/irs/2023/*\""
      ]
    },
    {
      "cell_type": "code",
      "execution_count": null,
      "metadata": {
        "id": "Cmz_oSTQSChl"
      },
      "outputs": [],
      "source": [
        "!for zip_file in /content/original/irs/2023/*.zip; do 7z x \"$zip_file\" -o/content/standard/irs/2023/ -y | grep -i \"extracting archive\"; done"
      ]
    },
    {
      "cell_type": "code",
      "execution_count": null,
      "metadata": {
        "id": "Uu0Gt8p1Ry6D"
      },
      "outputs": [],
      "source": [
        "columns = [\n",
        "    \"return_timestamp\",\n",
        "    \"tax_period_end_date\",\n",
        "    \"ein\",\n",
        "    \"business_name\",\n",
        "    \"phone\",\n",
        "    \"address\",\n",
        "    \"city\",\n",
        "    \"state\",\n",
        "    \"zip\",\n",
        "    \"website\",\n",
        "    \"formation_year\",\n",
        "    \"activity_or_mission\",\n",
        "    \"voting_members_governing\",\n",
        "    \"voting_members_independent\",\n",
        "    \"total_employees\",\n",
        "    \"total_volunteers\",\n",
        "    \"contributions_and_grants_previous_year\",\n",
        "    \"contributions_and_grants_current_year\",\n",
        "    \"program_service_revenue_previous_year\",\n",
        "    \"program_service_revenue_current_year\",\n",
        "    \"investment_income_previous_year\",\n",
        "    \"investment_income_current_year\",\n",
        "    \"other_revenue_previous_year\",\n",
        "    \"other_revenue_current_year\",\n",
        "    \"total_revenue_previous_year\",\n",
        "    \"total_revenue_current_year\",\n",
        "    \"grants_and_similar_paid_previous_year\",\n",
        "    \"grants_and_similar_paid_current_year\",\n",
        "    \"benefits_paid_to_members_previous_year\",\n",
        "    \"benefits_paid_to_members_current_year\",\n",
        "    \"salaries_compensation_employee_benefits_previous_year\",\n",
        "    \"salaries_compensation_employee_benefits_current_year\",\n",
        "    \"total_professional_fundraising_expenses_previous_year\",\n",
        "    \"total_professional_fundraising_expenses_current_year\",\n",
        "    \"total_fundraising_expenses_current_year\",\n",
        "    \"other_expenses_previous_year\",\n",
        "    \"other_expenses_current_year\",\n",
        "    \"total_expenses_previous_year\",\n",
        "    \"total_expenses_current_year\",\n",
        "    \"revenues_less_expenses_previous_year\",\n",
        "    \"revenues_less_expenses_current_year\",\n",
        "    \"total_assets_beginning_of_year\",\n",
        "    \"total_assets_end_of_year\",\n",
        "    \"total_liabilities_beginning_of_year\",\n",
        "    \"total_liabilities_end_of_year\",\n",
        "    \"net_assets_or_fund_balances_beginning_of_year\",\n",
        "    \"net_assets_or_fund_balances_end_of_year\",\n",
        "    \"mission_description\",\n",
        "    \"primary_program_description\",\n",
        "    \"secondary_program_description\",\n",
        "    \"tertiary_program_description\",\n",
        "    \"key_person_name\",\n",
        "    \"key_person_title\",\n",
        "    \"key_person_salary\",\n",
        "    \"states_where_form_990_filed\",\n",
        "    \"states_where_form_990_filed_count\",\n",
        "]"
      ]
    },
    {
      "cell_type": "code",
      "execution_count": null,
      "metadata": {
        "id": "DSa9DZZtR1vn"
      },
      "outputs": [],
      "source": [
        "# Data extraction function\n",
        "def process_xml(file):\n",
        "    relevant_data = {}\n",
        "    root = ET.parse(file).getroot()\n",
        "\n",
        "    # Remove namespace from all tags in the root\n",
        "    for elem in root.iter():\n",
        "        if \"}\" in elem.tag:\n",
        "            elem.tag = elem.tag.split(\"}\", 1)[1]\n",
        "\n",
        "    # ReturnHeader and sub elements\n",
        "    return_header = root.find(\"ReturnHeader\")\n",
        "    filer = return_header.find(\"Filer\")\n",
        "    business_name_element = filer.find(\"BusinessName\")\n",
        "    us_address = filer.find(\"USAddress\")\n",
        "\n",
        "    # ReturnHeader columns\n",
        "    return_timestamp = return_header.find(\"ReturnTs\").text\n",
        "    tax_period_end_date = return_header.find(\"TaxPeriodEndDt\").text\n",
        "    ein = filer.find(\"EIN\").text\n",
        "    business_name = business_name_element.find(\"BusinessNameLine1Txt\").text\n",
        "    phone = filer.find(\"PhoneNum\").text if filer.find(\"PhoneNum\") is not None else None\n",
        "    if us_address is not None:\n",
        "        address = us_address.find(\"AddressLine1Txt\").text\n",
        "        city = us_address.find(\"CityNm\").text\n",
        "        state = us_address.find(\"StateAbbreviationCd\").text\n",
        "        zip_code = us_address.find(\"ZIPCd\").text\n",
        "    else:\n",
        "        address = None\n",
        "        city = None\n",
        "        state = None\n",
        "        zip_code = None\n",
        "\n",
        "    # ReturnHeader column assignment\n",
        "    relevant_data[\"return_timestamp\"] = return_timestamp\n",
        "    relevant_data[\"tax_period_end_date\"] = tax_period_end_date\n",
        "    relevant_data[\"ein\"] = ein\n",
        "    relevant_data[\"business_name\"] = business_name\n",
        "    relevant_data[\"address\"] = address\n",
        "    relevant_data[\"city\"] = city\n",
        "    relevant_data[\"state\"] = state\n",
        "    relevant_data[\"zip\"] = zip_code\n",
        "    relevant_data[\"phone\"] = phone\n",
        "\n",
        "    # ReturnData sub elements\n",
        "    return_data = root.find(\"ReturnData\")\n",
        "    irs990 = return_data.find(\"IRS990\")\n",
        "    # Not all files have irs 990 data, assign the rest of the columns to None and return\n",
        "    if irs990 is None:\n",
        "        relevant_data[\"website\"] = None\n",
        "        relevant_data[\"formation_year\"] = None\n",
        "        relevant_data[\"activity_or_mission\"] = None\n",
        "        relevant_data[\"voting_members_governing\"] = None\n",
        "        relevant_data[\"voting_members_independent\"] = None\n",
        "        relevant_data[\"total_employees\"] = None\n",
        "        relevant_data[\"total_volunteers\"] = None\n",
        "        relevant_data[\"contributions_and_grants_previous_year\"] = None\n",
        "        relevant_data[\"contributions_and_grants_current_year\"] = None\n",
        "        relevant_data[\"program_service_revenue_previous_year\"] = None\n",
        "        relevant_data[\"program_service_revenue_current_year\"] = None\n",
        "        relevant_data[\"investment_income_previous_year\"] = None\n",
        "        relevant_data[\"investment_income_current_year\"] = None\n",
        "        relevant_data[\"other_revenue_previous_year\"] = None\n",
        "        relevant_data[\"other_revenue_current_year\"] = None\n",
        "        relevant_data[\"total_revenue_previous_year\"] = None\n",
        "        relevant_data[\"total_revenue_current_year\"] = None\n",
        "        relevant_data[\"grants_and_similar_paid_previous_year\"] = None\n",
        "        relevant_data[\"grants_and_similar_paid_current_year\"] = None\n",
        "        relevant_data[\"benefits_paid_to_members_previous_year\"] = None\n",
        "        relevant_data[\"benefits_paid_to_members_current_year\"] = None\n",
        "        relevant_data[\"salaries_compensation_employee_benefits_previous_year\"] = None\n",
        "        relevant_data[\"salaries_compensation_employee_benefits_current_year\"] = None\n",
        "        relevant_data[\"total_professional_fundraising_expenses_previous_year\"] = None\n",
        "        relevant_data[\"total_professional_fundraising_expenses_current_year\"] = None\n",
        "        relevant_data[\"total_fundraising_expenses_current_year\"] = None\n",
        "        relevant_data[\"other_expenses_previous_year\"] = None\n",
        "        relevant_data[\"other_expenses_current_year\"] = None\n",
        "        relevant_data[\"total_expenses_previous_year\"] = None\n",
        "        relevant_data[\"total_expenses_current_year\"] = None\n",
        "        relevant_data[\"revenues_less_expenses_previous_year\"] = None\n",
        "        relevant_data[\"revenues_less_expenses_current_year\"] = None\n",
        "        relevant_data[\"total_assets_beginning_of_year\"] = None\n",
        "        relevant_data[\"total_assets_end_of_year\"] = None\n",
        "        relevant_data[\"total_liabilities_beginning_of_year\"] = None\n",
        "        relevant_data[\"total_liabilities_end_of_year\"] = None\n",
        "        relevant_data[\"net_assets_or_fund_balances_beginning_of_year\"] = None\n",
        "        relevant_data[\"net_assets_or_fund_balances_end_of_year\"] = None\n",
        "        relevant_data[\"mission_description\"] = None\n",
        "        relevant_data[\"primary_program_description\"] = None\n",
        "        relevant_data[\"secondary_program_description\"] = None\n",
        "        relevant_data[\"tertiary_program_description\"] = None\n",
        "        relevant_data[\"key_person_name\"] = None\n",
        "        relevant_data[\"key_person_title\"] = None\n",
        "        relevant_data[\"key_person_salary\"] = None\n",
        "        relevant_data[\"states_where_form_990_filed\"] = None\n",
        "        relevant_data[\"states_where_form_990_filed_count\"] = None\n",
        "        return relevant_data\n",
        "\n",
        "    form990_part_vii_section_a_grp = irs990.find(\"Form990PartVIISectionAGrp\")\n",
        "    prog_srvc_accom_acty_2_grp = irs990.find(\"ProgSrvcAccomActy2Grp\")\n",
        "    prog_srvc_accom_acty_3_grp = irs990.find(\"ProgSrvcAccomActy3Grp\")\n",
        "\n",
        "\n",
        "    # ReturnData columns\n",
        "    website = irs990.find(\"WebsiteAddressTxt\").text if irs990.find(\"WebsiteAddressTxt\") is not None else None\n",
        "    formation_year = irs990.find(\"FormationYr\").text if irs990.find(\"FormationYr\") is not None else None\n",
        "    activity_or_mission = irs990.find(\"ActivityOrMissionDesc\").text\n",
        "    voting_members_governing = irs990.find(\"VotingMembersGoverningBodyCnt\").text\n",
        "    voting_members_independent = irs990.find(\"VotingMembersIndependentCnt\").text\n",
        "    total_employees = irs990.find(\"TotalEmployeeCnt\").text\n",
        "    total_volunteers = irs990.find(\"TotalVolunteersCnt\").text if irs990.find(\"TotalVolunteersCnt\") is not None else None\n",
        "    contributions_and_grants_previous_year = irs990.find(\"PYContributionsGrantsAmt\").text if irs990.find(\"PYContributionsGrantsAmt\") is not None else None\n",
        "    contributions_and_grants_current_year = irs990.find(\"CYContributionsGrantsAmt\").text\n",
        "    program_service_revenue_previous_year = irs990.find(\"PYProgramServiceRevenueAmt\").text if irs990.find(\"PYProgramServiceRevenueAmt\") is not None else None\n",
        "    program_service_revenue_current_year = irs990.find(\"CYProgramServiceRevenueAmt\").text\n",
        "    investment_income_previous_year = irs990.find(\"PYInvestmentIncomeAmt\").text if irs990.find(\"PYInvestmentIncomeAmt\") is not None else None\n",
        "    investment_income_current_year = irs990.find(\"CYInvestmentIncomeAmt\").text\n",
        "    other_revenue_previous_year = irs990.find(\"PYOtherRevenueAmt\").text if irs990.find(\"PYOtherRevenueAmt\") is not None else None\n",
        "    other_revenue_current_year = irs990.find(\"CYOtherRevenueAmt\").text\n",
        "    total_revenue_previous_year = irs990.find(\"PYTotalRevenueAmt\").text if irs990.find(\"PYTotalRevenueAmt\") is not None else None\n",
        "    total_revenue_current_year = irs990.find(\"CYTotalRevenueAmt\").text\n",
        "    grants_and_similar_paid_previous_year = irs990.find(\"PYGrantsAndSimilarPaidAmt\").text if irs990.find(\"PYGrantsAndSimilarPaidAmt\") is not None else None\n",
        "    grants_and_similar_paid_current_year = irs990.find(\"CYGrantsAndSimilarPaidAmt\").text\n",
        "    benefits_paid_to_members_previous_year = irs990.find(\"PYBenefitsPaidToMembersAmt\").text if irs990.find(\"PYBenefitsPaidToMembersAmt\") is not None else None\n",
        "    benefits_paid_to_members_current_year = irs990.find(\"CYBenefitsPaidToMembersAmt\").text\n",
        "    salaries_compensation_employee_benefits_previous_year = irs990.find(\"PYSalariesCompEmpBnftPaidAmt\").text if irs990.find(\"PYSalariesCompEmpBnftPaidAmt\") is not None else None\n",
        "    salaries_compensation_employee_benefits_current_year = irs990.find(\"CYSalariesCompEmpBnftPaidAmt\").text\n",
        "    total_professional_fundraising_expenses_previous_year = irs990.find(\"PYTotalProfFndrsngExpnsAmt\").text if irs990.find(\"PYTotalProfFndrsngExpnsAmt\") is not None else None\n",
        "    total_professional_fundraising_expenses_current_year = irs990.find(\"CYTotalProfFndrsngExpnsAmt\").text\n",
        "    total_fundraising_expenses_current_year = irs990.find(\"CYTotalFundraisingExpenseAmt\").text\n",
        "    other_expenses_previous_year = irs990.find(\"PYOtherExpensesAmt\").text if irs990.find(\"PYOtherExpensesAmt\") is not None else None\n",
        "    other_expenses_current_year = irs990.find(\"CYOtherExpensesAmt\").text\n",
        "    total_expenses_previous_year = irs990.find(\"PYTotalExpensesAmt\").text if irs990.find(\"PYTotalExpensesAmt\") is not None else None\n",
        "    total_expenses_current_year = irs990.find(\"CYTotalExpensesAmt\").text\n",
        "    revenues_less_expenses_previous_year = irs990.find(\"PYRevenuesLessExpensesAmt\").text if irs990.find(\"PYRevenuesLessExpensesAmt\") is not None else None\n",
        "    revenues_less_expenses_current_year = irs990.find(\"CYRevenuesLessExpensesAmt\").text\n",
        "    total_assets_beginning_of_year = irs990.find(\"TotalAssetsBOYAmt\").text if irs990.find(\"TotalAssetsBOYAmt\") is not None else None\n",
        "    total_assets_end_of_year = irs990.find(\"TotalAssetsEOYAmt\").text\n",
        "    total_liabilities_beginning_of_year = irs990.find(\"TotalLiabilitiesBOYAmt\").text if irs990.find(\"TotalLiabilitiesBOYAmt\") is not None else None\n",
        "    total_liabilities_end_of_year = irs990.find(\"TotalLiabilitiesEOYAmt\").text\n",
        "    net_assets_or_fund_balances_beginning_of_year = irs990.find(\"NetAssetsOrFundBalancesBOYAmt\").text if irs990.find(\"NetAssetsOrFundBalancesBOYAmt\") is not None else None\n",
        "    net_assets_or_fund_balances_end_of_year = irs990.find(\"NetAssetsOrFundBalancesEOYAmt\").text\n",
        "    mission_description = irs990.find(\"MissionDesc\").text if irs990.find(\"MissionDesc\") is not None else None\n",
        "    primary_program_description = irs990.find(\"Desc\").text\n",
        "    if prog_srvc_accom_acty_2_grp is not None:\n",
        "        if prog_srvc_accom_acty_2_grp.find(\"Desc\") is not None:\n",
        "            secondary_program_description = prog_srvc_accom_acty_2_grp.find(\"Desc\").text\n",
        "        else:\n",
        "            secondary_program_description = None\n",
        "    else:\n",
        "        secondary_program_description = None\n",
        "    if prog_srvc_accom_acty_3_grp is not None:\n",
        "        if prog_srvc_accom_acty_3_grp.find(\"Desc\") is not None:\n",
        "            tertiary_program_description = prog_srvc_accom_acty_3_grp.find(\"Desc\").text\n",
        "        else:\n",
        "            tertiary_program_description = None\n",
        "    else:\n",
        "        tertiary_program_description = None\n",
        "    if form990_part_vii_section_a_grp is not None:\n",
        "        if form990_part_vii_section_a_grp.find(\"PersonNm\") is not None:\n",
        "            key_person_name = form990_part_vii_section_a_grp.find(\"PersonNm\").text\n",
        "        else:\n",
        "            key_person_name = None\n",
        "        if form990_part_vii_section_a_grp.find(\"TitleTxt\") is not None:\n",
        "            key_person_title = form990_part_vii_section_a_grp.find(\"TitleTxt\").text\n",
        "        else:\n",
        "            key_person_title = None\n",
        "        if form990_part_vii_section_a_grp.find(\"ReportableCompFromOrgAmt\") is not None:\n",
        "            key_person_salary = form990_part_vii_section_a_grp.find(\"ReportableCompFromOrgAmt\").text\n",
        "        else:\n",
        "            key_person_salary = None\n",
        "    else:\n",
        "        key_person_name = None\n",
        "        key_person_title = None\n",
        "        key_person_salary = None\n",
        "    states_where_form_990_filed_list = irs990.findall(\"StatesWhereCopyOfReturnIsFldCd\")\n",
        "    states_where_form_990_filed_count = len(states_where_form_990_filed_list)\n",
        "    states_where_form_990_filed = \",\".join(sorted([state.text for state in states_where_form_990_filed_list]))\n",
        "\n",
        "\n",
        "    # ReturnData column assignment\n",
        "    relevant_data[\"website\"] = website\n",
        "    relevant_data[\"formation_year\"] = formation_year\n",
        "    relevant_data[\"activity_or_mission\"] = activity_or_mission\n",
        "    relevant_data[\"voting_members_governing\"] = voting_members_governing\n",
        "    relevant_data[\"voting_members_independent\"] = voting_members_independent\n",
        "    relevant_data[\"total_employees\"] = total_employees\n",
        "    relevant_data[\"total_volunteers\"] = total_volunteers\n",
        "    relevant_data[\"contributions_and_grants_previous_year\"] = contributions_and_grants_previous_year\n",
        "    relevant_data[\"contributions_and_grants_current_year\"] = contributions_and_grants_current_year\n",
        "    relevant_data[\"program_service_revenue_previous_year\"] = program_service_revenue_previous_year\n",
        "    relevant_data[\"program_service_revenue_current_year\"] = program_service_revenue_current_year\n",
        "    relevant_data[\"investment_income_previous_year\"] = investment_income_previous_year\n",
        "    relevant_data[\"investment_income_current_year\"] = investment_income_current_year\n",
        "    relevant_data[\"other_revenue_previous_year\"] = other_revenue_previous_year\n",
        "    relevant_data[\"other_revenue_current_year\"] = other_revenue_current_year\n",
        "    relevant_data[\"total_revenue_previous_year\"] = total_revenue_previous_year\n",
        "    relevant_data[\"total_revenue_current_year\"] = total_revenue_current_year\n",
        "    relevant_data[\"grants_and_similar_paid_previous_year\"] = grants_and_similar_paid_previous_year\n",
        "    relevant_data[\"grants_and_similar_paid_current_year\"] = grants_and_similar_paid_current_year\n",
        "    relevant_data[\"benefits_paid_to_members_previous_year\"] = benefits_paid_to_members_previous_year\n",
        "    relevant_data[\"benefits_paid_to_members_current_year\"] = benefits_paid_to_members_current_year\n",
        "    relevant_data[\"salaries_compensation_employee_benefits_previous_year\"] = salaries_compensation_employee_benefits_previous_year\n",
        "    relevant_data[\"salaries_compensation_employee_benefits_current_year\"] = salaries_compensation_employee_benefits_current_year\n",
        "    relevant_data[\"total_professional_fundraising_expenses_previous_year\"] = total_professional_fundraising_expenses_previous_year\n",
        "    relevant_data[\"total_professional_fundraising_expenses_current_year\"] = total_professional_fundraising_expenses_current_year\n",
        "    relevant_data[\"total_fundraising_expenses_current_year\"] = total_fundraising_expenses_current_year\n",
        "    relevant_data[\"other_expenses_previous_year\"] = other_expenses_previous_year\n",
        "    relevant_data[\"other_expenses_current_year\"] = other_expenses_current_year\n",
        "    relevant_data[\"total_expenses_previous_year\"] = total_expenses_previous_year\n",
        "    relevant_data[\"total_expenses_current_year\"] = total_expenses_current_year\n",
        "    relevant_data[\"revenues_less_expenses_previous_year\"] = revenues_less_expenses_previous_year\n",
        "    relevant_data[\"revenues_less_expenses_current_year\"] = revenues_less_expenses_current_year\n",
        "    relevant_data[\"total_assets_beginning_of_year\"] = total_assets_beginning_of_year\n",
        "    relevant_data[\"total_assets_end_of_year\"] = total_assets_end_of_year\n",
        "    relevant_data[\"total_liabilities_beginning_of_year\"] = total_liabilities_beginning_of_year\n",
        "    relevant_data[\"total_liabilities_end_of_year\"] = total_liabilities_end_of_year\n",
        "    relevant_data[\"net_assets_or_fund_balances_beginning_of_year\"] = net_assets_or_fund_balances_beginning_of_year\n",
        "    relevant_data[\"net_assets_or_fund_balances_end_of_year\"] = net_assets_or_fund_balances_end_of_year\n",
        "    relevant_data[\"mission_description\"] = mission_description\n",
        "    relevant_data[\"primary_program_description\"] = primary_program_description\n",
        "    relevant_data[\"secondary_program_description\"] = secondary_program_description\n",
        "    relevant_data[\"tertiary_program_description\"] = tertiary_program_description\n",
        "    relevant_data[\"key_person_name\"] = key_person_name\n",
        "    relevant_data[\"key_person_title\"] = key_person_title\n",
        "    relevant_data[\"key_person_salary\"] = key_person_salary\n",
        "    relevant_data[\"states_where_form_990_filed\"] = states_where_form_990_filed\n",
        "    relevant_data[\"states_where_form_990_filed_count\"] = states_where_form_990_filed_count\n",
        "\n",
        "    # output = json.dumps(relevant_data)\n",
        "    return relevant_data"
      ]
    },
    {
      "cell_type": "code",
      "execution_count": null,
      "metadata": {
        "id": "mK9_9T4yR3mD"
      },
      "outputs": [],
      "source": [
        "years = [\"2023\", \"2024\"]"
      ]
    },
    {
      "cell_type": "code",
      "execution_count": null,
      "metadata": {
        "id": "5PFb7o4nR42Z"
      },
      "outputs": [],
      "source": [
        "for year in years:\n",
        "    csv_file_name = f\"irs-990-extract-{year}.csv\"\n",
        "    csv_file_path = f\"{irs_standard_dir}{csv_file_name}\"\n",
        "    file_list = glob.glob(f\"{irs_standard_dir}{year}/*.xml\")\n",
        "    print(f\"Files to process: {len(file_list)}\")\n",
        "    with open(csv_file_path, \"w\", newline=\"\", encoding=\"utf-8\") as csvfile:\n",
        "        writer = csv.DictWriter(csvfile, fieldnames=columns)\n",
        "        writer.writeheader()\n",
        "        i = 0\n",
        "        for file in file_list:\n",
        "            data = process_xml(file)\n",
        "            writer.writerow(data)\n",
        "            if i % 100000 == 0:\n",
        "                print(i, \"files processed from year\", year, \"at\", time.strftime(\"%H:%M:%S\", time.localtime()))\n",
        "            i += 1\n",
        "    # Upload the file to the standard bucket\n",
        "    blob = standard_bucket.blob(f\"v2/irs/{csv_file_name}\")\n",
        "    blob.upload_from_filename(csv_file_path)"
      ]
    },
    {
      "cell_type": "code",
      "execution_count": null,
      "metadata": {
        "id": "ILcWo5baSKLB"
      },
      "outputs": [],
      "source": [
        "%%bigquery\n",
        "CREATE TABLE IF NOT EXISTS standardized_v2.irs_990_2023 (\n",
        "    return_timestamp TIMESTAMP,\n",
        "    tax_period_end_date DATE,\n",
        "    ein STRING,\n",
        "    business_name STRING,\n",
        "    phone STRING,\n",
        "    address STRING,\n",
        "    city STRING,\n",
        "    state STRING,\n",
        "    zip STRING,\n",
        "    website STRING,\n",
        "    formation_year INT64,\n",
        "    activity_or_mission STRING,\n",
        "    voting_members_governing INT64,\n",
        "    voting_members_independent INT64,\n",
        "    total_employees INT64,\n",
        "    total_volunteers INT64,\n",
        "    contributions_and_grants_previous_year FLOAT64,\n",
        "    contributions_and_grants_current_year FLOAT64,\n",
        "    program_service_revenue_previous_year FLOAT64,\n",
        "    program_service_revenue_current_year FLOAT64,\n",
        "    investment_income_previous_year FLOAT64,\n",
        "    investment_income_current_year FLOAT64,\n",
        "    other_revenue_previous_year FLOAT64,\n",
        "    other_revenue_current_year FLOAT64,\n",
        "    total_revenue_previous_year FLOAT64,\n",
        "    total_revenue_current_year FLOAT64,\n",
        "    grants_and_similar_paid_previous_year FLOAT64,\n",
        "    grants_and_similar_paid_current_year FLOAT64,\n",
        "    benefits_paid_to_members_previous_year FLOAT64,\n",
        "    benefits_paid_to_members_current_year FLOAT64,\n",
        "    salaries_compensation_employee_benefits_previous_year FLOAT64,\n",
        "    salaries_compensation_employee_benefits_current_year FLOAT64,\n",
        "    total_professional_fundraising_expenses_previous_year FLOAT64,\n",
        "    total_professional_fundraising_expenses_current_year FLOAT64,\n",
        "    total_fundraising_expenses_current_year FLOAT64,\n",
        "    other_expenses_previous_year FLOAT64,\n",
        "    other_expenses_current_year FLOAT64,\n",
        "    total_expenses_previous_year FLOAT64,\n",
        "    total_expenses_current_year FLOAT64,\n",
        "    revenues_less_expenses_previous_year FLOAT64,\n",
        "    revenues_less_expenses_current_year FLOAT64,\n",
        "    total_assets_beginning_of_year FLOAT64,\n",
        "    total_assets_end_of_year FLOAT64,\n",
        "    total_liabilities_beginning_of_year FLOAT64,\n",
        "    total_liabilities_end_of_year FLOAT64,\n",
        "    net_assets_or_fund_balances_beginning_of_year FLOAT64,\n",
        "    net_assets_or_fund_balances_end_of_year FLOAT64,\n",
        "    mission_description STRING,\n",
        "    primary_program_description STRING,\n",
        "    secondary_program_description STRING,\n",
        "    tertiary_program_description STRING,\n",
        "    key_person_name STRING,\n",
        "    key_person_title STRING,\n",
        "    key_person_salary FLOAT64,\n",
        "    states_where_form_990_filed STRING,\n",
        "    states_where_form_990_filed_count INT64\n",
        ")"
      ]
    },
    {
      "cell_type": "code",
      "execution_count": null,
      "metadata": {
        "id": "MnWFw4emSL00"
      },
      "outputs": [],
      "source": [
        "%%bigquery\n",
        "TRUNCATE TABLE standardized_v2.irs_990_2023;\n",
        "LOAD DATA INTO standardized_v2.irs_990_2023 (\n",
        "    return_timestamp TIMESTAMP,\n",
        "    tax_period_end_date DATE,\n",
        "    ein STRING,\n",
        "    business_name STRING,\n",
        "    phone STRING,\n",
        "    address STRING,\n",
        "    city STRING,\n",
        "    state STRING,\n",
        "    zip STRING,\n",
        "    website STRING,\n",
        "    formation_year INT64,\n",
        "    activity_or_mission STRING,\n",
        "    voting_members_governing INT64,\n",
        "    voting_members_independent INT64,\n",
        "    total_employees INT64,\n",
        "    total_volunteers INT64,\n",
        "    contributions_and_grants_previous_year FLOAT64,\n",
        "    contributions_and_grants_current_year FLOAT64,\n",
        "    program_service_revenue_previous_year FLOAT64,\n",
        "    program_service_revenue_current_year FLOAT64,\n",
        "    investment_income_previous_year FLOAT64,\n",
        "    investment_income_current_year FLOAT64,\n",
        "    other_revenue_previous_year FLOAT64,\n",
        "    other_revenue_current_year FLOAT64,\n",
        "    total_revenue_previous_year FLOAT64,\n",
        "    total_revenue_current_year FLOAT64,\n",
        "    grants_and_similar_paid_previous_year FLOAT64,\n",
        "    grants_and_similar_paid_current_year FLOAT64,\n",
        "    benefits_paid_to_members_previous_year FLOAT64,\n",
        "    benefits_paid_to_members_current_year FLOAT64,\n",
        "    salaries_compensation_employee_benefits_previous_year FLOAT64,\n",
        "    salaries_compensation_employee_benefits_current_year FLOAT64,\n",
        "    total_professional_fundraising_expenses_previous_year FLOAT64,\n",
        "    total_professional_fundraising_expenses_current_year FLOAT64,\n",
        "    total_fundraising_expenses_current_year FLOAT64,\n",
        "    other_expenses_previous_year FLOAT64,\n",
        "    other_expenses_current_year FLOAT64,\n",
        "    total_expenses_previous_year FLOAT64,\n",
        "    total_expenses_current_year FLOAT64,\n",
        "    revenues_less_expenses_previous_year FLOAT64,\n",
        "    revenues_less_expenses_current_year FLOAT64,\n",
        "    total_assets_beginning_of_year FLOAT64,\n",
        "    total_assets_end_of_year FLOAT64,\n",
        "    total_liabilities_beginning_of_year FLOAT64,\n",
        "    total_liabilities_end_of_year FLOAT64,\n",
        "    net_assets_or_fund_balances_beginning_of_year FLOAT64,\n",
        "    net_assets_or_fund_balances_end_of_year FLOAT64,\n",
        "    mission_description STRING,\n",
        "    primary_program_description STRING,\n",
        "    secondary_program_description STRING,\n",
        "    tertiary_program_description STRING,\n",
        "    key_person_name STRING,\n",
        "    key_person_title STRING,\n",
        "    key_person_salary FLOAT64,\n",
        "    states_where_form_990_filed STRING,\n",
        "    states_where_form_990_filed_count INT64\n",
        ")\n",
        "FROM FILES(\n",
        "  format = 'CSV',\n",
        "  skip_leading_rows = 1,\n",
        "  -- allow_quoted_newlines = true,\n",
        "  uris = [\n",
        "    'gs://hks-almanac-storage-standard/v2/irs/irs-990-extract-2023.csv'\n",
        "    ]\n",
        ")\n",
        ";"
      ]
    },
    {
      "cell_type": "markdown",
      "metadata": {
        "id": "Q1GAsTvCSQvA"
      },
      "source": [
        "# Extract the standard set of columns\n",
        "In this notebook, we extract the relevant set of columns from each original dataset to create a unified set of organizations. Some of these organizations will be duplicate because they are present in multiple datasets. We will run deduplication steps in the next notebook"
      ]
    },
    {
      "cell_type": "markdown",
      "metadata": {
        "id": "uCi3S1ItSS65"
      },
      "source": [
        "## 1 - RAPIDS"
      ]
    },
    {
      "cell_type": "code",
      "execution_count": null,
      "metadata": {
        "id": "sFNAcugfSQcg"
      },
      "outputs": [],
      "source": [
        "%%bigquery\n",
        "CREATE OR REPLACE TABLE standardized_v2.rapids AS\n",
        "WITH multi_employer_filter AS (\n",
        "  SELECT rp.*\n",
        "  FROM original_v2.rapids_program AS rp\n",
        "  LEFT JOIN original_v2.rapids_add_prog_info AS api ON api.PS_ID = rp.PS_ID\n",
        "  WHERE api.IS_MULTI_EMP\n",
        "  ),\n",
        "\n",
        "  bring_city_data AS (\n",
        "    SELECT DISTINCT m.*, d.ProgCity\n",
        "    FROM multi_employer_filter AS m\n",
        "    LEFT JOIN original.dol_program AS d ON m.PS_ID = d.PsID\n",
        "  ),\n",
        "\n",
        "programs_with_standardized_address AS (\n",
        "  SELECT\n",
        "    UPPER(COALESCE(PROG_ADDR, \"\")) AS std_street,\n",
        "    UPPER(COALESCE(CAST(ProgCity AS STRING), \"\")) AS std_city,\n",
        "    UPPER(COALESCE(PROG_STATE, \"\")) AS std_state,\n",
        "    UPPER(COALESCE(PROG_ZIP5, \"\")) AS std_zip,\n",
        "    *\n",
        "  FROM bring_city_data\n",
        "  WHERE PROG_STATUS = 'Registered'\n",
        "    -- AND ORG_TYPE = 'Multi-Employer' -- Applied above\n",
        "    AND ACTIVE_APPRCT > 0\n",
        "    AND PROG_NAME IS NOT NULL\n",
        "),\n",
        "standardized_rapids AS (\n",
        "  SELECT DISTINCT\n",
        "    reference.standardize_org_name(p.PROG_NAME) AS org_name,\n",
        "    CONCAT(p.std_street, ' ', p.std_city, ' ', p.std_state, ' ', p.std_zip) AS org_address,\n",
        "    p.PS_NUM,\n",
        "    p.PS_ID,\n",
        "    p.std_street,\n",
        "    p.std_city,\n",
        "    p.std_state,\n",
        "    p.std_zip,\n",
        "    p.ORG_TYPE,\n",
        "    a.ONET_SOC_CD AS soc_code,\n",
        "    p.PROG_NAME AS program_name,\n",
        "    p.ACTIVE_APPRCT AS active_apprentice_count,\n",
        "    p.PROG_STATUS AS program_status,\n",
        "    p.PROVISIONAL_REVIEW AS provisional_review,\n",
        "    p.PROG_TYPE,\n",
        "    p.REGISTERED_DT,\n",
        "    p.OTHER_ORG_TYPE,\n",
        "    p.OTHER_PROG_TYPE,\n",
        "    p.SIC_CD,\n",
        "    p.EIN AS ein,\n",
        "    FALSE AS in_ipeds,\n",
        "    FALSE AS in_irs,\n",
        "    TRUE AS in_rapids,\n",
        "    FALSE AS in_tpr\n",
        "  FROM programs_with_standardized_address AS p\n",
        "  LEFT JOIN original_v2.rapids_apprentice AS a ON a.ps_Id = p.Ps_ID\n",
        ")\n",
        "SELECT\n",
        "  TO_HEX(MD5(UPPER(CONCAT(org_name, COALESCE(c.output_address, d.org_address, ''))))) AS org_id,\n",
        "  PS_ID AS rapids_unique_id,\n",
        "  SPLIT(c.lat_lon, ',')[OFFSET(1)] AS geo_lat,\n",
        "  SPLIT(c.lat_lon, ',')[OFFSET(0)] AS geo_lon,\n",
        "  *\n",
        "FROM standardized_rapids AS d\n",
        "LEFT JOIN reference.census_gov_address_output AS c ON TO_HEX(MD5(REPLACE(d.org_address, '\"', ''))) = c.address_id\n",
        ";\n",
        "\n"
      ]
    },
    {
      "cell_type": "markdown",
      "metadata": {
        "id": "yxnZ3FDiSXju"
      },
      "source": [
        "## 2 - IPEDS\n"
      ]
    },
    {
      "cell_type": "code",
      "execution_count": null,
      "metadata": {
        "id": "IEwc5CVCSZnV"
      },
      "outputs": [],
      "source": [
        "%%bigquery\n",
        "CREATE OR REPLACE TABLE standardized_v2.ipeds AS\n",
        "WITH hd_with_standardized_address AS (\n",
        "    SELECT\n",
        "      UPPER(COALESCE(ADDR, \"\")) AS std_street,\n",
        "      UPPER(COALESCE(CITY, \"\")) AS std_city,\n",
        "      UPPER(COALESCE(STABBR, \"\")) AS std_state,\n",
        "      UPPER(COALESCE(ZIP, \"\")) AS std_zip,\n",
        "      *\n",
        "    FROM original_v2.ipeds_hd_2022\n",
        "    -- WHERE INSTCAT IN (3, 4, 6)\n",
        "),\n",
        "standardized_ipeds AS (\n",
        "  SELECT DISTINCT\n",
        "    reference.standardize_org_name(INSTNM) AS org_name,\n",
        "    CONCAT(std_street, ' ', std_city, ' ', std_state, ' ', std_zip) AS org_address,\n",
        "    hd.UNITID,\n",
        "    std_street,\n",
        "    std_city,\n",
        "    std_state,\n",
        "    std_zip,\n",
        "    LATITUDE AS geo_lat,\n",
        "    LONGITUD AS geo_lon,\n",
        "    hd.INSTCAT AS org_type,\n",
        "    hd.ICLEVEL AS ic_level,\n",
        "    hd.WEBADDR AS website,\n",
        "    hd.ein AS ein,\n",
        "    TRUE AS in_ipeds,\n",
        "    FALSE AS in_irs,\n",
        "    FALSE AS in_rapids,\n",
        "    FALSE AS in_tpr\n",
        "  FROM hd_with_standardized_address AS hd\n",
        "  -- LEFT JOIN original_v2.ipeds_ic_2022 AS ic ON hd.UNITID = ic.UNITID\n",
        "  -- LEFT JOIN original.ipeds_ef_2020  AS ef ON hd.UNITID = ef.UNITID\n",
        ")\n",
        "SELECT\n",
        "  TO_HEX(MD5(UPPER(CONCAT(org_name, COALESCE(c.output_address, d.org_address, ''))))) AS org_id,\n",
        "  d.UNITID AS ipeds_unique_id,\n",
        "  *\n",
        "FROM standardized_ipeds AS d\n",
        "LEFT JOIN reference.census_gov_address_output AS c ON TO_HEX(MD5(REPLACE(d.org_address, '\"', ''))) = c.address_id\n",
        ";\n",
        "\n"
      ]
    },
    {
      "cell_type": "markdown",
      "metadata": {
        "id": "if_8pCGtSb7y"
      },
      "source": [
        "## 3 - TPR"
      ]
    },
    {
      "cell_type": "code",
      "execution_count": null,
      "metadata": {
        "id": "hjaavghVScaR"
      },
      "outputs": [],
      "source": [
        "%%bigquery\n",
        "CREATE OR REPLACE TABLE standardized_v2.tpr AS\n",
        "WITH tpr_with_standardized_address AS (\n",
        "  SELECT\n",
        "    UPPER(COALESCE(address, \"\")) AS std_street,\n",
        "    UPPER(COALESCE(city, \"\")) AS std_city,\n",
        "    UPPER(COALESCE(state, \"\")) AS std_state,\n",
        "    UPPER(COALESCE(zip, \"\")) AS std_zip,\n",
        "    *\n",
        "  FROM original_v2.tpr\n",
        "),\n",
        "standardized_tpr AS (\n",
        "  SELECT DISTINCT\n",
        "    reference.standardize_org_name(d101_eligible_training_provider) AS org_name,\n",
        "    CONCAT(std_street, ' ', std_city, ' ', std_state, ' ', std_zip) AS org_address,\n",
        "    provider_unique_id,\n",
        "    std_street,\n",
        "    std_city,\n",
        "    std_state,\n",
        "    std_zip,\n",
        "    lat AS geo_lat,\n",
        "    long AS geo_lon,\n",
        "    d104_entity_type AS org_type,\n",
        "    d110_cip_code AS cip_code,\n",
        "    CIP_Title AS cip_title,\n",
        "    cip_formatted_4 AS cip_formatted,\n",
        "    d117_program_soc_occupation_1,\n",
        "    d118_program_soc_occupation_2,\n",
        "    d119_program_soc_occupation_3,\n",
        "    d105_program_name AS program_name,\n",
        "    d106_program_description AS program_description,\n",
        "    d107_program_url AS website,\n",
        "    d109_associated_credential AS credential_name,\n",
        "    d116_program_format,\n",
        "    FALSE AS in_ipeds,\n",
        "    FALSE AS in_irs,\n",
        "    FALSE AS in_rapids,\n",
        "    TRUE AS in_tpr\n",
        "  FROM tpr_with_standardized_address\n",
        ")\n",
        "SELECT\n",
        "  TO_HEX(MD5(UPPER(CONCAT(org_name, COALESCE(c.output_address, d.org_address, ''))))) AS org_id,\n",
        "  provider_unique_id AS tpr_unique_id,\n",
        "  *\n",
        "FROM standardized_tpr AS d\n",
        "LEFT JOIN reference.census_gov_address_output AS c ON TO_HEX(MD5(REPLACE(d.org_address, '\"', ''))) = c.address_id\n",
        ";\n"
      ]
    },
    {
      "cell_type": "markdown",
      "metadata": {
        "id": "TyEEbmM1Sh_7"
      },
      "source": [
        "## 4 - IRS"
      ]
    },
    {
      "cell_type": "code",
      "execution_count": null,
      "metadata": {
        "id": "ByvDInGYShd8"
      },
      "outputs": [],
      "source": [
        "%%bigquery\n",
        "CREATE OR REPLACE TABLE standardized_v2.irs_bmf AS\n",
        "WITH bmf_with_standardized_address AS (\n",
        "  SELECT\n",
        "    UPPER(COALESCE(STREET, \"\")) AS std_street,\n",
        "    UPPER(COALESCE(CITY, \"\")) AS std_city,\n",
        "    UPPER(COALESCE(STATE, \"\")) AS std_state,\n",
        "    UPPER(COALESCE(ZIP, \"\")) AS std_zip,\n",
        "    *\n",
        "  FROM original_v2.irs_bmf\n",
        "  WHERE NTEE_CD LIKE ANY (\n",
        "    'B30%', 'B41%', 'B60%',\n",
        "    'J20%', 'J21%', 'J22%',\n",
        "    'J30%', 'J32%', 'J33%'\n",
        "    )\n",
        "),\n",
        "standardized_irs_bmf AS (\n",
        "  SELECT DISTINCT\n",
        "    reference.standardize_org_name(NAME) AS org_name,\n",
        "    CONCAT(std_street, ' ', std_city, ' ', std_state, ' ', std_zip) AS org_address,\n",
        "    EIN,\n",
        "    std_street,\n",
        "    std_city,\n",
        "    std_state,\n",
        "    std_zip,\n",
        "    NTEE_CD AS org_type,\n",
        "    NULL AS soc_code,\n",
        "    NULL AS cip_code,\n",
        "    NULL AS program_name,\n",
        "    NULL AS credential_name,\n",
        "    FALSE AS in_ipeds,\n",
        "    TRUE AS in_irs,\n",
        "    FALSE AS in_rapids,\n",
        "    FALSE AS in_tpr\n",
        "  FROM bmf_with_standardized_address\n",
        ")\n",
        "SELECT\n",
        "  TO_HEX(MD5(UPPER(CONCAT(org_name, COALESCE(c.output_address, d.org_address, ''))))) AS org_id,\n",
        "  EIN AS irs_unique_id,\n",
        "  SPLIT(c.lat_lon, ',')[OFFSET(1)] AS geo_lat,\n",
        "  SPLIT(c.lat_lon, ',')[OFFSET(0)] AS geo_lon,\n",
        "  *\n",
        "FROM standardized_irs_bmf AS d\n",
        "LEFT JOIN reference.census_gov_address_output AS c ON TO_HEX(MD5(REPLACE(d.org_address, '\"', ''))) = c.address_id\n",
        ";\n"
      ]
    },
    {
      "cell_type": "markdown",
      "metadata": {
        "id": "0nnhzRk_SnbP"
      },
      "source": [
        "Update: 2025-04-10\n",
        "\n",
        "Exclude orgs where revenue is not from 2022 or 2023\n"
      ]
    },
    {
      "cell_type": "code",
      "execution_count": null,
      "metadata": {
        "id": "a14jPz_SSo_G"
      },
      "outputs": [],
      "source": [
        "%%bigquery\n",
        "DELETE\n",
        "FROM standardized_v2.irs_bmf\n",
        "WHERE irs_unique_id IN (SELECT DISTINCT EIN FROM standardized_v2.irs_990_2023_invalid_years)"
      ]
    },
    {
      "cell_type": "markdown",
      "metadata": {
        "id": "bZm__5P-SqkD"
      },
      "source": [
        "## Combine datasets"
      ]
    },
    {
      "cell_type": "code",
      "execution_count": null,
      "metadata": {
        "id": "uWgBBCCrStSC"
      },
      "outputs": [],
      "source": [
        "%%bigquery\n",
        "-- This step merges (unions) all data sources into a single data set\n",
        "-- This is the first step of deduplication (notice the DISTINCT keyword in each SELECT)\n",
        "CREATE OR REPLACE TABLE deduped_v2.organizations_combined AS\n",
        "\n",
        "SELECT DISTINCT\n",
        "  'rapids' AS data_source,\n",
        "  org_name,\n",
        "  org_id,\n",
        "  NULL AS ipeds_unique_id,\n",
        "  CAST(NULL AS STRING) AS irs_unique_id,\n",
        "  rapids_unique_id,\n",
        "  NULL AS tpr_unique_id,\n",
        "  COALESCE(output_address, org_address) AS org_address,\n",
        "  std_street,\n",
        "  std_city,\n",
        "  std_state,\n",
        "  std_zip,\n",
        "  CAST(geo_lat AS NUMERIC) AS geo_lat,\n",
        "  CAST(geo_lon AS NUMERIC) AS geo_lon,\n",
        "  org_type,\n",
        "  CAST(ein AS STRING) AS ein,\n",
        "  in_ipeds,\n",
        "  in_irs,\n",
        "  in_rapids,\n",
        "  in_tpr\n",
        "FROM standardized_v2.rapids\n",
        "\n",
        "UNION ALL\n",
        "\n",
        "SELECT DISTINCT\n",
        "  'ipeds' AS data_source,\n",
        "  org_name,\n",
        "  org_id,\n",
        "  ipeds_unique_id,\n",
        "  CAST(NULL AS STRING) AS irs_unique_id,\n",
        "  NULL AS rapids_unique_id,\n",
        "  NULL AS tpr_unique_id,\n",
        "  COALESCE(output_address, org_address) AS org_address,\n",
        "  std_street,\n",
        "  std_city,\n",
        "  std_state,\n",
        "  std_zip,\n",
        "  geo_lat,\n",
        "  geo_lon,\n",
        "  CAST(org_type AS STRING),\n",
        "  CAST(ein AS STRING) AS ein,\n",
        "  in_ipeds,\n",
        "  in_irs,\n",
        "  in_rapids,\n",
        "  in_tpr\n",
        "FROM standardized_v2.ipeds\n",
        "\n",
        "UNION ALL\n",
        "\n",
        "SELECT DISTINCT\n",
        "  'irs' AS data_source,\n",
        "  org_name,\n",
        "  org_id,\n",
        "  NULL AS ipeds_unique_id,\n",
        "  irs_unique_id,\n",
        "  NULL AS rapids_unique_id,\n",
        "  NULL AS tpr_unique_id,\n",
        "  COALESCE(output_address, org_address) AS org_address,\n",
        "  std_street,\n",
        "  std_city,\n",
        "  std_state,\n",
        "  std_zip,\n",
        "  CAST(geo_lat AS NUMERIC) AS geo_lat,\n",
        "  CAST(geo_lon AS NUMERIC) AS geo_lon,\n",
        "  org_type,\n",
        "  ein,\n",
        "  in_ipeds,\n",
        "  in_irs,\n",
        "  in_rapids,\n",
        "  in_tpr\n",
        "FROM standardized_v2.irs_bmf\n",
        "\n",
        "UNION ALL\n",
        "\n",
        "SELECT DISTINCT\n",
        "  'tpr' AS data_source,\n",
        "  org_name,\n",
        "  org_id,\n",
        "  NULL AS ipeds_unique_id,\n",
        "  CAST(NULL AS STRING) AS irs_unique_id,\n",
        "  NULL AS rapids_unique_id,\n",
        "  tpr_unique_id,\n",
        "  COALESCE(output_address, org_address) AS org_address,\n",
        "  std_street,\n",
        "  std_city,\n",
        "  std_state,\n",
        "  std_zip,\n",
        "  geo_lat,\n",
        "  geo_lon,\n",
        "  org_type,\n",
        "  CAST(NULL AS STRING) AS ein,\n",
        "  in_ipeds,\n",
        "  in_irs,\n",
        "  in_rapids,\n",
        "  in_tpr\n",
        "FROM standardized_v2.tpr\n",
        ";"
      ]
    },
    {
      "cell_type": "markdown",
      "metadata": {
        "id": "tqhQSzpXSw7d"
      },
      "source": [
        "# Deduplication\n",
        "\n",
        "This lengthy step uses the logic provided by the Almanac team to dedupe organizations based on their original data source and org type\n",
        "\n",
        "https://workforcealmanac.com/methodology\n"
      ]
    },
    {
      "cell_type": "markdown",
      "metadata": {
        "id": "HzvFzOZMTFaM"
      },
      "source": [
        "The ANALYSIS and ACTION steps are repeated for all data sources"
      ]
    },
    {
      "cell_type": "markdown",
      "metadata": {
        "id": "7ZF0cCXAS98n"
      },
      "source": [
        "**ANALYSIS**: Let's start by checking for duplicates in each data source using combined organizations data set."
      ]
    },
    {
      "cell_type": "code",
      "execution_count": null,
      "metadata": {
        "id": "GY0nn9ZtS_aX"
      },
      "outputs": [],
      "source": [
        "%%bigquery\n",
        "SELECT data_source, COUNT(*) AS org_count, COUNT(DISTINCT org_id) AS unique_org_count\n",
        "FROM deduped_v2.organizations_combined\n",
        "GROUP BY data_source\n",
        "ORDER BY data_source"
      ]
    },
    {
      "cell_type": "markdown",
      "metadata": {
        "id": "3E7yLhSUTBgc"
      },
      "source": [
        "\n",
        "## IPEDS\n",
        "\n",
        "The first step is to select all orgs from IPEDS. Query results above states that there are no duplicate orgs in ipeds"
      ]
    },
    {
      "cell_type": "markdown",
      "metadata": {
        "id": "2daALJ-_TEUf"
      },
      "source": [
        "**ACTION**: Persist the results"
      ]
    },
    {
      "cell_type": "code",
      "execution_count": null,
      "metadata": {
        "id": "1L1T-hS4TMkV"
      },
      "outputs": [],
      "source": [
        "%%bigquery\n",
        "CREATE OR REPLACE TABLE deduped_v2.step_1_ipeds AS\n",
        "SELECT\n",
        "  CASE\n",
        "    WHEN org_type = '3' THEN 'Degree-granting, not primarily baccalaureate or above'\n",
        "    WHEN org_type = '4' THEN 'Degree-granting, Associates and certificates'\n",
        "    WHEN org_type = '6' THEN 'Nondegree-granting, sub-baccalaureate'\n",
        "  END AS chosen_org_type,\n",
        "  1 AS data_source_priority,\n",
        "  *\n",
        "FROM deduped_v2.organizations_combined\n",
        "WHERE data_source = 'ipeds'\n",
        "QUALIFY ROW_NUMBER() OVER (PARTITION BY org_id ORDER BY org_type DESC) = 1\n",
        ";"
      ]
    },
    {
      "cell_type": "markdown",
      "metadata": {
        "id": "TC4oULMLTOsg"
      },
      "source": [
        "**ACTION**: Create the unique orgs step by step"
      ]
    },
    {
      "cell_type": "code",
      "execution_count": null,
      "metadata": {
        "id": "GIAtkbkQTQMZ"
      },
      "outputs": [],
      "source": [
        "%%bigquery\n",
        "CREATE OR REPLACE TABLE deduped_v2.unique_orgs_sbs AS\n",
        "SELECT *\n",
        "FROM deduped_v2.step_1_ipeds\n",
        ";"
      ]
    },
    {
      "cell_type": "markdown",
      "metadata": {
        "id": "XiyRhj96TRmp"
      },
      "source": [
        "**ANALYSIS**: How many orgs are left per data source? Note that the `WHERE`  clause excludes the orgs that are already added"
      ]
    },
    {
      "cell_type": "code",
      "execution_count": null,
      "metadata": {
        "id": "ghRKwbe8TS9E"
      },
      "outputs": [],
      "source": [
        "%%bigquery\n",
        "WITH tmp1 AS (\n",
        "  SELECT o.*\n",
        "  FROM deduped_v2.organizations_combined AS o\n",
        "  LEFT JOIN deduped_v2.step_1_ipeds AS i ON o.org_id = i.org_id\n",
        "  WHERE i.org_id IS NULL\n",
        ")\n",
        "SELECT data_source, COUNT(*) AS org_count, COUNT(DISTINCT org_id) AS unique_org_count\n",
        "FROM tmp1\n",
        "GROUP BY data_source\n",
        ";"
      ]
    },
    {
      "cell_type": "code",
      "execution_count": null,
      "metadata": {
        "id": "RemGEFMITVL1"
      },
      "outputs": [],
      "source": [
        "%%bigquery\n",
        "-- Step 1.2: IRS and B41\n",
        "\n",
        "WITH tmp1 AS (\n",
        "  SELECT o.*\n",
        "  FROM deduped_v2.organizations_combined AS o\n",
        "  LEFT JOIN deduped_v2.step_1_ipeds AS i ON o.org_id = i.org_id\n",
        "  WHERE i.org_id IS NULL\n",
        ")\n",
        "-- ANALYSIS: Are they all unique orgs\n",
        "SELECT COUNT(*) AS number_of_orgs, COUNT(DISTINCT org_id) AS number_of_unique_orgs\n",
        "FROM tmp1\n",
        "WHERE data_source = 'irs' AND org_type LIKE 'B41%'\n",
        ";"
      ]
    },
    {
      "cell_type": "code",
      "execution_count": null,
      "metadata": {
        "id": "hZayrOrvTXbC"
      },
      "outputs": [],
      "source": [
        "%%bigquery\n",
        "-- Yes, all unique\n",
        "-- COUNT: 330 orgs\n",
        "-- ACTION: Persist orgs in Step 1.2 - IRS\n",
        "CREATE OR REPLACE TABLE deduped_v2.step_1_irs AS\n",
        "WITH tmp1 AS (\n",
        "  SELECT o.*\n",
        "  FROM deduped_v2.organizations_combined AS o\n",
        "  LEFT JOIN deduped_v2.step_1_ipeds AS i ON o.org_id = i.org_id\n",
        "  WHERE i.org_id IS NULL\n",
        ")\n",
        "SELECT 'Other higher education institution' AS chosen_org_type, 2 AS data_source_priority, *\n",
        "FROM tmp1\n",
        "WHERE data_source = 'irs' AND org_type LIKE 'B41%'\n",
        ";"
      ]
    },
    {
      "cell_type": "code",
      "execution_count": null,
      "metadata": {
        "id": "feyOBKk1TY2_"
      },
      "outputs": [],
      "source": [
        "%%bigquery\n",
        "-- ACTION: Regenerate the novel data set by combining the above two mutually exclusive sets (UNION ALL)\n",
        "CREATE OR REPLACE TABLE deduped_v2.unique_orgs_sbs AS\n",
        "SELECT *\n",
        "FROM deduped_v2.step_1_ipeds\n",
        "\n",
        "UNION ALL\n",
        "\n",
        "SELECT *\n",
        "FROM deduped_v2.step_1_irs\n",
        ";"
      ]
    },
    {
      "cell_type": "code",
      "execution_count": null,
      "metadata": {
        "id": "s__TJRAWTaTJ"
      },
      "outputs": [],
      "source": [
        "%%bigquery\n",
        "\n",
        "-- QUESTION: How many orgs are left per data source now?\n",
        "-- Use this from now on\n",
        "\n",
        "WITH tmp1 AS (\n",
        "  SELECT o.*\n",
        "  FROM deduped_v2.organizations_combined AS o\n",
        "  LEFT JOIN deduped_v2.unique_orgs_sbs AS n ON o.org_id = n.org_id\n",
        "  WHERE n.org_id IS NULL\n",
        ")\n",
        "SELECT data_source, COUNT(*) AS org_count, COUNT(DISTINCT org_id) AS unique_org_count\n",
        "FROM tmp1\n",
        "GROUP BY data_source\n",
        ";\n"
      ]
    },
    {
      "cell_type": "code",
      "execution_count": null,
      "metadata": {
        "id": "jfuWgVqATcGU"
      },
      "outputs": [],
      "source": [
        "%%bigquery\n",
        "-- Step 1.3 - TPR - Higher Ed\n",
        "-- Are there any duplicates?\n",
        "WITH tmp1 AS (\n",
        "  SELECT o.*\n",
        "  FROM deduped_v2.organizations_combined AS o\n",
        "  LEFT JOIN deduped_v2.unique_orgs_sbs AS n ON o.org_id = n.org_id\n",
        "  WHERE n.org_id IS NULL\n",
        ")\n",
        "SELECT COUNT(*) AS row_count, COUNT(DISTINCT org_id) AS unique_count\n",
        "FROM tmp1\n",
        "WHERE data_source = 'tpr' AND lower(org_type) LIKE '%higher ed:%'\n",
        ";"
      ]
    },
    {
      "cell_type": "code",
      "execution_count": null,
      "metadata": {
        "id": "8HLxL_q-Td1b"
      },
      "outputs": [],
      "source": [
        "%%bigquery\n",
        "-- Yes 81 of them are duplicates\n",
        "-- We can use the prioritization logic in Almanac Methodology to break the ties\n",
        "CREATE OR REPLACE TABLE deduped_v2.sbs_excluded AS\n",
        "WITH selection AS (\n",
        "SELECT o.*,\n",
        "  CASE\n",
        "    WHEN lower(o.org_type) = lower('Higher Ed: Certificate of Completion') THEN 1\n",
        "    WHEN lower(o.org_type) = lower('Higher Ed: Baccalaureate or Higher') THEN 2\n",
        "    WHEN lower(o.org_type) = lower('Higher Ed: Associate\\'s Degree') THEN 3\n",
        "  END AS priority\n",
        "FROM deduped_v2.organizations_combined AS o\n",
        "LEFT JOIN deduped_v2.unique_orgs_sbs AS n ON o.org_id = n.org_id\n",
        "WHERE n.org_id IS NULL AND o.data_source = 'tpr' AND lower(o.org_type) LIKE '%higher ed:%'\n",
        "--QUALIFY COUNT(*) OVER (PARTITION BY org_id) > 1\n",
        ")\n",
        "SELECT 'Other higher education institution' AS chosen_org_type,\n",
        "  3 AS data_source_priority,\n",
        "  * EXCEPT (priority)\n",
        "FROM selection\n",
        "QUALIFY ROW_NUMBER() OVER (PARTITION BY org_id ORDER BY priority) > 1\n",
        "ORDER BY org_id\n",
        ";"
      ]
    },
    {
      "cell_type": "code",
      "execution_count": null,
      "metadata": {
        "id": "9fnIHNaBGLxr"
      },
      "outputs": [],
      "source": [
        "%%bigquery\n",
        "SELECT data_source, COUNT(*) AS org_count, COUNT(DISTINCT org_id) AS unique_org_count\n",
        "FROM deduped_v2.sbs_excluded\n",
        "GROUP BY data_source\n"
      ]
    },
    {
      "cell_type": "code",
      "execution_count": null,
      "metadata": {
        "id": "C8RUVCK7TfhZ"
      },
      "outputs": [],
      "source": [
        "%%bigquery\n",
        "-- ACTION: Add TPR to the novel dataset at this point before moving to the next stage\n",
        "CREATE OR REPLACE TABLE deduped_v2.unique_orgs_sbs AS\n",
        "SELECT *\n",
        "FROM deduped_v2.step_1_ipeds\n",
        "\n",
        "UNION ALL\n",
        "\n",
        "SELECT *\n",
        "FROM deduped_v2.step_1_irs\n",
        "\n",
        "UNION ALL\n",
        "\n",
        "SELECT *\n",
        "FROM deduped_v2.step_1_tpr\n",
        ";"
      ]
    },
    {
      "cell_type": "code",
      "execution_count": null,
      "metadata": {
        "id": "CPhokxDoGTgm"
      },
      "outputs": [],
      "source": [
        "%%bigquery\n",
        "SELECT data_source, COUNT(*) AS org_count, COUNT(DISTINCT org_id) AS unique_org_count\n",
        "FROM deduped_v2.unique_orgs_sbs\n",
        "WHERE org_id IN (\n",
        "  SELECT org_id\n",
        "  FROM deduped_v2.sbs_excluded\n",
        ")\n",
        "GROUP BY data_source"
      ]
    },
    {
      "cell_type": "code",
      "execution_count": null,
      "metadata": {
        "id": "xtIw26haThHe"
      },
      "outputs": [],
      "source": [
        "%%bigquery\n",
        "-- Step 1.4 - RAPIDS - Community College\n",
        "\n",
        "-- Are there any duplicates?\n",
        "WITH tmp1 AS (\n",
        "  SELECT o.*\n",
        "  FROM deduped_v2.organizations_combined AS o\n",
        "  LEFT JOIN deduped_v2.unique_orgs_sbs AS n ON o.org_id = n.org_id\n",
        "  WHERE n.org_id IS NULL\n",
        ")\n",
        "SELECT COUNT(*) AS row_count, COUNT(DISTINCT org_id) AS unique_count\n",
        "FROM tmp1\n",
        "WHERE data_source = 'rapids' AND lower(org_type) LIKE lower('%Community College/University%')\n",
        ";"
      ]
    },
    {
      "cell_type": "code",
      "execution_count": null,
      "metadata": {
        "id": "JVCKHQdfTi1o"
      },
      "outputs": [],
      "source": [
        "%%bigquery\n",
        "-- ANSWER: No duplicates.\n",
        "-- ACTION: Select the one with the longest name as the representative in case there are dupes in the future runs\n",
        "CREATE OR REPLACE TABLE deduped_v2.step_1_rapids AS\n",
        "WITH tmp1 AS (\n",
        "  SELECT o.*\n",
        "  FROM deduped_v2.organizations_combined AS o\n",
        "  LEFT JOIN deduped_v2.unique_orgs_sbs AS n ON o.org_id = n.org_id\n",
        "  WHERE n.org_id IS NULL\n",
        ")\n",
        "SELECT 'Other higher education institution' AS chosen_org_type, 4 AS data_source_priority, *\n",
        "FROM tmp1\n",
        "WHERE data_source = 'rapids' AND lower(org_type) LIKE lower('%Community College/University%')\n",
        "QUALIFY ROW_NUMBER() OVER (PARTITION BY org_id ORDER BY LENGTH(org_name) DESC) = 1\n",
        ";"
      ]
    },
    {
      "cell_type": "code",
      "execution_count": null,
      "metadata": {
        "id": "-l4-vqf9Tkb3"
      },
      "outputs": [],
      "source": [
        "%%bigquery\n",
        "-- ACTION: Recreate novel dataset\n",
        "CREATE OR REPLACE TABLE deduped_v2.unique_orgs_sbs AS\n",
        "SELECT *\n",
        "FROM deduped_v2.step_1_ipeds\n",
        "\n",
        "UNION ALL\n",
        "\n",
        "SELECT *\n",
        "FROM deduped_v2.step_1_irs\n",
        "\n",
        "UNION ALL\n",
        "\n",
        "SELECT *\n",
        "FROM deduped_v2.step_1_tpr\n",
        "\n",
        "UNION ALL\n",
        "SELECT *\n",
        "FROM deduped_v2.step_1_rapids\n",
        ";"
      ]
    },
    {
      "cell_type": "code",
      "execution_count": null,
      "metadata": {
        "id": "rpMOrZHWTmHN"
      },
      "outputs": [],
      "source": [
        "%%bigquery\n",
        "-- Assert uniqueness\n",
        "ASSERT (\n",
        "  SELECT COUNT(*) = COUNT(DISTINCT org_id) FROM deduped_v2.unique_orgs_sbs\n",
        ")\n",
        ";"
      ]
    },
    {
      "cell_type": "code",
      "execution_count": null,
      "metadata": {
        "id": "EnFRpvYnTnov"
      },
      "outputs": [],
      "source": [
        "%%bigquery\n",
        "\n",
        "-- Step 2.1 -- IRS non B41\n",
        "-- Are there any duplicates?\n",
        "WITH tmp1 AS (\n",
        "  SELECT o.*\n",
        "  FROM deduped_v2.organizations_combined AS o\n",
        "  LEFT JOIN deduped_v2.unique_orgs_sbs AS n ON o.org_id = n.org_id\n",
        "  WHERE n.org_id IS NULL\n",
        ")\n",
        "SELECT COUNT(*) AS row_count, COUNT(DISTINCT org_id) AS unique_count\n",
        "FROM tmp1\n",
        "WHERE data_source = 'irs' AND org_type NOT LIKE 'B41%'\n",
        ";"
      ]
    },
    {
      "cell_type": "code",
      "execution_count": null,
      "metadata": {
        "id": "gXovC5W0TpV0"
      },
      "outputs": [],
      "source": [
        "%%bigquery\n",
        "-- Yes, only 6 dupes\n",
        "-- What do they look like and how can we break ties?\n",
        "WITH tmp1 AS (\n",
        "  SELECT o.*\n",
        "  FROM deduped_v2.organizations_combined AS o\n",
        "  LEFT JOIN deduped_v2.unique_orgs_sbs AS n ON o.org_id = n.org_id\n",
        "  WHERE n.org_id IS NULL\n",
        ")\n",
        "SELECT *\n",
        "FROM tmp1\n",
        "WHERE data_source = 'irs' AND org_type NOT LIKE 'B41%'\n",
        "QUALIFY COUNT(*) OVER (PARTITION BY org_id) > 1\n",
        "ORDER BY org_id\n",
        ";"
      ]
    },
    {
      "cell_type": "code",
      "execution_count": null,
      "metadata": {
        "id": "y-5Sz4mFTrWw"
      },
      "outputs": [],
      "source": [
        "%%bigquery\n",
        "-- Pick the longer street address as the representative for the dupes because it contains more information\n",
        "CREATE OR REPLACE TABLE deduped_v2.step_2_irs AS\n",
        "WITH tmp1 AS (\n",
        "  SELECT 'Private non-profit' AS chosen_org_type,  -- this overrides all other org types in IRS\n",
        "  5 AS data_source_priority,\n",
        "    o.*\n",
        "  FROM deduped_v2.organizations_combined AS o\n",
        "  LEFT JOIN deduped_v2.unique_orgs_sbs AS n ON o.org_id = n.org_id\n",
        "  WHERE n.org_id IS NULL\n",
        ")\n",
        "SELECT *\n",
        "FROM tmp1\n",
        "WHERE data_source = 'irs' AND org_type NOT LIKE 'B41%'\n",
        "QUALIFY ROW_NUMBER() OVER (PARTITION BY org_id ORDER BY LENGTH(std_street) DESC) = 1\n",
        ";"
      ]
    },
    {
      "cell_type": "code",
      "execution_count": null,
      "metadata": {
        "id": "zIAsxSplGy9Z"
      },
      "outputs": [],
      "source": [
        "%%bigquery\n",
        "INSERT INTO deduped_v2.sbs_excluded\n",
        "WITH tmp1 AS (\n",
        "  SELECT 'Private non-profit' AS chosen_org_type,  -- this overrides all other org types in IRS\n",
        "  5 AS data_source_priority,\n",
        "    o.*\n",
        "  FROM deduped_v2.organizations_combined AS o\n",
        "  LEFT JOIN deduped_v2.unique_orgs_sbs AS n ON o.org_id = n.org_id\n",
        "  WHERE n.org_id IS NULL\n",
        ")\n",
        "SELECT *\n",
        "FROM tmp1\n",
        "WHERE data_source = 'irs' AND org_type NOT LIKE 'B41%'\n",
        "QUALIFY ROW_NUMBER() OVER (PARTITION BY org_id ORDER BY LENGTH(std_street) DESC) > 1\n",
        ";"
      ]
    },
    {
      "cell_type": "code",
      "execution_count": null,
      "metadata": {
        "id": "HIOXqNyoTs9v"
      },
      "outputs": [],
      "source": [
        "%%bigquery\n",
        "-- ACTION: Recreate novel dataset\n",
        "CREATE OR REPLACE TABLE deduped_v2.unique_orgs_sbs AS\n",
        "SELECT *\n",
        "FROM deduped_v2.step_1_ipeds\n",
        "\n",
        "UNION ALL\n",
        "\n",
        "SELECT *\n",
        "FROM deduped_v2.step_1_irs\n",
        "\n",
        "UNION ALL\n",
        "\n",
        "SELECT *\n",
        "FROM deduped_v2.step_1_tpr\n",
        "\n",
        "UNION ALL\n",
        "SELECT *\n",
        "FROM deduped_v2.step_1_rapids\n",
        "UNION ALL\n",
        "SELECT *\n",
        "FROM deduped_v2.step_2_irs\n",
        "\n",
        ";"
      ]
    },
    {
      "cell_type": "code",
      "execution_count": null,
      "metadata": {
        "id": "WKyzo2ffTumR"
      },
      "outputs": [],
      "source": [
        "%%bigquery\n",
        "ASSERT (\n",
        "  SELECT COUNT(*) = COUNT(DISTINCT org_id) FROM deduped_v2.unique_orgs_sbs\n",
        ")\n",
        ";"
      ]
    },
    {
      "cell_type": "code",
      "execution_count": null,
      "metadata": {
        "id": "kfLkXevFTwMn"
      },
      "outputs": [],
      "source": [
        "%%bigquery\n",
        "-- Step 2.2 -- TPR non-profit\n",
        "-- Are there any duplicates?\n",
        "WITH tmp1 AS (\n",
        "  SELECT o.*\n",
        "  FROM deduped_v2.organizations_combined AS o\n",
        "  LEFT JOIN deduped_v2.unique_orgs_sbs AS n ON o.org_id = n.org_id\n",
        "  WHERE n.org_id IS NULL\n",
        ")\n",
        "SELECT COUNT(*) AS row_count, COUNT(DISTINCT org_id) AS unique_count\n",
        "FROM tmp1\n",
        "WHERE data_source = 'tpr' AND lower(org_type) = 'private non-profit'\n",
        ";"
      ]
    },
    {
      "cell_type": "code",
      "execution_count": null,
      "metadata": {
        "id": "OCvXk7ZKTxuT"
      },
      "outputs": [],
      "source": [
        "%%bigquery\n",
        "-- Yes, 1 dupe\n",
        "-- What do they look like and how can we break ties?\n",
        "WITH tmp1 AS (\n",
        "  SELECT o.*\n",
        "  FROM deduped_v2.organizations_combined AS o\n",
        "  LEFT JOIN deduped_v2.unique_orgs_sbs AS n ON o.org_id = n.org_id\n",
        "  WHERE n.org_id IS NULL\n",
        ")\n",
        "SELECT *\n",
        "FROM tmp1\n",
        "WHERE data_source = 'tpr' AND lower(org_type) = 'private non-profit'\n",
        "QUALIFY COUNT(*) OVER (PARTITION BY org_id) > 1\n",
        "ORDER BY org_id\n",
        ";"
      ]
    },
    {
      "cell_type": "code",
      "execution_count": null,
      "metadata": {
        "id": "FWLwLNx5TzNe"
      },
      "outputs": [],
      "source": [
        "%%bigquery\n",
        "-- Pick the smaller tpr_unique_id\n",
        "CREATE OR REPLACE TABLE deduped_v2.step_2_tpr AS\n",
        "WITH tmp1 AS (\n",
        "  SELECT o.*\n",
        "  FROM deduped_v2.organizations_combined AS o\n",
        "  LEFT JOIN deduped_v2.unique_orgs_sbs AS n ON o.org_id = n.org_id\n",
        "  WHERE n.org_id IS NULL\n",
        ")\n",
        "SELECT 'Private non-profit' AS chosen_org_type, 6 AS data_source_priority, *\n",
        "FROM tmp1\n",
        "WHERE data_source = 'tpr' AND lower(org_type) = 'private non-profit'\n",
        "QUALIFY ROW_NUMBER() OVER (PARTITION BY org_id ORDER BY tpr_unique_id) = 1\n",
        ";"
      ]
    },
    {
      "cell_type": "code",
      "execution_count": null,
      "metadata": {
        "id": "CF5NgSNoHMMY"
      },
      "outputs": [],
      "source": [
        "%%bigquery\n",
        "-- Save the dupe(s)\n",
        "INSERT INTO deduped_v2.sbs_excluded\n",
        "WITH tmp1 AS (\n",
        "  SELECT o.*\n",
        "  FROM deduped_v2.organizations_combined AS o\n",
        "  LEFT JOIN deduped_v2.unique_orgs_sbs AS n ON o.org_id = n.org_id\n",
        "  WHERE n.org_id IS NULL\n",
        ")\n",
        "SELECT 'Private non-profit' AS chosen_org_type, 6 AS data_source_priority, *\n",
        "FROM tmp1\n",
        "WHERE data_source = 'tpr' AND lower(org_type) = 'private non-profit'\n",
        "QUALIFY ROW_NUMBER() OVER (PARTITION BY org_id ORDER BY tpr_unique_id) > 1\n",
        ";"
      ]
    },
    {
      "cell_type": "code",
      "execution_count": null,
      "metadata": {
        "id": "bQloulqWT04W"
      },
      "outputs": [],
      "source": [
        "%%bigquery\n",
        "-- ACTION: Recreate novel dataset\n",
        "CREATE OR REPLACE TABLE deduped_v2.unique_orgs_sbs AS\n",
        "SELECT *\n",
        "FROM deduped_v2.step_1_ipeds\n",
        "\n",
        "UNION ALL\n",
        "\n",
        "SELECT *\n",
        "FROM deduped_v2.step_1_irs\n",
        "\n",
        "UNION ALL\n",
        "\n",
        "SELECT *\n",
        "FROM deduped_v2.step_1_tpr\n",
        "\n",
        "UNION ALL\n",
        "SELECT *\n",
        "FROM deduped_v2.step_1_rapids\n",
        "UNION ALL\n",
        "SELECT *\n",
        "FROM deduped_v2.step_2_irs\n",
        "UNION ALL\n",
        "SELECT *\n",
        "FROM deduped_v2.step_2_tpr\n",
        ";\n",
        "\n",
        "ASSERT (\n",
        "  SELECT COUNT(*) = COUNT(DISTINCT org_id) FROM deduped_v2.unique_orgs_sbs\n",
        ")\n",
        ";"
      ]
    },
    {
      "cell_type": "code",
      "execution_count": null,
      "metadata": {
        "id": "U9HSPyf2T2hs"
      },
      "outputs": [],
      "source": [
        "%%bigquery\n",
        "-- Step 2.3 -- DOL non-profit\n",
        "-- Are there any duplicates?\n",
        "WITH tmp1 AS (\n",
        "  SELECT o.*\n",
        "  FROM deduped_v2.organizations_combined AS o\n",
        "  LEFT JOIN deduped_v2.unique_orgs_sbs AS n ON o.org_id = n.org_id\n",
        "  WHERE n.org_id IS NULL\n",
        ")\n",
        "SELECT COUNT(*) AS row_count, COUNT(DISTINCT org_id) AS unique_count\n",
        "FROM tmp1\n",
        "WHERE data_source = 'rapids' AND lower(org_type) = 'community based organization'\n",
        ";"
      ]
    },
    {
      "cell_type": "code",
      "execution_count": null,
      "metadata": {
        "id": "J1yxO-wZT38g"
      },
      "outputs": [],
      "source": [
        "%%bigquery\n",
        "-- Pick the longer name address as the representative for the dupes\n",
        "CREATE OR REPLACE TABLE deduped_v2.step_2_rapids AS\n",
        "WITH tmp1 AS (\n",
        "  SELECT o.*\n",
        "  FROM deduped_v2.organizations_combined AS o\n",
        "  LEFT JOIN deduped_v2.unique_orgs_sbs AS n ON o.org_id = n.org_id\n",
        "  WHERE n.org_id IS NULL\n",
        ")\n",
        "SELECT 'Private non-profit' AS chosen_org_type, 7 AS data_source_priority, *\n",
        "FROM tmp1\n",
        "WHERE data_source = 'rapids' AND lower(org_type) = 'community based organization'\n",
        "QUALIFY ROW_NUMBER() OVER (PARTITION BY org_id ORDER BY LENGTH(org_name) DESC) = 1\n",
        ";"
      ]
    },
    {
      "cell_type": "code",
      "execution_count": null,
      "metadata": {
        "id": "HHO8MhcPT5i3"
      },
      "outputs": [],
      "source": [
        "%%bigquery\n",
        "-- ACTION: Recreate novel dataset\n",
        "CREATE OR REPLACE TABLE deduped_v2.unique_orgs_sbs AS\n",
        "SELECT *\n",
        "FROM deduped_v2.step_1_ipeds\n",
        "\n",
        "UNION ALL\n",
        "\n",
        "SELECT *\n",
        "FROM deduped_v2.step_1_irs\n",
        "\n",
        "UNION ALL\n",
        "\n",
        "SELECT *\n",
        "FROM deduped_v2.step_1_tpr\n",
        "\n",
        "UNION ALL\n",
        "SELECT *\n",
        "FROM deduped_v2.step_1_rapids\n",
        "UNION ALL\n",
        "SELECT *\n",
        "FROM deduped_v2.step_2_irs\n",
        "UNION ALL\n",
        "SELECT *\n",
        "FROM deduped_v2.step_2_tpr\n",
        "UNION ALL\n",
        "SELECT *\n",
        "FROM deduped_v2.step_2_rapids\n",
        ";\n",
        "\n",
        "ASSERT (\n",
        "  SELECT COUNT(*) = COUNT(DISTINCT org_id) FROM deduped_v2.unique_orgs_sbs\n",
        ")\n",
        ";"
      ]
    },
    {
      "cell_type": "code",
      "execution_count": null,
      "metadata": {
        "id": "el7dTI2zT7Bl"
      },
      "outputs": [],
      "source": [
        "%%bigquery\n",
        "\n",
        "-- Step 3.1 -- DOL - Known Org Types\n",
        "-- Are there any duplicates?\n",
        "WITH tmp1 AS (\n",
        "  SELECT o.*\n",
        "  FROM deduped_v2.organizations_combined AS o\n",
        "  LEFT JOIN deduped_v2.unique_orgs_sbs AS n ON o.org_id = n.org_id\n",
        "  WHERE n.org_id IS NULL\n",
        ")\n",
        "SELECT COUNT(*) AS row_count, COUNT(DISTINCT org_id) AS unique_count\n",
        "FROM tmp1\n",
        "WHERE data_source = 'rapids' AND org_type IS NOT NULL AND lower(org_type) NOT IN ('other', 'none')\n",
        ";"
      ]
    },
    {
      "cell_type": "code",
      "execution_count": null,
      "metadata": {
        "id": "sK8GfsonT8cX"
      },
      "outputs": [],
      "source": [
        "%%bigquery\n",
        "-- Pick the longer name as the representative for the dupes\n",
        "CREATE OR REPLACE TABLE deduped_v2.step_3_rapids AS\n",
        "WITH tmp1 AS (\n",
        "  SELECT o.*\n",
        "  FROM deduped_v2.organizations_combined AS o\n",
        "  LEFT JOIN deduped_v2.unique_orgs_sbs AS n ON o.org_id = n.org_id\n",
        "  WHERE n.org_id IS NULL\n",
        ")\n",
        "SELECT CONCAT('Apprenticeship - ', org_type) AS chosen_org_type, 8 AS data_source_priority, *\n",
        "FROM tmp1\n",
        "WHERE data_source = 'rapids' AND org_type IS NOT NULL AND lower(org_type) NOT IN ('other', 'none')\n",
        "QUALIFY ROW_NUMBER() OVER (PARTITION BY org_id ORDER BY LENGTH(org_name) DESC) = 1\n",
        ";"
      ]
    },
    {
      "cell_type": "code",
      "execution_count": null,
      "metadata": {
        "id": "pyeD0lm7HsNq"
      },
      "outputs": [],
      "source": [
        "%%bigquery\n",
        "-- Save the dupe(s)\n",
        "INSERT INTO deduped_v2.sbs_excluded\n",
        "WITH tmp1 AS (\n",
        "  SELECT o.*\n",
        "  FROM deduped_v2.organizations_combined AS o\n",
        "  LEFT JOIN deduped_v2.unique_orgs_sbs AS n ON o.org_id = n.org_id\n",
        "  WHERE n.org_id IS NULL\n",
        ")\n",
        "SELECT CONCAT('Apprenticeship - ', org_type) AS chosen_org_type, 8 AS data_source_priority, *\n",
        "FROM tmp1\n",
        "WHERE data_source = 'rapids' AND org_type IS NOT NULL AND lower(org_type) NOT IN ('other', 'none')\n",
        "QUALIFY ROW_NUMBER() OVER (PARTITION BY org_id ORDER BY LENGTH(org_name) DESC) > 1\n",
        ";"
      ]
    },
    {
      "cell_type": "code",
      "execution_count": null,
      "metadata": {
        "id": "uf1yInGcT973"
      },
      "outputs": [],
      "source": [
        "%%bigquery\n",
        "-- ACTION: Recreate novel dataset\n",
        "CREATE OR REPLACE TABLE deduped_v2.unique_orgs_sbs AS\n",
        "SELECT *\n",
        "FROM deduped_v2.step_1_ipeds\n",
        "\n",
        "UNION ALL\n",
        "\n",
        "SELECT *\n",
        "FROM deduped_v2.step_1_irs\n",
        "\n",
        "UNION ALL\n",
        "\n",
        "SELECT *\n",
        "FROM deduped_v2.step_1_tpr\n",
        "\n",
        "UNION ALL\n",
        "SELECT *\n",
        "FROM deduped_v2.step_1_rapids\n",
        "UNION ALL\n",
        "SELECT *\n",
        "FROM deduped_v2.step_2_irs\n",
        "UNION ALL\n",
        "SELECT *\n",
        "FROM deduped_v2.step_2_tpr\n",
        "UNION ALL\n",
        "SELECT *\n",
        "FROM deduped_v2.step_2_rapids\n",
        "UNION ALL\n",
        "SELECT *\n",
        "FROM deduped_v2.step_3_rapids\n",
        ";\n",
        "\n",
        "ASSERT (\n",
        "  SELECT COUNT(*) = COUNT(DISTINCT org_id) FROM deduped_v2.unique_orgs_sbs\n",
        ")\n",
        ";"
      ]
    },
    {
      "cell_type": "code",
      "execution_count": null,
      "metadata": {
        "id": "Bd174hKCT_oA"
      },
      "outputs": [],
      "source": [
        "%%bigquery\n",
        "-- Step 3.2 -- DOL - Unknown Org Types\n",
        "-- Are there any duplicates?\n",
        "WITH tmp1 AS (\n",
        "  SELECT o.*\n",
        "  FROM deduped_v2.organizations_combined AS o\n",
        "  LEFT JOIN deduped_v2.unique_orgs_sbs AS n ON o.org_id = n.org_id\n",
        "  WHERE n.org_id IS NULL\n",
        ")\n",
        "SELECT COUNT(*) AS row_count, COUNT(DISTINCT org_id) AS unique_count\n",
        "FROM tmp1\n",
        "WHERE data_source = 'rapids' AND (org_type IS NULL OR lower(org_type) IN ('other', 'none'))\n",
        ";\n"
      ]
    },
    {
      "cell_type": "code",
      "execution_count": null,
      "metadata": {
        "id": "jI8wGmtrUBAn"
      },
      "outputs": [],
      "source": [
        "%%bigquery\n",
        "WITH tmp1 AS (\n",
        "  SELECT o.*\n",
        "  FROM deduped_v2.organizations_combined AS o\n",
        "  LEFT JOIN deduped_v2.unique_orgs_sbs AS n ON o.org_id = n.org_id\n",
        "  WHERE n.org_id IS NULL\n",
        ")\n",
        "SELECT 'Apprenticeship - Unknown' AS chosen_org_type, 9 AS data_source_priority, *\n",
        "FROM tmp1\n",
        "WHERE data_source = 'rapids' AND (org_type IS NULL OR lower(org_type) IN ('other', 'none'))\n",
        "QUALIFY COUNT(*) OVER (PARTITION BY org_id) > 1\n",
        "ORDER BY org_id"
      ]
    },
    {
      "cell_type": "code",
      "execution_count": null,
      "metadata": {
        "id": "9dJjjPZfIJ1L"
      },
      "outputs": [],
      "source": [
        "%%bigquery\n",
        "\n",
        "-- Pick the first of each rapids_unique_id\n",
        "CREATE OR REPLACE TABLE deduped_v2.step_3_rapids_null_other AS\n",
        "WITH tmp1 AS (\n",
        "  SELECT o.*\n",
        "  FROM deduped_v2.organizations_combined AS o\n",
        "  LEFT JOIN deduped_v2.unique_orgs_sbs AS n ON o.org_id = n.org_id\n",
        "  WHERE n.org_id IS NULL\n",
        ")\n",
        "SELECT 'Apprenticeship - Unknown' AS chosen_org_type, 9 AS data_source_priority, *\n",
        "FROM tmp1\n",
        "WHERE data_source = 'rapids' AND (org_type IS NULL OR lower(org_type) IN ('other', 'none'))\n",
        "QUALIFY ROW_NUMBER() OVER (PARTITION BY org_id ORDER BY rapids_unique_id) = 1\n",
        ";"
      ]
    },
    {
      "cell_type": "code",
      "execution_count": null,
      "metadata": {
        "id": "99cK5iR9IVqi"
      },
      "outputs": [],
      "source": [
        "%%bigquery\n",
        "-- Save the rest\n",
        "INSERT INTO deduped_v2.sbs_excluded\n",
        "WITH tmp1 AS (\n",
        "  SELECT o.*\n",
        "  FROM deduped_v2.organizations_combined AS o\n",
        "  LEFT JOIN deduped_v2.unique_orgs_sbs AS n ON o.org_id = n.org_id\n",
        "  WHERE n.org_id IS NULL\n",
        ")\n",
        "SELECT 'Apprenticeship - Unknown' AS chosen_org_type, 9 AS data_source_priority, *\n",
        "FROM tmp1\n",
        "WHERE data_source = 'rapids' AND (org_type IS NULL OR lower(org_type) IN ('other', 'none'))\n",
        "QUALIFY ROW_NUMBER() OVER (PARTITION BY org_id ORDER BY rapids_unique_id) > 1\n",
        ";"
      ]
    },
    {
      "cell_type": "code",
      "execution_count": null,
      "metadata": {
        "id": "eWKm_EEUUC_M"
      },
      "outputs": [],
      "source": [
        "%%bigquery\n",
        "-- ACTION: Recreate novel dataset\n",
        "CREATE OR REPLACE TABLE deduped_v2.unique_orgs_sbs AS\n",
        "SELECT *\n",
        "FROM deduped_v2.step_1_ipeds\n",
        "UNION ALL\n",
        "SELECT *\n",
        "FROM deduped_v2.step_1_irs\n",
        "UNION ALL\n",
        "SELECT *\n",
        "FROM deduped_v2.step_1_tpr\n",
        "UNION ALL\n",
        "SELECT *\n",
        "FROM deduped_v2.step_1_rapids\n",
        "\n",
        "UNION ALL\n",
        "SELECT *\n",
        "FROM deduped_v2.step_2_irs\n",
        "UNION ALL\n",
        "SELECT *\n",
        "FROM deduped_v2.step_2_tpr\n",
        "UNION ALL\n",
        "SELECT *\n",
        "FROM deduped_v2.step_2_rapids\n",
        "\n",
        "UNION ALL\n",
        "SELECT *\n",
        "FROM deduped_v2.step_3_rapids\n",
        "UNION ALL\n",
        "SELECT *\n",
        "FROM deduped_v2.step_3_rapids_null_other\n",
        ";\n",
        "\n",
        "ASSERT (\n",
        "  SELECT COUNT(*) = COUNT(DISTINCT org_id) FROM deduped_v2.unique_orgs_sbs\n",
        ")\n",
        ";"
      ]
    },
    {
      "cell_type": "code",
      "execution_count": null,
      "metadata": {
        "id": "5Mr1g2e8UE60"
      },
      "outputs": [],
      "source": [
        "%%bigquery\n",
        "-- Step 3.3 -- TPR\n",
        "-- Are there any duplicates?\n",
        "WITH tmp1 AS (\n",
        "  SELECT o.*\n",
        "  FROM deduped_v2.organizations_combined AS o\n",
        "  LEFT JOIN deduped_v2.unique_orgs_sbs AS n ON o.org_id = n.org_id\n",
        "  WHERE n.org_id IS NULL\n",
        ")\n",
        "SELECT COUNT(*) AS row_count, COUNT(DISTINCT org_id) AS unique_count\n",
        "FROM tmp1\n",
        "WHERE data_source = 'tpr' AND lower(org_type) = 'national apprenticeship'\n",
        ";"
      ]
    },
    {
      "cell_type": "code",
      "execution_count": null,
      "metadata": {
        "id": "DIzYpHrxUGa7"
      },
      "outputs": [],
      "source": [
        "%%bigquery\n",
        "-- 3 dupes\n",
        "-- What do they look like and how can we break ties?\n",
        "WITH tmp1 AS (\n",
        "  SELECT o.*\n",
        "  FROM deduped_v2.organizations_combined AS o\n",
        "  LEFT JOIN deduped_v2.unique_orgs_sbs AS n ON o.org_id = n.org_id\n",
        "  WHERE n.org_id IS NULL\n",
        ")\n",
        "SELECT *\n",
        "FROM tmp1\n",
        "WHERE data_source = 'tpr' AND lower(org_type) = 'national apprenticeship'\n",
        "QUALIFY COUNT(*) OVER (PARTITION BY org_id) > 1\n",
        "ORDER BY org_id\n",
        ";\n"
      ]
    },
    {
      "cell_type": "code",
      "execution_count": null,
      "metadata": {
        "id": "0I5PSql5UIJD"
      },
      "outputs": [],
      "source": [
        "%%bigquery\n",
        "-- Pick the first tpr_unique_id\n",
        "CREATE OR REPLACE TABLE deduped_v2.step_3_tpr AS\n",
        "WITH tmp1 AS (\n",
        "  SELECT o.*\n",
        "  FROM deduped_v2.organizations_combined AS o\n",
        "  LEFT JOIN deduped_v2.unique_orgs_sbs AS n ON o.org_id = n.org_id\n",
        "  WHERE n.org_id IS NULL\n",
        ")\n",
        "SELECT org_type AS chosen_org_type, 10 AS data_source_priority, *\n",
        "FROM tmp1\n",
        "WHERE data_source = 'tpr' AND lower(org_type) = 'national apprenticeship'\n",
        "QUALIFY ROW_NUMBER() OVER (PARTITION BY org_id ORDER BY tpr_unique_id) = 1\n",
        ";"
      ]
    },
    {
      "cell_type": "code",
      "execution_count": null,
      "metadata": {
        "id": "-vTAyPkCIla9"
      },
      "outputs": [],
      "source": [
        "%%bigquery\n",
        "INSERT INTO deduped_v2.sbs_excluded\n",
        "WITH tmp1 AS (\n",
        "  SELECT o.*\n",
        "  FROM deduped_v2.organizations_combined AS o\n",
        "  LEFT JOIN deduped_v2.unique_orgs_sbs AS n ON o.org_id = n.org_id\n",
        "  WHERE n.org_id IS NULL\n",
        ")\n",
        "SELECT org_type AS chosen_org_type, 10 AS data_source_priority, *\n",
        "FROM tmp1\n",
        "WHERE data_source = 'tpr' AND lower(org_type) = 'national apprenticeship'\n",
        "QUALIFY ROW_NUMBER() OVER (PARTITION BY org_id ORDER BY tpr_unique_id) > 1\n",
        ";"
      ]
    },
    {
      "cell_type": "code",
      "execution_count": null,
      "metadata": {
        "id": "xE16DpoBUJln"
      },
      "outputs": [],
      "source": [
        "%%bigquery\n",
        "-- ACTION: Recreate novel dataset\n",
        "CREATE OR REPLACE TABLE deduped_v2.unique_orgs_sbs AS\n",
        "SELECT *\n",
        "FROM deduped_v2.step_1_ipeds\n",
        "UNION ALL\n",
        "SELECT *\n",
        "FROM deduped_v2.step_1_irs\n",
        "UNION ALL\n",
        "SELECT *\n",
        "FROM deduped_v2.step_1_tpr\n",
        "UNION ALL\n",
        "SELECT *\n",
        "FROM deduped_v2.step_1_rapids\n",
        "\n",
        "UNION ALL\n",
        "SELECT *\n",
        "FROM deduped_v2.step_2_irs\n",
        "UNION ALL\n",
        "SELECT *\n",
        "FROM deduped_v2.step_2_tpr\n",
        "UNION ALL\n",
        "SELECT *\n",
        "FROM deduped_v2.step_2_rapids\n",
        "\n",
        "UNION ALL\n",
        "SELECT *\n",
        "FROM deduped_v2.step_3_rapids\n",
        "UNION ALL\n",
        "SELECT *\n",
        "FROM deduped_v2.step_3_rapids_null_other\n",
        "UNION ALL\n",
        "SELECT *\n",
        "FROM deduped_v2.step_3_tpr\n",
        ";\n",
        "\n",
        "ASSERT (\n",
        "  SELECT COUNT(*) = COUNT(DISTINCT org_id) FROM deduped_v2.unique_orgs_sbs\n",
        ")\n",
        ";"
      ]
    },
    {
      "cell_type": "code",
      "execution_count": null,
      "metadata": {
        "id": "JCzG8nQuULat"
      },
      "outputs": [],
      "source": [
        "%%bigquery\n",
        "-- Step 4.1 -- TPR\n",
        "-- Are there any duplicates?\n",
        "WITH tmp1 AS (\n",
        "  SELECT o.*\n",
        "  FROM deduped_v2.organizations_combined AS o\n",
        "  LEFT JOIN deduped_v2.unique_orgs_sbs AS n ON o.org_id = n.org_id\n",
        "  WHERE n.org_id IS NULL\n",
        ")\n",
        "SELECT COUNT(*) AS row_count, COUNT(DISTINCT org_id) AS unique_count\n",
        "FROM tmp1\n",
        "WHERE data_source = 'tpr' AND lower(org_type) = 'private for-profit'\n",
        ";"
      ]
    },
    {
      "cell_type": "code",
      "execution_count": null,
      "metadata": {
        "id": "WYMU-_pCUM0P"
      },
      "outputs": [],
      "source": [
        "%%bigquery\n",
        "-- Yes, 23 dupes\n",
        "-- What do they look like and how can we break ties?\n",
        "WITH tmp1 AS (\n",
        "  SELECT o.*\n",
        "  FROM deduped_v2.organizations_combined AS o\n",
        "  LEFT JOIN deduped_v2.unique_orgs_sbs AS n ON o.org_id = n.org_id\n",
        "  WHERE n.org_id IS NULL\n",
        ")\n",
        "SELECT *\n",
        "FROM tmp1\n",
        "WHERE data_source = 'tpr' AND lower(org_type) = 'private for-profit'\n",
        "QUALIFY COUNT(*) OVER (PARTITION BY org_id) > 1\n",
        "ORDER BY org_id\n",
        ";"
      ]
    },
    {
      "cell_type": "code",
      "execution_count": null,
      "metadata": {
        "id": "t_bZKW9xUO68"
      },
      "outputs": [],
      "source": [
        "%%bigquery\n",
        "-- Pick the fist tpr_unique_id\n",
        "CREATE OR REPLACE TABLE deduped_v2.step_4_tpr AS\n",
        "WITH tmp1 AS (\n",
        "  SELECT o.*\n",
        "  FROM deduped_v2.organizations_combined AS o\n",
        "  LEFT JOIN deduped_v2.unique_orgs_sbs AS n ON o.org_id = n.org_id\n",
        "  WHERE n.org_id IS NULL\n",
        ")\n",
        "SELECT 'Private for-profit' AS chosen_org_type, 11 AS data_source_priority, *\n",
        "FROM tmp1\n",
        "WHERE data_source = 'tpr' AND lower(org_type) = 'private for-profit'\n",
        "QUALIFY ROW_NUMBER() OVER (PARTITION BY org_id ORDER BY tpr_unique_id) = 1\n",
        ";"
      ]
    },
    {
      "cell_type": "code",
      "execution_count": null,
      "metadata": {
        "id": "sGeABisSI5F9"
      },
      "outputs": [],
      "source": [
        "%%bigquery\n",
        "INSERT INTO deduped_v2.sbs_excluded\n",
        "WITH tmp1 AS (\n",
        "  SELECT o.*\n",
        "  FROM deduped_v2.organizations_combined AS o\n",
        "  LEFT JOIN deduped_v2.unique_orgs_sbs AS n ON o.org_id = n.org_id\n",
        "  WHERE n.org_id IS NULL\n",
        ")\n",
        "SELECT 'Private for-profit' AS chosen_org_type, 11 AS data_source_priority, *\n",
        "FROM tmp1\n",
        "WHERE data_source = 'tpr' AND lower(org_type) = 'private for-profit'\n",
        "QUALIFY ROW_NUMBER() OVER (PARTITION BY org_id ORDER BY tpr_unique_id) > 1\n",
        ";"
      ]
    },
    {
      "cell_type": "code",
      "execution_count": null,
      "metadata": {
        "id": "33f6YT9LUQWh"
      },
      "outputs": [],
      "source": [
        "%%bigquery\n",
        "-- ACTION: Recreate novel dataset\n",
        "CREATE OR REPLACE TABLE deduped_v2.unique_orgs_sbs AS\n",
        "SELECT *\n",
        "FROM deduped_v2.step_1_ipeds\n",
        "UNION ALL\n",
        "SELECT *\n",
        "FROM deduped_v2.step_1_irs\n",
        "UNION ALL\n",
        "SELECT *\n",
        "FROM deduped_v2.step_1_tpr\n",
        "UNION ALL\n",
        "SELECT *\n",
        "FROM deduped_v2.step_1_rapids\n",
        "\n",
        "UNION ALL\n",
        "SELECT *\n",
        "FROM deduped_v2.step_2_irs\n",
        "UNION ALL\n",
        "SELECT *\n",
        "FROM deduped_v2.step_2_tpr\n",
        "UNION ALL\n",
        "SELECT *\n",
        "FROM deduped_v2.step_2_rapids\n",
        "\n",
        "UNION ALL\n",
        "SELECT *\n",
        "FROM deduped_v2.step_3_rapids\n",
        "UNION ALL\n",
        "SELECT *\n",
        "FROM deduped_v2.step_3_rapids_null_other\n",
        "UNION ALL\n",
        "SELECT *\n",
        "FROM deduped_v2.step_3_tpr\n",
        "\n",
        "UNION ALL\n",
        "SELECT *\n",
        "FROM deduped_v2.step_4_tpr\n",
        ";\n",
        "\n",
        "ASSERT (\n",
        "  SELECT COUNT(*) = COUNT(DISTINCT org_id) FROM deduped_v2.unique_orgs_sbs\n",
        ")\n",
        ";"
      ]
    },
    {
      "cell_type": "code",
      "execution_count": null,
      "metadata": {
        "id": "6IsTS7v-USHd"
      },
      "outputs": [],
      "source": [
        "%%bigquery\n",
        "-- Step 5.1 -- TPR Public\n",
        "-- Are there any duplicates?\n",
        "WITH tmp1 AS (\n",
        "  SELECT o.*\n",
        "  FROM deduped_v2.organizations_combined AS o\n",
        "  LEFT JOIN deduped_v2.unique_orgs_sbs AS n ON o.org_id = n.org_id\n",
        "  WHERE n.org_id IS NULL\n",
        ")\n",
        "SELECT COUNT(*) AS row_count, COUNT(DISTINCT org_id) AS unique_count\n",
        "FROM tmp1\n",
        "WHERE data_source = 'tpr' AND lower(org_type) = 'public'\n",
        ";"
      ]
    },
    {
      "cell_type": "code",
      "execution_count": null,
      "metadata": {
        "id": "QWc0-Ji5UTpH"
      },
      "outputs": [],
      "source": [
        "%%bigquery\n",
        "-- No dupes\n",
        "CREATE OR REPLACE TABLE deduped_v2.step_5_tpr AS\n",
        "WITH tmp1 AS (\n",
        "  SELECT o.*\n",
        "  FROM deduped_v2.organizations_combined AS o\n",
        "  LEFT JOIN deduped_v2.unique_orgs_sbs AS n ON o.org_id = n.org_id\n",
        "  WHERE n.org_id IS NULL\n",
        ")\n",
        "SELECT 'Public' AS chosen_org_type, 12 AS data_source_priority, *\n",
        "FROM tmp1\n",
        "WHERE data_source = 'tpr' AND lower(org_type) = 'public'\n",
        "QUALIFY ROW_NUMBER() OVER (PARTITION BY org_id ORDER BY LENGTH(org_name)) = 1\n",
        ";"
      ]
    },
    {
      "cell_type": "code",
      "execution_count": null,
      "metadata": {
        "id": "DzzUek8vUVQK"
      },
      "outputs": [],
      "source": [
        "%%bigquery\n",
        "-- ACTION: Recreate novel dataset\n",
        "CREATE OR REPLACE TABLE deduped_v2.unique_orgs_sbs AS\n",
        "SELECT *\n",
        "FROM deduped_v2.step_1_ipeds\n",
        "UNION ALL\n",
        "SELECT *\n",
        "FROM deduped_v2.step_1_irs\n",
        "UNION ALL\n",
        "SELECT *\n",
        "FROM deduped_v2.step_1_tpr\n",
        "UNION ALL\n",
        "SELECT *\n",
        "FROM deduped_v2.step_1_rapids\n",
        "\n",
        "UNION ALL\n",
        "SELECT *\n",
        "FROM deduped_v2.step_2_irs\n",
        "UNION ALL\n",
        "SELECT *\n",
        "FROM deduped_v2.step_2_tpr\n",
        "UNION ALL\n",
        "SELECT *\n",
        "FROM deduped_v2.step_2_rapids\n",
        "\n",
        "UNION ALL\n",
        "SELECT *\n",
        "FROM deduped_v2.step_3_rapids\n",
        "UNION ALL\n",
        "SELECT *\n",
        "FROM deduped_v2.step_3_rapids_null_other\n",
        "UNION ALL\n",
        "SELECT *\n",
        "FROM deduped_v2.step_3_tpr\n",
        "\n",
        "UNION ALL\n",
        "SELECT *\n",
        "FROM deduped_v2.step_4_tpr\n",
        "\n",
        "UNION ALL\n",
        "SELECT *\n",
        "FROM deduped_v2.step_5_tpr\n",
        ";\n",
        "\n",
        "ASSERT (\n",
        "  SELECT COUNT(*) = COUNT(DISTINCT org_id) FROM deduped_v2.unique_orgs_sbs\n",
        ")\n",
        ";"
      ]
    },
    {
      "cell_type": "code",
      "execution_count": null,
      "metadata": {
        "id": "r6trBIngUXT6"
      },
      "outputs": [],
      "source": [
        "%%bigquery\n",
        "-- Step 5.2 -- NULL or TPR Other\n",
        "-- Are there any duplicates?\n",
        "WITH tmp1 AS (\n",
        "  SELECT o.*\n",
        "  FROM deduped_v2.organizations_combined AS o\n",
        "  LEFT JOIN deduped_v2.unique_orgs_sbs AS n ON o.org_id = n.org_id\n",
        "  WHERE n.org_id IS NULL\n",
        ")\n",
        "SELECT COUNT(*) AS row_count, COUNT(DISTINCT org_id) AS unique_count\n",
        "FROM tmp1\n",
        "WHERE org_type IS NULL OR (data_source = 'tpr' AND lower(org_type) = 'other')\n",
        ";"
      ]
    },
    {
      "cell_type": "code",
      "execution_count": null,
      "metadata": {
        "id": "ttHbpn1PUYjo"
      },
      "outputs": [],
      "source": [
        "%%bigquery\n",
        "-- Yes, 7 dupes\n",
        "-- What do they look like and how can we break ties?\n",
        "WITH tmp1 AS (\n",
        "  SELECT o.*\n",
        "  FROM deduped_v2.organizations_combined AS o\n",
        "  LEFT JOIN deduped_v2.unique_orgs_sbs AS n ON o.org_id = n.org_id\n",
        "  WHERE n.org_id IS NULL\n",
        ")\n",
        "SELECT *\n",
        "FROM tmp1\n",
        "WHERE org_type IS NULL OR (data_source = 'tpr' AND lower(org_type) = 'other')\n",
        "QUALIFY COUNT(*) OVER (PARTITION BY org_id) > 1\n",
        "ORDER BY org_id\n",
        ";"
      ]
    },
    {
      "cell_type": "code",
      "execution_count": null,
      "metadata": {
        "id": "_ZTal5NsUap6"
      },
      "outputs": [],
      "source": [
        "%%bigquery\n",
        "-- Pick the first tpr_unique_id\n",
        "CREATE OR REPLACE TABLE deduped_v2.step_5_null_tpr_other AS\n",
        "WITH tmp1 AS (\n",
        "  SELECT o.*\n",
        "  FROM deduped_v2.organizations_combined AS o\n",
        "  LEFT JOIN deduped_v2.unique_orgs_sbs AS n ON o.org_id = n.org_id\n",
        "  WHERE n.org_id IS NULL\n",
        ")\n",
        "SELECT 'Unknown' AS chosen_org_type, 13 AS data_source_priority, *\n",
        "FROM tmp1\n",
        "WHERE org_type IS NULL OR (data_source = 'tpr' AND lower(org_type) = 'other')\n",
        "QUALIFY ROW_NUMBER() OVER (PARTITION BY org_id ORDER BY tpr_unique_id) = 1\n",
        ";"
      ]
    },
    {
      "cell_type": "code",
      "execution_count": null,
      "metadata": {
        "id": "3Q_5kIZZJRJ0"
      },
      "outputs": [],
      "source": [
        "%%bigquery\n",
        "INSERT INTO deduped_v2.sbs_excluded\n",
        "WITH tmp1 AS (\n",
        "  SELECT o.*\n",
        "  FROM deduped_v2.organizations_combined AS o\n",
        "  LEFT JOIN deduped_v2.unique_orgs_sbs AS n ON o.org_id = n.org_id\n",
        "  WHERE n.org_id IS NULL\n",
        ")\n",
        "SELECT 'Unknown' AS chosen_org_type, 13 AS data_source_priority, *\n",
        "FROM tmp1\n",
        "WHERE org_type IS NULL OR (data_source = 'tpr' AND lower(org_type) = 'other')\n",
        "QUALIFY ROW_NUMBER() OVER (PARTITION BY org_id ORDER BY tpr_unique_id) > 1\n",
        ";"
      ]
    },
    {
      "cell_type": "code",
      "execution_count": null,
      "metadata": {
        "id": "UIDqypTFUcRx"
      },
      "outputs": [],
      "source": [
        "%%bigquery\n",
        "-- ACTION: Recreate novel dataset\n",
        "CREATE OR REPLACE TABLE deduped_v2.unique_orgs_sbs AS\n",
        "SELECT *\n",
        "FROM deduped_v2.step_1_ipeds\n",
        "UNION ALL\n",
        "SELECT *\n",
        "FROM deduped_v2.step_1_irs\n",
        "UNION ALL\n",
        "SELECT *\n",
        "FROM deduped_v2.step_1_tpr\n",
        "UNION ALL\n",
        "SELECT *\n",
        "FROM deduped_v2.step_1_rapids\n",
        "\n",
        "UNION ALL\n",
        "SELECT *\n",
        "FROM deduped_v2.step_2_irs\n",
        "UNION ALL\n",
        "SELECT *\n",
        "FROM deduped_v2.step_2_tpr\n",
        "UNION ALL\n",
        "SELECT *\n",
        "FROM deduped_v2.step_2_rapids\n",
        "\n",
        "UNION ALL\n",
        "SELECT *\n",
        "FROM deduped_v2.step_3_rapids\n",
        "UNION ALL\n",
        "SELECT *\n",
        "FROM deduped_v2.step_3_rapids_null_other\n",
        "UNION ALL\n",
        "SELECT *\n",
        "FROM deduped_v2.step_3_tpr\n",
        "\n",
        "UNION ALL\n",
        "SELECT *\n",
        "FROM deduped_v2.step_4_tpr\n",
        "\n",
        "UNION ALL\n",
        "SELECT *\n",
        "FROM deduped_v2.step_5_tpr\n",
        "\n",
        "UNION ALL\n",
        "SELECT *\n",
        "FROM deduped_v2.step_5_null_tpr_other\n",
        ";\n",
        "\n",
        "ASSERT (\n",
        "  SELECT COUNT(*) = COUNT(DISTINCT org_id) FROM deduped_v2.unique_orgs_sbs\n",
        ")\n",
        ";\n",
        "\n"
      ]
    },
    {
      "cell_type": "markdown",
      "metadata": {
        "id": "Wu71wtGbUeN2"
      },
      "source": [
        "Some number checks"
      ]
    },
    {
      "cell_type": "code",
      "execution_count": null,
      "metadata": {
        "id": "RFVpfYb_UiOm"
      },
      "outputs": [],
      "source": [
        "%%bigquery\n",
        "\n",
        "SELECT data_source, COUNT(*) AS org_count, COUNT(DISTINCT org_id) AS unique_org_count\n",
        "FROM deduped_v2.unique_orgs_sbs\n",
        "GROUP BY data_source\n",
        "ORDER BY data_source"
      ]
    },
    {
      "cell_type": "code",
      "execution_count": null,
      "metadata": {
        "id": "exXt0DZUJgn7"
      },
      "outputs": [],
      "source": [
        "%%bigquery\n",
        "SELECT data_source, COUNT(*) AS org_count, COUNT(DISTINCT org_id) AS unique_org_count\n",
        "FROM deduped_v2.sbs_excluded\n",
        "GROUP BY data_source\n",
        "ORDER BY data_source"
      ]
    },
    {
      "cell_type": "markdown",
      "metadata": {
        "id": "FkzW9iv4JlRA"
      },
      "source": [
        "Are there cases where the excluded org is present in multiple sources?"
      ]
    },
    {
      "cell_type": "code",
      "execution_count": null,
      "metadata": {
        "id": "J2pdmZ3iJoJu"
      },
      "outputs": [],
      "source": [
        "%%bigquery\n",
        "SELECT *\n",
        "FROM deduped_v2.sbs_excluded AS e\n",
        "LEFT JOIN deduped_v2.unique_orgs_sbs AS u ON e.org_id = u.org_id\n",
        "WHERE e.data_source <> u.data_source\n"
      ]
    },
    {
      "cell_type": "markdown",
      "metadata": {
        "id": "S379fAgpYcc4"
      },
      "source": [
        "## Cross Dataset Deduplication"
      ]
    },
    {
      "cell_type": "code",
      "execution_count": null,
      "metadata": {
        "id": "Lnfo9QFwZvXN"
      },
      "outputs": [],
      "source": [
        "bigquery_client = bigquery.Client(project=project, location=location)"
      ]
    },
    {
      "cell_type": "code",
      "execution_count": null,
      "metadata": {
        "id": "symdFK10Zyxl"
      },
      "outputs": [],
      "source": [
        "%%bigquery\n",
        "-- These orgs have the same address and their names are \"very\" similar, therefore we treat them as the same\n",
        "CREATE OR REPLACE TABLE deduped_v2.orgs_with_same_address_and_similar_name AS\n",
        "WITH address_match AS (\n",
        "  SELECT DISTINCT\n",
        "    t1.org_id AS t1_org_id, t1.org_name AS t1_org_name, t2.org_name AS t2_org_name,\n",
        "    reference.jaro_winkler_similarity(t1.org_name, t2.org_name) AS match_rate,\n",
        "    reference.levenshtein_distance(t1.org_name, t2.org_name) AS lev_distance,\n",
        "    CAST(100*ROUND(1 - reference.levenshtein_distance(t1.org_name, t2.org_name) / LENGTH(t1.org_name), 2) AS INT64) AS lev_similarity,\n",
        "    t2.org_id AS t2_org_id\n",
        "  FROM deduped_v2.unique_orgs_sbs AS t1\n",
        "  INNER JOIN deduped_v2.unique_orgs_sbs AS t2\n",
        "    ON t1.org_address = t2.org_address\n",
        "    AND t1.org_id > t2.org_id\n",
        "    AND LENGTH(t1.org_name) >= 10\n",
        "    AND LENGTH(t2.org_name) >= 10\n",
        ")\n",
        "SELECT t1_org_id, t2_org_id\n",
        "FROM address_match\n",
        "WHERE match_rate >= 50 AND lev_similarity >= 60\n",
        "ORDER BY lev_similarity, match_rate\n",
        ";\n"
      ]
    },
    {
      "cell_type": "code",
      "execution_count": null,
      "metadata": {
        "id": "310CLd5qZ0ac"
      },
      "outputs": [],
      "source": [
        "query = \"SELECT DISTINCT org_id FROM deduped_v2.organizations_combined\"\n",
        "query_job = client.query(query)"
      ]
    },
    {
      "cell_type": "code",
      "execution_count": null,
      "metadata": {
        "id": "JvwXDpCcZ3lF"
      },
      "outputs": [],
      "source": [
        "deduped_orgs = query_job.to_dataframe()"
      ]
    },
    {
      "cell_type": "code",
      "execution_count": null,
      "metadata": {
        "id": "HJbi6hgvZ48X"
      },
      "outputs": [],
      "source": [
        "nodes = set(deduped_orgs[\"org_id\"])"
      ]
    },
    {
      "cell_type": "code",
      "execution_count": null,
      "metadata": {
        "id": "-D5Le1WpZ6NZ"
      },
      "outputs": [],
      "source": [
        "query = \"SELECT t1_org_id, t2_org_id FROM deduped_v2.orgs_with_same_address_and_similar_name\"\n",
        "query_job = client.query(query)\n",
        "similar_orgs = query_job.to_dataframe()\n",
        "edges = set(zip(similar_orgs[\"t1_org_id\"], similar_orgs[\"t2_org_id\"]))"
      ]
    },
    {
      "cell_type": "code",
      "execution_count": null,
      "metadata": {
        "id": "XCuMo_R2aPTu"
      },
      "outputs": [],
      "source": [
        "graph = nx.Graph()"
      ]
    },
    {
      "cell_type": "code",
      "execution_count": null,
      "metadata": {
        "id": "9pykxc_waQgI"
      },
      "outputs": [],
      "source": [
        "graph.add_nodes_from(nodes)\n",
        "graph.add_edges_from(edges)"
      ]
    },
    {
      "cell_type": "code",
      "execution_count": null,
      "metadata": {
        "id": "OtbyPrh4aRtF"
      },
      "outputs": [],
      "source": [
        "components = {i:n for i, n in enumerate(nx.connected_components(graph))}"
      ]
    },
    {
      "cell_type": "code",
      "execution_count": null,
      "metadata": {
        "id": "XxdmzgvfaS8a"
      },
      "outputs": [],
      "source": [
        "matchset = [(k, w) for k, v in components.items() for w in v]"
      ]
    },
    {
      "cell_type": "code",
      "execution_count": null,
      "metadata": {
        "id": "8kjl8ZVpaUYn"
      },
      "outputs": [],
      "source": [
        "match_df = pd.DataFrame(matchset, columns=[\"dedupe_id\", \"org_id\"])"
      ]
    },
    {
      "cell_type": "code",
      "execution_count": null,
      "metadata": {
        "id": "ouPdetJIaV9R"
      },
      "outputs": [],
      "source": [
        "match_df.head(10)"
      ]
    },
    {
      "cell_type": "code",
      "execution_count": null,
      "metadata": {
        "id": "2DcANHvSaX0q"
      },
      "outputs": [],
      "source": [
        "match_df.to_gbq(\"deduped_v2.unique_org_ids\", project_id=project, if_exists='replace')"
      ]
    },
    {
      "cell_type": "markdown",
      "metadata": {
        "id": "zdAjJT4DaaEI"
      },
      "source": [
        "Create the novel dataset by selecting the higher priority orgs whenever there is a dupe"
      ]
    },
    {
      "cell_type": "code",
      "execution_count": null,
      "metadata": {
        "id": "nVjkkxmNac2c"
      },
      "outputs": [],
      "source": [
        "%%bigquery\n",
        "\n",
        "CREATE OR REPLACE TABLE novel_v2.unique_orgs AS\n",
        "WITH unique_org AS (\n",
        "  SELECT\n",
        "    dedupe_id,\n",
        "    d.*\n",
        "  FROM deduped_v2.unique_org_ids AS u\n",
        "  LEFT JOIN deduped_v2.unique_orgs_sbs AS d ON u.org_id = d.org_id\n",
        "  QUALIFY ROW_NUMBER() OVER(PARTITION BY dedupe_id ORDER BY data_source_priority, LENGTH(org_name)) = 1\n",
        ")\n",
        "SELECT *,\n",
        "  CASE WHEN data_source = 'ipeds' THEN org_type END AS org_subtype_ipeds,\n",
        "  CASE WHEN data_source = 'irs' THEN org_type END AS org_subtype_irs,\n",
        "  CASE WHEN data_source = 'rapids' THEN org_type END AS org_subtype_rapids,\n",
        "  CASE WHEN data_source = 'tpr' THEN org_type END AS org_subtype_tpr\n",
        "FROM unique_org\n",
        "ORDER BY dedupe_id, data_source\n",
        ";"
      ]
    },
    {
      "cell_type": "code",
      "execution_count": null,
      "metadata": {
        "id": "by-HRlxbag1_"
      },
      "outputs": [],
      "source": [
        "%%bigquery\n",
        "SELECT data_source, COUNT(*) AS org_count, COUNT(DISTINCT org_id) AS unique_org_count\n",
        "FROM deduped_v2.unique_orgs_sbs\n",
        "GROUP BY data_source\n",
        "ORDER BY data_source"
      ]
    },
    {
      "cell_type": "code",
      "execution_count": null,
      "metadata": {
        "id": "djD32zOTKOR4"
      },
      "outputs": [],
      "source": [
        "%%bigquery\n",
        "CREATE OR REPLACE TABLE deduped_v2.unique_orgs_excluded AS\n",
        "WITH unique_org AS (\n",
        "  SELECT\n",
        "    dedupe_id,\n",
        "    d.*\n",
        "  FROM deduped_v2.unique_org_ids AS u\n",
        "  LEFT JOIN deduped_v2.unique_orgs_sbs AS d ON u.org_id = d.org_id\n",
        "  QUALIFY ROW_NUMBER() OVER(PARTITION BY dedupe_id ORDER BY data_source_priority, LENGTH(org_name)) > 1\n",
        ")\n",
        "SELECT *,\n",
        "  -- CAST(in_ipeds AS INT64) + CAST(in_rapids AS INT64) + CAST(in_irs AS INT64) + CAST(in_tpr AS INT64) AS num_data_sources,\n",
        "  CASE WHEN data_source = 'ipeds' THEN org_type END AS org_subtype_ipeds,\n",
        "  CASE WHEN data_source = 'irs' THEN org_type END AS org_subtype_irs,\n",
        "  CASE WHEN data_source = 'rapids' THEN org_type END AS org_subtype_rapids,\n",
        "  CASE WHEN data_source = 'tpr' THEN org_type END AS org_subtype_tpr\n",
        "FROM unique_org\n",
        "ORDER BY dedupe_id, data_source\n",
        ";"
      ]
    },
    {
      "cell_type": "code",
      "execution_count": null,
      "metadata": {
        "id": "Rm-hs2MyKR6R"
      },
      "outputs": [],
      "source": [
        "%%bigquery\n",
        "-- Find orgs with the same dedupe_id\n",
        "SELECT *\n",
        "FROM deduped_v2.unique_orgs_excluded\n",
        "WHERE dedupe_id IN (\n",
        "  SELECT dedupe_id\n",
        "  FROM deduped_v2.unique_orgs_excluded\n",
        "  GROUP BY dedupe_id\n",
        "  HAVING COUNT(*) > 1\n",
        ")\n",
        "ORDER BY dedupe_id, data_source"
      ]
    },
    {
      "cell_type": "code",
      "execution_count": null,
      "metadata": {
        "id": "yzUzkQouKVeR"
      },
      "outputs": [],
      "source": [
        "%%bigquery\n",
        "-- Reduce duplicate orgs to a single dedupe_id\n",
        "CREATE OR REPLACE TABLE deduped_v2.unique_orgs_excluded_deduped AS\n",
        "SELECT dedupe_id,\n",
        "  MAX(in_ipeds) AS in_ipeds,\n",
        "  MAX(in_irs) AS in_irs,\n",
        "  MAX(in_rapids) AS in_rapids,\n",
        "  MAX(in_tpr) AS in_tpr,\n",
        "  MAX(org_subtype_ipeds) AS org_subtype_ipeds,  --questionable. what if the dupes have different subtype? Data quality issue?\n",
        "  MAX(org_subtype_irs) AS org_subtype_irs,\n",
        "  MAX(org_subtype_rapids) AS org_subtype_rapids,\n",
        "  MAX(org_subtype_tpr) AS org_subtype_tpr,\n",
        "  MAX(ipeds_unique_id) AS ipeds_unique_id,\n",
        "  MAX(irs_unique_id) AS irs_unique_id,\n",
        "  MAX(rapids_unique_id) AS rapids_unique_id,\n",
        "  MAX(tpr_unique_id) AS tpr_unique_id\n",
        "FROM deduped_v2.unique_orgs_excluded\n",
        "GROUP BY dedupe_id"
      ]
    },
    {
      "cell_type": "markdown",
      "metadata": {
        "id": "u_NpErIoKYKM"
      },
      "source": [
        "Update `in_<data_source>` flags of the novel dataset using the excluded orgs"
      ]
    },
    {
      "cell_type": "code",
      "execution_count": null,
      "metadata": {
        "id": "Ecbqu4BxamgK"
      },
      "outputs": [],
      "source": [
        "%%bigquery\n",
        "CREATE OR REPLACE TABLE deduped_v2.orgs_with_similar_names\n",
        "(\n",
        "  jws_score INT64,\n",
        "  lev_score INT64,\n",
        "  org1_dedupe_id INT64,\n",
        "  org2_dedupe_id INT64,\n",
        "  org1_name STRING,\n",
        "  org2_name STRING,\n",
        "  org1_data_source STRING,\n",
        "  org2_data_source STRING,\n",
        "  chosen_org_type STRING,\n",
        "  org_id STRING,\n",
        "  ipeds_unique_id INT64,\n",
        "  irs_unique_id STRING,\n",
        "  rapids_unique_id INT64,\n",
        "  tpr_unique_id INT64,\n",
        "  org_address STRING,\n",
        "  std_street STRING,\n",
        "  std_city STRING,\n",
        "  std_state STRING,\n",
        "  std_zip STRING,\n",
        "  geo_lat FLOAT64,\n",
        "  geo_lon FLOAT64,\n",
        "  org_type STRING,\n",
        "  ein STRING,\n",
        "  in_ipeds BOOL,\n",
        "  in_dol BOOL,\n",
        "  in_irs BOOL,\n",
        "  in_tpr BOOL,\n",
        "  org_subtype_ipeds STRING,\n",
        "  org_subtype_dol STRING,\n",
        "  org_subtype_irs STRING,\n",
        "  org_subtype_tpr STRING,\n",
        "  --num_data_sources INT64\n",
        ");"
      ]
    },
    {
      "cell_type": "markdown",
      "metadata": {
        "id": "QQAv194Capqw"
      },
      "source": [
        "Apply name similarity deduplication but this time instead of exact address match, just use the same city and higher name similarity threshold as the filter\n"
      ]
    },
    {
      "cell_type": "code",
      "execution_count": null,
      "metadata": {
        "id": "f3X4b0FvarC5"
      },
      "outputs": [],
      "source": [
        "%%bigquery\n",
        "DECLARE max_dedupe_id INT64;\n",
        "DECLARE i INT64 DEFAULT 0;\n",
        "EXECUTE IMMEDIATE \"SELECT MAX(dedupe_id) FROM novel_v2.unique_orgs\" INTO max_dedupe_id;\n",
        "\n",
        "SELECT max_dedupe_id;\n",
        "\n",
        "TRUNCATE TABLE deduped_v2.orgs_with_similar_names;\n",
        "\n",
        "WHILE i < max_dedupe_id DO\n",
        "  INSERT INTO deduped_v2.orgs_with_similar_names\n",
        "  WITH selected AS (\n",
        "    SELECT dedupe_id, org_name, std_state, std_city, data_source\n",
        "    FROM novel_v2.unique_orgs\n",
        "    WHERE dedupe_id BETWEEN i AND i + 999\n",
        "  ),\n",
        "  calculations AS (\n",
        "    SELECT reference.jaro_winkler_similarity(t1.org_name, t2.org_name) AS jws_score,\n",
        "      -- reference.levenshtein_distance(t1.org_name, t2.org_name) AS lev_distance,\n",
        "      CAST(100*ROUND(1 - reference.levenshtein_distance(t1.org_name, t2.org_name) / LENGTH(t1.org_name), 2) AS INT64) AS lev_score,\n",
        "      t1.dedupe_id AS org1_dedupe_id,\n",
        "      t2.dedupe_id AS org2_dedupe_id,\n",
        "      t1.org_name AS org1_name,\n",
        "      t2.org_name AS org2_name,\n",
        "      t1.data_source AS org1_data_source,\n",
        "      t2.data_source AS org2_data_source,\n",
        "      t2.* EXCEPT(dedupe_id, org_name, data_source, data_source_priority)\n",
        "    FROM selected AS t1\n",
        "    CROSS JOIN novel_v2.unique_orgs AS t2\n",
        "    WHERE t1.dedupe_id > t2.dedupe_id AND t1.std_state = t2.std_state AND t1.std_city = t2.std_city\n",
        "  )\n",
        "  SELECT *\n",
        "  FROM calculations\n",
        "  -- Thresholds are higher than the exact address match version\n",
        "  WHERE jws_score >= 80 AND lev_score >= 90\n",
        "  ;\n",
        "  SET i = i + 1000;\n",
        "END WHILE;\n"
      ]
    },
    {
      "cell_type": "markdown",
      "metadata": {
        "id": "KMBMMlRDbkEy"
      },
      "source": [
        "Find the duplicate org clusters and send for review"
      ]
    },
    {
      "cell_type": "code",
      "execution_count": null,
      "metadata": {
        "id": "auB2JSJqbnlk"
      },
      "outputs": [],
      "source": [
        "query = \"SELECT DISTINCT dedupe_id FROM novel_v2.unique_orgs\"\n",
        "query_job = client.query(query)"
      ]
    },
    {
      "cell_type": "code",
      "execution_count": null,
      "metadata": {
        "id": "NgfxtKnybp44"
      },
      "outputs": [],
      "source": [
        "deduped_orgs = query_job.to_dataframe()"
      ]
    },
    {
      "cell_type": "code",
      "execution_count": null,
      "metadata": {
        "id": "sQLLHFRubre-"
      },
      "outputs": [],
      "source": [
        "nodes = set(deduped_orgs[\"dedupe_id\"])"
      ]
    },
    {
      "cell_type": "code",
      "execution_count": null,
      "metadata": {
        "id": "GHkCj69Mbsq4"
      },
      "outputs": [],
      "source": [
        "query = \"SELECT org1_dedupe_id, org2_dedupe_id FROM deduped_v2.orgs_with_similar_names\"\n",
        "query_job = client.query(query)\n",
        "similar_orgs = query_job.to_dataframe()\n",
        "edges = set(zip(similar_orgs[\"org1_dedupe_id\"], similar_orgs[\"org2_dedupe_id\"]))"
      ]
    },
    {
      "cell_type": "code",
      "execution_count": null,
      "metadata": {
        "id": "OgyCKw7nbvPB"
      },
      "outputs": [],
      "source": [
        "graph = nx.Graph()"
      ]
    },
    {
      "cell_type": "code",
      "execution_count": null,
      "metadata": {
        "id": "4ureKLZCbw-w"
      },
      "outputs": [],
      "source": [
        "graph.add_nodes_from(nodes)\n",
        "graph.add_edges_from(edges)"
      ]
    },
    {
      "cell_type": "code",
      "execution_count": null,
      "metadata": {
        "id": "Phs7DiWwbyOb"
      },
      "outputs": [],
      "source": [
        "components = {i:n for i, n in enumerate(nx.connected_components(graph))}"
      ]
    },
    {
      "cell_type": "code",
      "execution_count": null,
      "metadata": {
        "id": "F0g9sEybb0En"
      },
      "outputs": [],
      "source": [
        "matchset = [(k, w) for k, v in components.items() for w in v]"
      ]
    },
    {
      "cell_type": "code",
      "execution_count": null,
      "metadata": {
        "id": "Vg_l5tCTb0_W"
      },
      "outputs": [],
      "source": [
        "match_df = pd.DataFrame(matchset, columns=[\"match_id\", \"dedupe_id\"])"
      ]
    },
    {
      "cell_type": "code",
      "execution_count": null,
      "metadata": {
        "id": "N4c4he-pb2MR"
      },
      "outputs": [],
      "source": [
        "match_df.to_gbq(\"deduped_v2.orgs_with_similar_names_match_clusters\", project_id=project, if_exists='replace')"
      ]
    },
    {
      "cell_type": "code",
      "execution_count": null,
      "metadata": {
        "id": "dtzLRLYRb3_G"
      },
      "outputs": [],
      "source": [
        "%%bigquery\n",
        "CREATE OR REPLACE TABLE deduped_v2.orgs_with_similar_names_to_check AS\n",
        "WITH clusters AS (\n",
        "  SELECT *,\n",
        "    COUNT(dedupe_id) OVER (PARTITION BY match_id) AS row_count\n",
        "  FROM deduped_v2.orgs_with_similar_names_match_clusters\n",
        "),\n",
        "relevant AS (\n",
        "  SELECT match_id, dedupe_id\n",
        "  FROM clusters\n",
        "  WHERE row_count > 1\n",
        ")\n",
        "SELECT match_id, n.*\n",
        "FROM relevant AS r\n",
        "INNER JOIN novel_v2.unique_orgs AS n ON r.dedupe_id = n.dedupe_id\n",
        "ORDER BY match_id, dedupe_id\n",
        ";"
      ]
    },
    {
      "cell_type": "markdown",
      "metadata": {
        "id": "QBzTUftNb61z"
      },
      "source": [
        "# Dedupe and QA Steps"
      ]
    },
    {
      "cell_type": "code",
      "execution_count": null,
      "metadata": {
        "id": "K-Vz2tCgb6md"
      },
      "outputs": [],
      "source": [
        "%%bigquery\n",
        "CREATE SCHEMA IF NOT EXISTS qa_v2 OPTIONS(location='us-central1');"
      ]
    },
    {
      "cell_type": "markdown",
      "metadata": {
        "id": "R2Q_L4o6cM70"
      },
      "source": [
        "Deduplicate by prioritizing IPEDS above the other data sources"
      ]
    },
    {
      "cell_type": "code",
      "execution_count": null,
      "metadata": {
        "id": "G2A9fi2WcPNB"
      },
      "outputs": [],
      "source": [
        "%%bigquery\n",
        "CREATE OR REPLACE TABLE qa_v2.novel_deleted_unique_orgs_bc_similar_name AS\n",
        "WITH preferred_source AS (\n",
        "  SELECT *,\n",
        "    CASE\n",
        "      WHEN data_source = 'ipeds'\n",
        "      THEN 1\n",
        "      ELSE 2\n",
        "    END AS preferred\n",
        "  FROM deduped_v2.orgs_with_similar_names_to_check\n",
        "),\n",
        "ranked AS (\n",
        "  SELECT *,\n",
        "    ROW_NUMBER() OVER (PARTITION BY match_id ORDER BY preferred) AS source_rank\n",
        "  FROM preferred_source\n",
        "),\n",
        "\n",
        "exceptions AS (\n",
        "  SELECT COUNT(data_source) OVER(PARTITION BY match_id) AS counts, *\n",
        "  FROM ranked\n",
        "  WHERE source_rank = 1 AND data_source = 'ipeds'\n",
        "  QUALIFY counts > 1\n",
        ")\n",
        "SELECT\n",
        "  CASE\n",
        "    WHEN e.dedupe_id IS NULL AND r.source_rank <> 1\n",
        "    THEN 'delete'\n",
        "    ELSE 'keep'\n",
        "  END AS decision,\n",
        "  CASE\n",
        "    WHEN r.data_source = 'ipeds' THEN 'data source is ipeds'\n",
        "    WHEN r.source_rank = 1 THEN 'survivor of the match group'\n",
        "    ELSE 'marked as duplicate'\n",
        "  END AS reason,\n",
        "  r.*\n",
        "FROM ranked AS r\n",
        "LEFT JOIN exceptions AS e ON r.match_id = e.match_id AND r.dedupe_id = e.dedupe_id\n",
        "ORDER BY match_id, dedupe_id\n",
        ";"
      ]
    },
    {
      "cell_type": "code",
      "execution_count": null,
      "metadata": {
        "id": "A9EMb2E4LS8H"
      },
      "outputs": [],
      "source": [
        "%%bigquery\n",
        "UPDATE novel_v2.unique_orgs AS u\n",
        "SET\n",
        "  in_ipeds = u.in_ipeds OR d.in_ipeds,\n",
        "  in_irs = u.in_irs OR d.in_irs,\n",
        "  in_rapids = u.in_rapids OR d.in_rapids,\n",
        "  in_tpr = u.in_tpr OR d.in_tpr,\n",
        "  org_subtype_ipeds = COALESCE(u.org_subtype_ipeds, d.org_subtype_ipeds),\n",
        "  org_subtype_irs = COALESCE(u.org_subtype_irs, d.org_subtype_irs),\n",
        "  org_subtype_rapids = COALESCE(u.org_subtype_rapids, d.org_subtype_rapids),\n",
        "  org_subtype_tpr = COALESCE(u.org_subtype_tpr, d.org_subtype_tpr),\n",
        "  ipeds_unique_id = COALESCE(u.ipeds_unique_id, d.ipeds_unique_id),\n",
        "  irs_unique_id = COALESCE(u.irs_unique_id, d.irs_unique_id),\n",
        "  rapids_unique_id = COALESCE(u.rapids_unique_id, d.rapids_unique_id),\n",
        "  tpr_unique_id = COALESCE(u.tpr_unique_id, d.tpr_unique_id)\n",
        "FROM qa_v2.novel_deleted_unique_orgs_bc_similar_name AS d\n",
        "WHERE u.dedupe_id = d.dedupe_id"
      ]
    },
    {
      "cell_type": "markdown",
      "metadata": {
        "id": "zuv1h_tCcT_J"
      },
      "source": [
        "Remove IPEDS orgs in unwanted categories"
      ]
    },
    {
      "cell_type": "code",
      "execution_count": null,
      "metadata": {
        "id": "x7ugZWQMgEMD"
      },
      "outputs": [],
      "source": [
        "%%bigquery\n",
        "DELETE FROM novel_v2.unique_orgs\n",
        "WHERE data_source = 'ipeds' AND org_type_ipeds IN ('-2', '-1', '1', '2', '5')\n",
        ";"
      ]
    },
    {
      "cell_type": "markdown",
      "metadata": {
        "id": "e83iE7kEgHBV"
      },
      "source": [
        "Remove orgs with blank state"
      ]
    },
    {
      "cell_type": "code",
      "execution_count": null,
      "metadata": {
        "id": "73StPpK7gIc8"
      },
      "outputs": [],
      "source": [
        "%%bigquery\n",
        "DELETE FROM novel_v2.unique_orgs\n",
        "WHERE std_state = '';\n"
      ]
    },
    {
      "cell_type": "code",
      "execution_count": null,
      "metadata": {
        "id": "JeCOtVsSLah2"
      },
      "outputs": [],
      "source": [
        "%%bigquery\n",
        "CREATE OR REPLACE TABLE novel_v2.unique_orgs AS\n",
        "SELECT *, CAST(in_ipeds AS INT64) + CAST(in_rapids AS INT64) + CAST(in_irs AS INT64) + CAST(in_tpr AS INT64) AS num_data_sources\n",
        "FROM novel_v2.unique_orgs\n",
        ";"
      ]
    },
    {
      "cell_type": "code",
      "execution_count": null,
      "metadata": {
        "id": "T3pqICIRgKYE"
      },
      "outputs": [],
      "source": [
        "%%bigquery\n",
        "CREATE OR REPLACE TABLE qa_v2.novel_deleted_orgs AS\n",
        "--qa_t2\n",
        "SELECT dedupe_id, 'qa_t2' AS delete_reason\n",
        "FROM novel_v2.unique_orgs\n",
        "WHERE REGEXP_CONTAINS(LOWER(org_name), \"(high|charter|public|adult|grammar|grade) school|school district\")\n",
        "\n",
        "UNION ALL\n",
        "\n",
        "--qa_t3\n",
        "SELECT dedupe_id, 'qa_t3' AS delete_reason\n",
        "FROM novel_v2.unique_orgs\n",
        "WHERE REGEXP_CONTAINS(LOWER(org_name), \" foundation| fund| trust|foundation |fundacion \")\n",
        "  AND data_source <> 'rapids'\n",
        "\n",
        "UNION ALL\n",
        "\n",
        "--qa_t4\n",
        "SELECT dedupe_id, 'qa_t4' AS delete_reason\n",
        "FROM novel_v2.unique_orgs\n",
        "WHERE REGEXP_CONTAINS(LOWER(org_name), \"career center\")\n",
        "\n",
        "UNION ALL\n",
        "\n",
        "--qa_t5\n",
        "SELECT dedupe_id, 'qa_t5' AS delete_reason\n",
        "FROM novel_v2.unique_orgs\n",
        "WHERE data_source = 'irs'\n",
        "  AND org_type = 'B60'\n",
        "  AND num_data_sources = 1\n",
        "\n",
        "UNION ALL\n",
        "\n",
        "--qa_t6\n",
        "SELECT dedupe_id, 'qa_t6' AS delete_reason\n",
        "FROM novel_v2.unique_orgs\n",
        "WHERE data_source = 'tpr'\n",
        "  AND org_type = 'Higher Ed: Baccalaureate or Higher'\n",
        ";"
      ]
    },
    {
      "cell_type": "code",
      "execution_count": null,
      "metadata": {
        "id": "RM7i26MegMjn"
      },
      "outputs": [],
      "source": [
        "%%bigquery\n",
        "DELETE\n",
        "FROM novel_v2.unique_orgs\n",
        "WHERE dedupe_id IN (\n",
        "  SELECT DISTINCT dedupe_id\n",
        "  FROM qa_v2.novel_deleted_orgs\n",
        ")\n",
        ";"
      ]
    },
    {
      "cell_type": "code",
      "execution_count": null,
      "metadata": {
        "id": "-futLfWGgN9i"
      },
      "outputs": [],
      "source": [
        "%%bigquery\n",
        "DELETE\n",
        "FROM novel_v2.unique_orgs\n",
        "WHERE dedupe_id IN (\n",
        "  SELECT DISTINCT dedupe_id\n",
        "  FROM qa_v2.novel_deleted_unique_orgs_bc_similar_name\n",
        "  WHERE decision = 'delete'\n",
        ")"
      ]
    },
    {
      "cell_type": "code",
      "execution_count": null,
      "metadata": {
        "id": "M8vwbWULgVHH"
      },
      "outputs": [],
      "source": [
        "%%bigquery\n",
        "SELECT data_source, COUNT(*) AS org_count, COUNT(DISTINCT org_id) AS unique_org_count\n",
        "FROM novel_v2.unique_orgs\n",
        "GROUP BY data_source\n",
        "ORDER BY data_source"
      ]
    },
    {
      "cell_type": "code",
      "execution_count": null,
      "metadata": {
        "id": "tiZkdbghga5W"
      },
      "outputs": [],
      "source": [
        "%%bigquery\n",
        "-- Task 2.1: Rename variable org_type for org_subtype_in_data_source\n",
        "ALTER TABLE novel_v2.unique_orgs RENAME COLUMN org_type TO org_subtype_in_data_source;"
      ]
    },
    {
      "cell_type": "code",
      "execution_count": null,
      "metadata": {
        "id": "EB8reOUQL1Yv"
      },
      "outputs": [],
      "source": [
        "%%bigquery\n",
        "CREATE OR REPLACE TABLE novel_v2.unique_orgs AS\n",
        "SELECT *,\n",
        "  CASE WHEN in_ipeds THEN 'higher ed institution' END AS org_type_ipeds,\n",
        "  CASE WHEN in_irs THEN 'non profit' END AS org_type_irs,\n",
        "  CASE WHEN in_rapids THEN 'federally registered apprenticeship' END AS org_type_rapids,\n",
        "  CASE WHEN in_tpr THEN 'WIOA funds recipient' END AS org_type_tpr\n",
        "FROM novel_v2.unique_orgs\n",
        ";"
      ]
    },
    {
      "cell_type": "code",
      "execution_count": null,
      "metadata": {
        "id": "jaEgBvh6g4ke"
      },
      "outputs": [],
      "source": [
        "%%bigquery\n",
        "ALTER TABLE novel_v2.unique_orgs ADD COLUMN last_updated DATE;"
      ]
    },
    {
      "cell_type": "code",
      "execution_count": null,
      "metadata": {
        "id": "oEtgu-Pbg52r"
      },
      "outputs": [],
      "source": [
        "%%bigquery\n",
        "UPDATE novel_v2.unique_orgs\n",
        "SET last_updated = '2025-06-02'\n",
        "WHERE TRUE\n",
        ";"
      ]
    },
    {
      "cell_type": "code",
      "execution_count": null,
      "metadata": {
        "id": "tjXtbnXpL-ZH"
      },
      "outputs": [],
      "source": [
        "%%bigquery\n",
        "UPDATE novel_v2.unique_orgs\n",
        "SET org_subtype_irs = \"Vocational, Technical Schools\"\n",
        "WHERE org_subtype_irs LIKE \"B30%\";\n",
        "\n",
        "UPDATE novel_v2.unique_orgs\n",
        "SET org_subtype_irs = \"Community or Junior Colleges\"\n",
        "WHERE org_subtype_irs LIKE \"B41%\";\n",
        "\n",
        "UPDATE novel_v2.unique_orgs\n",
        "SET org_subtype_irs = \"Adult, Continuing Education\"\n",
        "WHERE org_subtype_irs LIKE \"B60%\";\n",
        "\n",
        "UPDATE novel_v2.unique_orgs\n",
        "SET org_subtype_irs = \"Employment Procurement Assistance, Job Training\"\n",
        "WHERE org_subtype_irs LIKE \"J20%\";\n",
        "\n",
        "UPDATE novel_v2.unique_orgs\n",
        "SET org_subtype_irs = \"Vocational Counseling, Guidance and Testing\"\n",
        "WHERE org_subtype_irs LIKE \"J21%\";\n",
        "\n",
        "UPDATE novel_v2.unique_orgs\n",
        "SET org_subtype_irs = \"Vocational Training\"\n",
        "WHERE org_subtype_irs LIKE \"J22%\";\n",
        "\n",
        "UPDATE novel_v2.unique_orgs\n",
        "SET org_subtype_irs = \"Vocational Rehabilitation\"\n",
        "WHERE org_subtype_irs LIKE \"J30%\";\n",
        "\n",
        "UPDATE novel_v2.unique_orgs\n",
        "SET org_subtype_irs = \"Goodwill Industries\"\n",
        "WHERE org_subtype_irs LIKE \"J32%\";\n",
        "\n",
        "UPDATE novel_v2.unique_orgs\n",
        "SET org_subtype_irs = \"Sheltered Remunerative Employment, Work Activity Center N.E.C.\"\n",
        "WHERE org_subtype_irs LIKE \"J33%\";"
      ]
    },
    {
      "cell_type": "code",
      "execution_count": null,
      "metadata": {
        "id": "6-ws7Jg5MA5I"
      },
      "outputs": [],
      "source": [
        "%%bigquery\n",
        "UPDATE novel_v2.unique_orgs\n",
        "SET std_zip = LPAD(std_zip, 5, '0')\n",
        "WHERE LENGTH(std_zip) < 5\n",
        ";"
      ]
    },
    {
      "cell_type": "code",
      "execution_count": null,
      "metadata": {
        "id": "-hhEUvvJMCrE"
      },
      "outputs": [],
      "source": [
        "%%bigquery\n",
        "ALTER TABLE novel_v2.unique_orgs DROP COLUMN data_source_priority;"
      ]
    },
    {
      "cell_type": "markdown",
      "metadata": {
        "id": "SSOHGw2ZhRMO"
      },
      "source": [
        "These next steps are for novel dataset QA. The goal is to make sure there are no dupes left in the final novel dataset. It also lists orgs that were dropped during the deduplication steps to confirm that they were dropped for a good reason."
      ]
    },
    {
      "cell_type": "code",
      "execution_count": null,
      "metadata": {
        "id": "9RKuk1gnhjkV"
      },
      "outputs": [],
      "source": [
        "%%bigquery\n",
        "CREATE OR REPLACE TABLE deduped_v2.potential_dupes_from_novel_dataset AS\n",
        "WITH address_match AS (\n",
        "  SELECT DISTINCT\n",
        "\n",
        "    t1.org_id AS t1_org_id,\n",
        "    t2.org_id AS t2_org_id,\n",
        "    t1.org_name AS t1_org_name,\n",
        "    t2.org_name AS t2_org_name,\n",
        "    reference.jaro_winkler_similarity(t1.org_name, t2.org_name) AS jw_similarity,\n",
        "    -- reference.levenshtein_distance(t1.org_name, t2.org_name) AS lev_distance,\n",
        "    CAST(100*ROUND(1 - reference.levenshtein_distance(t1.org_name, t2.org_name) / LENGTH(t1.org_name), 2) AS INT64) AS lev_similarity,\n",
        "    t1.std_state AS t1_std_state,\n",
        "    t2.std_state AS t2_std_state,\n",
        "    t1.std_city AS t1_std_city,\n",
        "    t2.std_city AS t2_std_city,\n",
        "    t1.data_source AS t1_data_source,\n",
        "    t2.data_source AS t2_data_source\n",
        "  FROM novel_v2.unique_orgs AS t1\n",
        "  INNER JOIN novel_v2.unique_orgs AS t2\n",
        "    ON t1.std_state = t2.std_state\n",
        "    AND t1.std_city = t2.std_city\n",
        "    AND t1.org_id > t2.org_id\n",
        "    AND LENGTH(t1.org_name) >= 10\n",
        "    AND LENGTH(t2.org_name) >= 10\n",
        ")\n",
        "SELECT *\n",
        "FROM address_match\n",
        "WHERE jw_similarity >= 50 AND lev_similarity >= 60\n",
        "ORDER BY lev_similarity DESC, jw_similarity DESC"
      ]
    },
    {
      "cell_type": "code",
      "execution_count": null,
      "metadata": {
        "id": "SZhLFE4BhnQX"
      },
      "outputs": [],
      "source": [
        "%%bigquery\n",
        "SELECT *\n",
        "FROM qa_v2.novel_deleted_unique_orgs_bc_similar_name\n",
        "-- WHERE decision = 'delete'\n",
        "ORDER BY match_id"
      ]
    },
    {
      "cell_type": "markdown",
      "metadata": {
        "id": "k27O2kq8Bpi6"
      },
      "source": [
        "### The outcome of the review was that we should remove these duplicates by\n",
        "1. deciding on a similarity threshold\n",
        "2. for any two orgs matching above a specific threshold delete the org from the lower priority data source\n",
        "\n",
        "Org priority:\n",
        "IPEDS > IRS > RAPIDS > TPR\n",
        "\n",
        "### Thresholds\n",
        "jw_similarity >= 70\n",
        "lev_similarity >= 85\n"
      ]
    },
    {
      "cell_type": "code",
      "execution_count": null,
      "metadata": {
        "id": "o1ak2mXHBrae"
      },
      "outputs": [],
      "source": [
        "%%bigquery\n",
        "CREATE OR REPLACE TABLE deduped_v2.orgs_to_delete_step08 AS\n",
        "WITH prioritized AS (SELECT\n",
        "  CASE t1_data_source\n",
        "  WHEN 'ipeds' THEN 1\n",
        "  WHEN 'irs' THEN 2\n",
        "  WHEN 'rapids' THEN 3\n",
        "  WHEN 'tpr' THEN 4\n",
        "  END AS t1_data_source_priority, --lower is better\n",
        "    CASE t2_data_source\n",
        "  WHEN 'ipeds' THEN 1\n",
        "  WHEN 'irs' THEN 2\n",
        "  WHEN 'rapids' THEN 3\n",
        "  WHEN 'tpr' THEN 4\n",
        "  END AS t2_data_source_priority,\n",
        "  *\n",
        "FROM deduped_v2.potential_dupes_from_novel_dataset\n",
        "-- to increase dedupe confidence increase the threshold\n",
        "WHERE jw_similarity >= 70 AND lev_similarity >= 85\n",
        ")\n",
        "SELECT\n",
        "  CASE\n",
        "    WHEN t1_data_source_priority > t2_data_source_priority\n",
        "    THEN t1_org_id\n",
        "    ELSE t2_org_id -- includes \"same data source\" scenarios\n",
        "  END AS org_id_to_delete,\n",
        "  CASE\n",
        "    WHEN t1_data_source_priority <= t2_data_source_priority\n",
        "    THEN t1_org_id\n",
        "    ELSE t2_org_id\n",
        "  END AS survivor_org_id,\n",
        "  *\n",
        "FROM prioritized\n",
        "ORDER BY lev_similarity DESC\n"
      ]
    },
    {
      "cell_type": "code",
      "execution_count": null,
      "metadata": {
        "id": "WjVw7JfxM3O9"
      },
      "outputs": [],
      "source": [
        "# Fetch the orgs to be deleted\n",
        "sql = \"SELECT * FROM deduped_v2.orgs_to_delete_step08\"\n",
        "df_to_delete = pandas_gbq.read_gbq(sql, project_id=project, dialect=\"standard\")\n",
        "\n",
        "# Fetch the novel_v2 unique orgs data\n",
        "sql = \"SELECT * FROM novel_v2.unique_orgs\"\n",
        "df_novel = pandas_gbq.read_gbq(sql, project_id=project, dialect=\"standard\")\n",
        "\n",
        "\n",
        "# Update the in_ipeds, in_irs, etc. fields in df_novel\n",
        "for index, row in df_to_delete.iterrows():\n",
        "    org_id_to_delete = row['org_id_to_delete']\n",
        "    survivor_org_id = row['survivor_org_id']\n",
        "\n",
        "    # Find the corresponding rows in df_novel\n",
        "    delete_row = df_novel[df_novel['org_id'] == org_id_to_delete]\n",
        "    survivor_row = df_novel[df_novel['org_id'] == survivor_org_id]\n",
        "\n",
        "    if not delete_row.empty and not survivor_row.empty:\n",
        "        # Update boolean columns. Use the 'or' operator to combine values.\n",
        "        bool_cols = ['in_ipeds', 'in_irs', 'in_rapids', 'in_tpr']\n",
        "        for col in bool_cols:\n",
        "            df_novel.loc[df_novel['org_id'] == survivor_org_id, col] = survivor_row[col].iloc[0] or delete_row[col].iloc[0]\n",
        "\n",
        "        # Update subtype columns. Prioritize the value from the deleted row if it exists.\n",
        "        subtype_cols = ['org_subtype_ipeds', 'org_subtype_irs', 'org_subtype_rapids', 'org_subtype_tpr']\n",
        "        for col in subtype_cols:\n",
        "            if not pd.isnull(delete_row[col].iloc[0]):\n",
        "                df_novel.loc[df_novel['org_id'] == survivor_org_id, col] = delete_row[col].iloc[0]\n",
        "            elif pd.isnull(df_novel.loc[df_novel['org_id'] == survivor_org_id, col].iloc[0]) and not pd.isnull(survivor_row[col].iloc[0]):\n",
        "                df_novel.loc[df_novel['org_id'] == survivor_org_id, col] = survivor_row[col].iloc[0]\n",
        "\n",
        "        # Update unique_id columns\n",
        "        unique_id_cols = ['ipeds_unique_id', 'irs_unique_id', 'rapids_unique_id', 'tpr_unique_id']\n",
        "        for col in unique_id_cols:\n",
        "            if not pd.isnull(delete_row[col].iloc[0]):\n",
        "                df_novel.loc[df_novel['org_id'] == survivor_org_id, col] = delete_row[col].iloc[0]\n",
        "            elif pd.isnull(df_novel.loc[df_novel['org_id'] == survivor_org_id, col].iloc[0]) and not pd.isnull(survivor_row[col].iloc[0]):\n",
        "                df_novel.loc[df_novel['org_id'] == survivor_org_id, col] = survivor_row[col].iloc[0]\n"
      ]
    },
    {
      "cell_type": "code",
      "execution_count": null,
      "metadata": {
        "id": "U4163ChiM93a"
      },
      "outputs": [],
      "source": [
        "df_novel.to_gbq(\"novel_v2.unique_orgs\", project_id=project, if_exists='replace')"
      ]
    },
    {
      "cell_type": "code",
      "execution_count": null,
      "metadata": {
        "id": "wgDBtEOzBuf1"
      },
      "outputs": [],
      "source": [
        "%%bigquery\n",
        "DELETE FROM novel_v2.unique_orgs\n",
        "WHERE org_id IN (\n",
        "  SELECT DISTINCT org_id_to_delete\n",
        "  FROM deduped_v2.orgs_to_delete_step08\n",
        "  )"
      ]
    },
    {
      "cell_type": "code",
      "execution_count": null,
      "metadata": {
        "id": "Nk0Uj7NmNDsm"
      },
      "outputs": [],
      "source": [
        "%%bigquery\n",
        "CREATE OR REPLACE TABLE novel_v2.unique_orgs AS\n",
        "SELECT *,\n",
        "  CASE WHEN org_subtype_ipeds = \"3\" THEN TRUE ELSE FALSE END AS org_subtype_highest_degree_bachelors_plus,\n",
        "  CASE WHEN org_subtype_ipeds = \"4\" THEN TRUE ELSE FALSE END AS org_subtype_highest_degree_associates,\n",
        "  CASE WHEN org_subtype_ipeds = \"6\" THEN TRUE ELSE FALSE END AS org_subtype_highest_degree_certificate,\n",
        "  CASE WHEN (\n",
        "      (org_subtype_ipeds IS NULL AND org_subtype_irs LIKE \"B41%\") OR\n",
        "      (org_subtype_ipeds IS NULL AND org_subtype_tpr LIKE \"Higher Ed%\") OR\n",
        "      (org_subtype_ipeds IS NULL AND org_subtype_rapids = \"Community College/University\"))\n",
        "    THEN TRUE ELSE FALSE\n",
        "  END AS org_subtype_other_higher_ed_institution,\n",
        "  CASE WHEN org_subtype_tpr = \"Private For-Profit\" THEN TRUE ELSE FALSE END AS org_subtype_private_for_profit,\n",
        "  CASE WHEN org_subtype_rapids = \"Business Association\" THEN TRUE ELSE FALSE END AS org_subtype_apprenticeship_business_association,\n",
        "  CASE WHEN org_subtype_rapids = \"Employer\" THEN TRUE ELSE FALSE END AS org_subtype_apprenticeship_employer,\n",
        "  CASE WHEN org_subtype_rapids = \"Intermediary\" THEN TRUE ELSE FALSE END AS org_subtype_apprenticeship_intermediary,\n",
        "  CASE\n",
        "    WHEN org_subtype_rapids IN (\n",
        "      \"Federal Agency\",\n",
        "      \"City/County Agency\",\n",
        "      \"State Agency\")\n",
        "    THEN TRUE ELSE FALSE\n",
        "  END AS org_subtype_apprenticeship_gov,\n",
        "  CASE WHEN org_subtype_rapids = \"Workforce Investment Board\" THEN TRUE ELSE FALSE END AS org_subtype_apprenticeship_wib,\n",
        "  CASE WHEN org_subtype_rapids = 'Union/Labor'\n",
        "    THEN TRUE\n",
        "    ELSE FALSE\n",
        "  END AS org_subtype_apprenticeship_union_labor,\n",
        "  CASE WHEN org_subtype_rapids = \"Foundation\" THEN TRUE ELSE FALSE END AS org_subtype_apprenticeship_foundation,\n",
        "  CASE\n",
        "    WHEN org_subtype_rapids IN (\"Other\", \"None\", \"Unknown\")\n",
        "    OR org_subtype_tpr = \"National Apprenticeship\"\n",
        "    THEN TRUE ELSE FALSE\n",
        "  END AS org_subtype_apprenticeship_other,\n",
        "  CASE\n",
        "    WHEN org_subtype_irs <> 'Community or Junior Colleges'\n",
        "      OR org_subtype_tpr = \"Private Non-Profit\"\n",
        "      OR org_subtype_rapids = \"Community Based Organization\"\n",
        "    THEN TRUE ELSE FALSE\n",
        "  END AS org_subtype_job_training_non_profits\n",
        "FROM novel_v2.unique_orgs\n",
        ";"
      ]
    },
    {
      "cell_type": "code",
      "execution_count": null,
      "metadata": {
        "id": "_VD7M68KNHAO"
      },
      "outputs": [],
      "source": [
        "%%bigquery\n",
        "UPDATE novel_v2.unique_orgs\n",
        "SET org_subtype_ipeds = \"Degree-granting, not primarily baccalaureate or above\"\n",
        "WHERE org_subtype_ipeds = \"3\"\n",
        ";\n",
        "\n",
        "UPDATE novel_v2.unique_orgs\n",
        "SET org_subtype_ipeds = \"Degree-granting, Associate’s and certificates\"\n",
        "WHERE org_subtype_ipeds = \"4\"\n",
        ";\n",
        "\n",
        "UPDATE novel_v2.unique_orgs\n",
        "SET org_subtype_ipeds = \"Nondegree-granting, sub-baccalaureate\"\n",
        "WHERE org_subtype_ipeds = \"6\"\n",
        ";"
      ]
    },
    {
      "cell_type": "code",
      "execution_count": null,
      "metadata": {
        "id": "D7dp2lduNKsO"
      },
      "outputs": [],
      "source": [
        "%%bigquery\n",
        "UPDATE novel_v2.unique_orgs\n",
        "SET in_ipeds = TRUE\n",
        "WHERE org_id IN (SELECT DISTINCT org_id FROM deduped_v2.organizations_combined WHERE data_source = 'ipeds');\n",
        "\n",
        "UPDATE novel_v2.unique_orgs\n",
        "SET in_rapids = TRUE\n",
        "WHERE org_id IN (SELECT DISTINCT org_id FROM deduped_v2.organizations_combined WHERE data_source = 'rapids');\n",
        "\n",
        "UPDATE novel_v2.unique_orgs\n",
        "SET in_irs = TRUE\n",
        "WHERE org_id IN (SELECT DISTINCT org_id FROM deduped_v2.organizations_combined WHERE data_source = 'irs');\n",
        "\n",
        "UPDATE novel_v2.unique_orgs\n",
        "SET in_tpr = TRUE\n",
        "WHERE org_id IN (SELECT DISTINCT org_id FROM deduped_v2.organizations_combined WHERE data_source = 'tpr');"
      ]
    },
    {
      "cell_type": "code",
      "execution_count": null,
      "metadata": {
        "id": "fvCUOsUlNNBi"
      },
      "outputs": [],
      "source": [
        "%%bigquery\n",
        "UPDATE novel_v2.unique_orgs\n",
        "SET num_data_sources = CAST(in_ipeds AS INT64) + CAST(in_rapids AS INT64) + CAST(in_irs AS INT64) + CAST(in_tpr AS INT64)\n",
        "WHERE TRUE\n",
        ";"
      ]
    },
    {
      "cell_type": "markdown",
      "metadata": {
        "id": "Xjnv7dSXCVBl"
      },
      "source": [
        "In this part, we reuse the output of EIN matching to increase the number of orgs with EIN code in v2"
      ]
    },
    {
      "cell_type": "code",
      "execution_count": null,
      "metadata": {
        "id": "M6BGaAH7CZjr"
      },
      "outputs": [],
      "source": [
        "bucket_name = \"hks-notebook-files\"\n",
        "credentials_file = \"hks-prod-mwc-06a2-d023d43b35e0.json\"\n",
        "scopes = [\n",
        "    \"https://www.googleapis.com/auth/drive\",\n",
        "    \"https://www.googleapis.com/auth/bigquery\",\n",
        "]"
      ]
    },
    {
      "cell_type": "code",
      "execution_count": null,
      "metadata": {
        "id": "RKw3CivACbfP"
      },
      "outputs": [],
      "source": [
        "ein_spreadsheet_id = \"1XQQCarxY7sbcjR0JF2O1cF2pC9fXBghjyVBKHrDve-w\"\n",
        "f5500_sheet_name = \"f5500_2022\"\n",
        "irs_sheet_name = \"irs_990_2022\"\n",
        "tpr_sheet_name = \"tpr_domains_deduped_no_original_urls\""
      ]
    },
    {
      "cell_type": "code",
      "execution_count": null,
      "metadata": {
        "id": "XFJmQmoCCfx3"
      },
      "outputs": [],
      "source": [
        "bigquery_client = bigquery.Client(location=location, project=project)\n",
        "storage_client = storage.Client(project=project)\n",
        "bucket = storage_client.get_bucket(bucket_name)\n",
        "credentials_blob = bucket.blob(credentials_file)"
      ]
    },
    {
      "cell_type": "code",
      "execution_count": null,
      "metadata": {
        "id": "RH8xXljiChsa"
      },
      "outputs": [],
      "source": [
        "credentials_text = credentials_blob.download_as_text()\n",
        "credentials_dict = json.loads(credentials_text)\n",
        "credentials = service_account.Credentials.from_service_account_info(credentials_dict, scopes=scopes)"
      ]
    },
    {
      "cell_type": "code",
      "execution_count": null,
      "metadata": {
        "id": "mz6ScbOvCi9M"
      },
      "outputs": [],
      "source": [
        "gc = gspread.authorize(credentials)"
      ]
    },
    {
      "cell_type": "code",
      "execution_count": null,
      "metadata": {
        "id": "TFhhtP1QCkYw"
      },
      "outputs": [],
      "source": [
        "f5500_sheet = gc.open_by_key(ein_spreadsheet_id).worksheet(f5500_sheet_name)\n",
        "irs_sheet = gc.open_by_key(ein_spreadsheet_id).worksheet(irs_sheet_name)\n",
        "tpr_sheet = gc.open_by_key(ein_spreadsheet_id).worksheet(tpr_sheet_name)"
      ]
    },
    {
      "cell_type": "code",
      "execution_count": null,
      "metadata": {
        "id": "jrQ1F7AjCl-0"
      },
      "outputs": [],
      "source": [
        "f5500_df = pd.DataFrame(f5500_sheet.get_all_records())\n",
        "irs_df = pd.DataFrame(irs_sheet.get_all_records())\n",
        "tpr_df = pd.DataFrame(tpr_sheet.get_all_records())"
      ]
    },
    {
      "cell_type": "code",
      "execution_count": null,
      "metadata": {
        "id": "InF4f1OACoPi"
      },
      "outputs": [],
      "source": [
        "f5500_ein = duckdb.sql(\"SELECT org_id, sf_spons_ein AS ein, 'f5500' AS source FROM f5500_df WHERE invalid = 0\")\n",
        "irs_ein = duckdb.sql(\"SELECT org_id, ein, 'irs' AS source, FROM irs_df WHERE invalid = 0\")\n",
        "tpr_ein = duckdb.sql(\"SELECT novel_org_id AS org_id, irs_ein AS ein, 'tpr' AS source FROM tpr_df WHERE invalid = 0\")"
      ]
    },
    {
      "cell_type": "code",
      "execution_count": null,
      "metadata": {
        "id": "5LmKuZNwCpod"
      },
      "outputs": [],
      "source": [
        "union_query = \"\"\"\n",
        "SELECT * FROM f5500_ein\n",
        "UNION ALL\n",
        "SELECT * FROM irs_ein\n",
        "UNION ALL\n",
        "SELECT * FROM tpr_ein\n",
        "\"\"\""
      ]
    },
    {
      "cell_type": "code",
      "execution_count": null,
      "metadata": {
        "id": "NjPHfbefCrE1"
      },
      "outputs": [],
      "source": [
        "combined_df = duckdb.sql(union_query)"
      ]
    },
    {
      "cell_type": "code",
      "execution_count": null,
      "metadata": {
        "id": "uhDIinWgCsRZ"
      },
      "outputs": [],
      "source": [
        "final_df = combined_df.to_df()"
      ]
    },
    {
      "cell_type": "code",
      "execution_count": null,
      "metadata": {
        "id": "EfYwT56CCuOw"
      },
      "outputs": [],
      "source": [
        "final_df.groupby(\"source\").count()"
      ]
    },
    {
      "cell_type": "code",
      "execution_count": null,
      "metadata": {
        "id": "c1hjnJQECvyC"
      },
      "outputs": [],
      "source": [
        "pandas_gbq.to_gbq(\n",
        "    final_df,\n",
        "    f\"{project}.analysis.ein_matching_combined\",\n",
        "    project_id=project,\n",
        "    if_exists=\"replace\",\n",
        "    credentials=credentials)"
      ]
    },
    {
      "cell_type": "code",
      "execution_count": null,
      "metadata": {
        "id": "jtDppvp9CxcZ"
      },
      "outputs": [],
      "source": [
        "%%bigquery\n",
        "SELECT e.*, o.org_name, o.ein, data_source\n",
        "FROM analysis.ein_matching_combined AS e\n",
        "INNER JOIN novel_v2.unique_orgs AS o ON e.org_id = o.org_id\n",
        "WHERE CAST(e.ein AS STRING) <> COALESCE(o.ein, '')\n",
        "ORDER BY e.org_id"
      ]
    },
    {
      "cell_type": "code",
      "execution_count": null,
      "metadata": {
        "id": "SjklEPCkC0ve"
      },
      "outputs": [],
      "source": [
        "%%bigquery\n",
        "SELECT * FROM novel_v2.unique_orgs WHERE org_id IN (\n",
        "SELECT DISTINCT org_id\n",
        "FROM analysis.ein_matching_combined\n",
        "QUALIFY ROW_NUMBER() OVER (PARTITION BY org_id ORDER BY source) = 1)"
      ]
    },
    {
      "cell_type": "code",
      "execution_count": null,
      "metadata": {
        "id": "Dw744grmC2O_"
      },
      "outputs": [],
      "source": [
        "%%bigquery\n",
        "UPDATE novel_v2.unique_orgs AS u\n",
        "SET u.ein = CAST(e.ein AS STRING)\n",
        "FROM (\n",
        " SELECT *\n",
        " FROM analysis.ein_matching_combined\n",
        "QUALIFY ROW_NUMBER() OVER (PARTITION BY org_id ORDER BY source) = 1) AS e\n",
        "WHERE u.org_id = e.org_id"
      ]
    },
    {
      "cell_type": "markdown",
      "metadata": {
        "id": "WqxX6fbvC8wH"
      },
      "source": [
        "In this part, we use Bag of Words (BoW) approach to increase the number of orgs from IRS"
      ]
    },
    {
      "cell_type": "code",
      "execution_count": null,
      "metadata": {
        "id": "_YYw48ZjDhQ9"
      },
      "outputs": [],
      "source": [
        "bf.options.bigquery.location = location\n",
        "bf.options.bigquery.project = project\n",
        "bf.options.display.progress_bar = \"notebook\""
      ]
    },
    {
      "cell_type": "code",
      "execution_count": null,
      "metadata": {
        "id": "N_dYo0DPDjIY"
      },
      "outputs": [],
      "source": [
        "# The version parameter used to create different versions of the data in BigQuery tables\n",
        "version = \"20241015\"\n",
        "\n",
        "# Bag of Words spreadsheet details\n",
        "bow_spreadsheet_id = \"1diQYb7VWqykwgfrmbJsg1Deb8RCMareR1X_Xh9nJ6p8\"\n",
        "bow_sheet_name = \"v10\""
      ]
    },
    {
      "cell_type": "code",
      "execution_count": null,
      "metadata": {
        "id": "qBmUCVW5OBj8"
      },
      "outputs": [],
      "source": [
        "bigquery_client = bigquery.Client(location=location)"
      ]
    },
    {
      "cell_type": "code",
      "execution_count": null,
      "metadata": {
        "id": "mL9QGgS7ODeT"
      },
      "outputs": [],
      "source": [
        "storage_client = storage.Client(project=project)\n",
        "bucket = storage_client.get_bucket(bucket_name)\n",
        "credentials_blob = bucket.blob(credentials_file)"
      ]
    },
    {
      "cell_type": "code",
      "execution_count": null,
      "metadata": {
        "id": "lp5DL7X6OFpZ"
      },
      "outputs": [],
      "source": [
        "credentials_text = credentials_blob.download_as_text()\n",
        "credentials_dict = json.loads(credentials_text)\n",
        "credentials = service_account.Credentials.from_service_account_info(credentials_dict, scopes=scopes)"
      ]
    },
    {
      "cell_type": "code",
      "execution_count": null,
      "metadata": {
        "id": "ZFNgYtuZOGsd"
      },
      "outputs": [],
      "source": [
        "gc = gspread.authorize(credentials)"
      ]
    },
    {
      "cell_type": "code",
      "execution_count": null,
      "metadata": {
        "id": "mAzeHj5fDocH"
      },
      "outputs": [],
      "source": [
        "bag_of_words_sheet = gc.open_by_key(bow_spreadsheet_id).worksheet(bow_sheet_name)"
      ]
    },
    {
      "cell_type": "code",
      "execution_count": null,
      "metadata": {
        "id": "eJ_bXAc1DqBj"
      },
      "outputs": [],
      "source": [
        "bow_df = pd.DataFrame(bag_of_words_sheet.get_all_records())"
      ]
    },
    {
      "cell_type": "code",
      "execution_count": null,
      "metadata": {
        "id": "ImaYqubUDruo"
      },
      "outputs": [],
      "source": [
        "bag_a_list = bow_df[bow_df[\"Bag\"] == \"A\"][\"Word\"].to_list()\n",
        "bag_b_list = bow_df[bow_df[\"Bag\"] == \"B\"][\"Word\"].to_list()\n",
        "bag_c_list = bow_df[bow_df[\"Bag\"] == \"C\"][\"Word\"].to_list()\n",
        "bag_d_list = bow_df[bow_df[\"Bag\"] == \"D\"][\"Word\"].to_list()\n",
        "bag_e_list = bow_df[bow_df[\"Bag\"] == \"E\"][\"Word\"].to_list()\n",
        "bag_f_list = bow_df[bow_df[\"Bag\"] == \"F\"][\"Word\"].to_list()"
      ]
    },
    {
      "cell_type": "code",
      "execution_count": null,
      "metadata": {
        "id": "TIPPCnKTDtSB"
      },
      "outputs": [],
      "source": [
        "# Load English language model\n",
        "nlp = spacy.load(\"en_core_web_sm\")"
      ]
    },
    {
      "cell_type": "code",
      "execution_count": null,
      "metadata": {
        "id": "neN5w1AbDuhH"
      },
      "outputs": [],
      "source": [
        "def find_lemma(text: str) -> str:\n",
        "    lemma = \"\"\n",
        "    if text is None:\n",
        "        return lemma\n",
        "    doc = nlp(text)\n",
        "    for token in doc:\n",
        "        lemma += token.lemma_ + \" \"\n",
        "    return lemma.strip()"
      ]
    },
    {
      "cell_type": "code",
      "execution_count": null,
      "metadata": {
        "id": "NKTupuxrDwVr"
      },
      "outputs": [],
      "source": [
        "bag_a_lemmatized = sorted(list(set([find_lemma(x.lower())  for x in bag_a_list])))\n",
        "bag_b_lemmatized = sorted(list(set([find_lemma(x.lower())  for x in bag_b_list])))\n",
        "bag_c_lemmatized = sorted(list(set([find_lemma(x.lower())  for x in bag_c_list])))\n",
        "bag_d_lemmatized = sorted(list(set([find_lemma(x.lower())  for x in bag_d_list])))\n",
        "bag_e_lemmatized = sorted(list(set([find_lemma(x.lower())  for x in bag_e_list])))\n",
        "bag_f_lemmatized = sorted(list(set([find_lemma(x.lower())  for x in bag_f_list])))"
      ]
    },
    {
      "cell_type": "code",
      "execution_count": null,
      "metadata": {
        "id": "tOTlt540Dxv-"
      },
      "outputs": [],
      "source": [
        "query = \"\"\"\n",
        "SELECT\n",
        "  row_id,\n",
        "  lemmatized_mission_description,\n",
        "  lemmatized_primary_program_description,\n",
        "  lemmatized_business_name,\n",
        "FROM standardized_v2.irs_990_2023_bow\n",
        ";\n",
        "\"\"\""
      ]
    },
    {
      "cell_type": "code",
      "execution_count": null,
      "metadata": {
        "id": "HXtlPaUZDz4x"
      },
      "outputs": [],
      "source": [
        "df = bf.read_gbq_query(query)"
      ]
    },
    {
      "cell_type": "code",
      "execution_count": null,
      "metadata": {
        "id": "XBoH59yHD1jg"
      },
      "outputs": [],
      "source": [
        "orgs = df.to_pandas()"
      ]
    },
    {
      "cell_type": "code",
      "execution_count": null,
      "metadata": {
        "id": "0KrJ7R9OD29B"
      },
      "outputs": [],
      "source": [
        "def find_bag_a_lemmas(text):\n",
        "  found_lemmas = []\n",
        "  for lemma in bag_a_lemmatized:\n",
        "    if lemma in text:\n",
        "      found_lemmas.append(lemma)\n",
        "\n",
        "  found_lemmas_str = \",\".join(found_lemmas)\n",
        "  return found_lemmas_str\n",
        "\n",
        "def find_bag_b_lemmas(text):\n",
        "  found_lemmas = []\n",
        "  for lemma in bag_b_lemmatized:\n",
        "    if lemma in text:\n",
        "      found_lemmas.append(lemma)\n",
        "\n",
        "  found_lemmas_str = \",\".join(found_lemmas)\n",
        "  return found_lemmas_str\n",
        "\n",
        "def find_bag_c_lemmas(text):\n",
        "  found_lemmas = []\n",
        "  for lemma in bag_c_lemmatized:\n",
        "    if lemma in text:\n",
        "      found_lemmas.append(lemma)\n",
        "\n",
        "  found_lemmas_str = \",\".join(found_lemmas)\n",
        "  return found_lemmas_str"
      ]
    },
    {
      "cell_type": "code",
      "execution_count": null,
      "metadata": {
        "id": "V4dahS4ED4sh"
      },
      "outputs": [],
      "source": [
        "def find_bag_d_lemmas(text):\n",
        "  found_lemmas = []\n",
        "  for lemma in bag_d_lemmatized:\n",
        "    if lemma in text:\n",
        "      found_lemmas.append(lemma)\n",
        "\n",
        "  found_lemmas_str = \",\".join(found_lemmas)\n",
        "  return found_lemmas_str\n",
        "\n",
        "def find_bag_e_lemmas(text):\n",
        "  found_lemmas = []\n",
        "  for lemma in bag_e_lemmatized:\n",
        "    if lemma in text:\n",
        "      found_lemmas.append(lemma)\n",
        "\n",
        "  found_lemmas_str = \",\".join(found_lemmas)\n",
        "  return found_lemmas_str\n",
        "\n",
        "def find_bag_f_lemmas(text):\n",
        "  found_lemmas = []\n",
        "  for lemma in bag_f_lemmatized:\n",
        "    if lemma in text:\n",
        "      found_lemmas.append(lemma)\n",
        "\n",
        "  found_lemmas_str = \",\".join(found_lemmas)\n",
        "  return found_lemmas_str"
      ]
    },
    {
      "cell_type": "code",
      "execution_count": null,
      "metadata": {
        "id": "QpxI9NIgD6mH"
      },
      "outputs": [],
      "source": [
        "orgs[\"lemmatized_mission_description\"] = orgs[\"lemmatized_mission_description\"].fillna(\"\").str.lower()\n",
        "orgs[\"lemmatized_primary_program_description\"] = orgs[\"lemmatized_primary_program_description\"].fillna(\"\").str.lower()\n",
        "orgs[\"lemmatized_business_name\"] = orgs[\"lemmatized_business_name\"].fillna(\"\").str.lower()"
      ]
    },
    {
      "cell_type": "code",
      "execution_count": null,
      "metadata": {
        "id": "DeBvsp-pD8w6"
      },
      "outputs": [],
      "source": [
        "orgs[\"bag_a_lemmas_in_mission\"] = orgs[\"lemmatized_mission_description\"].apply(find_bag_a_lemmas)\n",
        "orgs[\"bag_a_lemmas_in_primary_program\"] = orgs[\"lemmatized_primary_program_description\"].apply(find_bag_a_lemmas)\n",
        "\n",
        "orgs[\"bag_b_lemmas_in_mission\"] = orgs[\"lemmatized_mission_description\"].apply(find_bag_b_lemmas)\n",
        "orgs[\"bag_b_lemmas_in_primary_program\"] = orgs[\"lemmatized_primary_program_description\"].apply(find_bag_b_lemmas)\n",
        "\n",
        "orgs[\"bag_c_lemmas_in_mission\"] = orgs[\"lemmatized_mission_description\"].apply(find_bag_c_lemmas)\n",
        "orgs[\"bag_c_lemmas_in_primary_program\"] = orgs[\"lemmatized_primary_program_description\"].apply(find_bag_c_lemmas)\n",
        "\n",
        "# New rules\n",
        "orgs[\"bag_d_lemmas_in_business_name\"] = orgs[\"lemmatized_business_name\"].apply(find_bag_d_lemmas)\n",
        "orgs[\"bag_e_lemmas_in_mission\"] = orgs[\"lemmatized_mission_description\"].apply(find_bag_e_lemmas)\n",
        "orgs[\"bag_e_lemmas_in_primary_program\"] = orgs[\"lemmatized_primary_program_description\"].apply(find_bag_e_lemmas)\n",
        "orgs[\"bag_f_lemmas_in_mission\"] = orgs[\"lemmatized_mission_description\"].apply(find_bag_f_lemmas)\n",
        "orgs[\"bag_f_lemmas_in_primary_program\"] = orgs[\"lemmatized_primary_program_description\"].apply(find_bag_f_lemmas)\n",
        "orgs[\"bag_f_lemmas_in_business_name\"] = orgs[\"lemmatized_business_name\"].apply(find_bag_f_lemmas)"
      ]
    },
    {
      "cell_type": "code",
      "execution_count": null,
      "metadata": {
        "id": "AA3RNbToD_6N"
      },
      "outputs": [],
      "source": [
        "file_name = f\"irs_990_2023_bow_{version}.csv\""
      ]
    },
    {
      "cell_type": "code",
      "execution_count": null,
      "metadata": {
        "id": "eV5ZfOaBEBPs"
      },
      "outputs": [],
      "source": [
        "orgs.to_csv(file_name, index=False)"
      ]
    },
    {
      "cell_type": "code",
      "execution_count": null,
      "metadata": {
        "id": "Tf7s-E6XECW7"
      },
      "outputs": [],
      "source": [
        "almanac_bucket = storage_client.get_bucket(\"hks-almanac-storage-standard\")\n",
        "\n",
        "irs_blob = almanac_bucket.blob(f\"v2/irs/irs-990-extract-2023-bow-{version}.csv\")\n",
        "irs_blob.upload_from_filename(file_name)"
      ]
    },
    {
      "cell_type": "code",
      "execution_count": null,
      "metadata": {
        "id": "-RrbwldkED2S"
      },
      "outputs": [],
      "source": [
        "job_config = bigquery.LoadJobConfig(\n",
        "    source_format=bigquery.SourceFormat.CSV,\n",
        "    skip_leading_rows=1,\n",
        "    autodetect=True,\n",
        "    write_disposition=\"WRITE_TRUNCATE\",\n",
        ")\n",
        "uri = f\"gs://hks-almanac-storage-standard/v2/irs/irs-990-extract-2023-bow-{version}.csv\"\n",
        "table_id = f\"standardized_v2.irs_990_2023_bow_{version}\"\n",
        "\n",
        "load_job = bigquery_client.load_table_from_uri(\n",
        "    uri, table_id, job_config=job_config\n",
        ")\n",
        "load_job.result()\n",
        "\n",
        "destination_table = bigquery_client.get_table(table_id)\n",
        "print(\"Loaded {} rows.\".format(destination_table.num_rows))"
      ]
    },
    {
      "cell_type": "code",
      "execution_count": null,
      "metadata": {
        "id": "BYxfRvNUEIe3"
      },
      "outputs": [],
      "source": [
        "%%bigquery\n",
        "CREATE OR REPLACE TABLE standardized_v2.irs_990_2023_bow_20241015 AS\n",
        "SELECT *,\n",
        "  ARRAY_LENGTH(SPLIT(bag_a_lemmas_in_mission)) AS bag_a_mission_matched_word_count,\n",
        "  ARRAY_LENGTH(SPLIT(bag_a_lemmas_in_primary_program)) AS bag_a_primary_program_matched_word_count,\n",
        "  ARRAY_LENGTH(SPLIT(bag_b_lemmas_in_mission)) AS bag_b_mission_matched_word_count,\n",
        "  ARRAY_LENGTH(SPLIT(bag_b_lemmas_in_primary_program)) AS bag_b_primary_program_matched_word_count,\n",
        "  ARRAY_LENGTH(SPLIT(bag_c_lemmas_in_mission)) AS bag_c_mission_matched_word_count,\n",
        "  ARRAY_LENGTH(SPLIT(bag_c_lemmas_in_primary_program)) AS bag_c_primary_program_matched_word_count,\n",
        "  ARRAY_LENGTH(SPLIT(bag_d_lemmas_in_business_name)) AS bag_d_business_name_matched_word_count,\n",
        "  ARRAY_LENGTH(SPLIT(bag_e_lemmas_in_mission)) AS bag_e_mission_matched_word_count,\n",
        "  ARRAY_LENGTH(SPLIT(bag_e_lemmas_in_primary_program)) AS bag_e_primary_program_matched_word_count,\n",
        "  ARRAY_LENGTH(SPLIT(bag_f_lemmas_in_mission)) AS bag_f_mission_matched_word_count,\n",
        "  ARRAY_LENGTH(SPLIT(bag_f_lemmas_in_primary_program)) AS bag_f_primary_program_matched_word_count,\n",
        "  ARRAY_LENGTH(SPLIT(bag_f_lemmas_in_business_name)) AS bag_f_business_name_matched_word_count,\n",
        "FROM standardized_v2.irs_990_2023_bow_20241015\n",
        ";"
      ]
    },
    {
      "cell_type": "code",
      "execution_count": null,
      "metadata": {
        "id": "OI5ZPfXcEKIw"
      },
      "outputs": [],
      "source": [
        "%%bigquery\n",
        "\n",
        "CREATE OR REPLACE TABLE analysis.irs_990_2023_bow_20241015_all_data AS\n",
        "WITH merged_data AS (\n",
        "  SELECT\n",
        "    v1.* EXCEPT (\n",
        "      mission_description_matched_lemmas,\n",
        "      mission_description_matched_word_count,\n",
        "      primary_program_description_matched_lemmas,\n",
        "      primary_program_description_matched_word_count),\n",
        "    v2.* EXCEPT (\n",
        "      row_id,\n",
        "      lemmatized_mission_description,\n",
        "      lemmatized_primary_program_description,\n",
        "      lemmatized_business_name)\n",
        "  FROM standardized_v2.irs_990_2023_bow AS v1\n",
        "  INNER JOIN standardized_v2.irs_990_2023_bow_20241015 AS v2\n",
        "    ON v1.row_id = v2.row_id\n",
        "),\n",
        "ntee_codes AS (\n",
        "  SELECT ein, NTEE_CD\n",
        "  FROM original_v2.irs_bmf\n",
        "  QUALIFY ROW_NUMBER() OVER(PARTITION BY ein ORDER BY TAX_PERIOD DESC) = 1\n",
        "),\n",
        "\n",
        "all_merged AS (\n",
        "  SELECT irs.*, NTEE_CD\n",
        "  FROM merged_data AS irs\n",
        "  LEFT JOIN ntee_codes AS ntee ON CAST(irs.ein AS STRING) = ntee.ein\n",
        ")\n",
        "SELECT *\n",
        "FROM all_merged\n",
        "WHERE\n",
        "    -- Rule 1: Select organizations with at least one word from both bag_a and bag_b in either mission or primary program\n",
        "    ((bag_a_mission_matched_word_count > 0 OR bag_a_primary_program_matched_word_count > 0)\n",
        "    AND\n",
        "    (bag_b_mission_matched_word_count > 0 OR bag_b_primary_program_matched_word_count > 0))\n",
        "\n",
        "    OR\n",
        "\n",
        "    -- Rule 2: Select organizations with bag_c words in either mission or primary program\n",
        "    (bag_c_mission_matched_word_count > 0 OR bag_c_primary_program_matched_word_count > 0)\n",
        ";\n"
      ]
    },
    {
      "cell_type": "code",
      "execution_count": null,
      "metadata": {
        "id": "ehDI5NKyEMW_"
      },
      "outputs": [],
      "source": [
        "# @title Full dataset\n",
        "df_full = bf.read_gbq(\"analysis.irs_990_2023_bow_20241015_all_data\", use_cache=False).to_pandas()"
      ]
    },
    {
      "cell_type": "code",
      "execution_count": null,
      "metadata": {
        "id": "zYwKI72qEObb"
      },
      "outputs": [],
      "source": [
        "# @title Lemma counts\n",
        "lemma_counts_query = \"\"\"\n",
        "WITH unnested_lemmas AS (\n",
        "  -- Bag C: Mission\n",
        "  SELECT row_id, lemmas, \"bag_c_mission\" AS bag\n",
        "  FROM analysis.irs_990_2023_bow_20241015_all_data\n",
        "  CROSS JOIN UNNEST(SPLIT(bag_c_lemmas_in_mission)) AS lemmas\n",
        "\n",
        "  UNION ALL\n",
        "\n",
        "  -- Bag C: Primary Program\n",
        "  SELECT row_id, lemmas, \"bag_c_primary_program\" AS bag\n",
        "  FROM analysis.irs_990_2023_bow_20241015_all_data\n",
        "  CROSS JOIN UNNEST(SPLIT(bag_c_lemmas_in_primary_program)) AS lemmas\n",
        "\n",
        "  UNION ALL\n",
        "\n",
        "  -- Bag A: Mission\n",
        "  SELECT row_id, lemmas, \"bag_a_mission\" AS bag\n",
        "  FROM analysis.irs_990_2023_bow_20241015_all_data\n",
        "  CROSS JOIN UNNEST(SPLIT(bag_a_lemmas_in_mission)) AS lemmas\n",
        "\n",
        "  UNION ALL\n",
        "\n",
        "  -- Bag A: Primary Program\n",
        "  SELECT row_id, lemmas, \"bag_a_primary_program\" AS bag\n",
        "  FROM analysis.irs_990_2023_bow_20241015_all_data\n",
        "  CROSS JOIN UNNEST(SPLIT(bag_a_lemmas_in_primary_program)) AS lemmas\n",
        "\n",
        "  UNION ALL\n",
        "\n",
        "  -- Bag B: Mission\n",
        "  SELECT row_id, lemmas, \"bag_b_mission\" AS bag\n",
        "  FROM analysis.irs_990_2023_bow_20241015_all_data\n",
        "  CROSS JOIN UNNEST(SPLIT(bag_b_lemmas_in_mission)) AS lemmas\n",
        "\n",
        "  UNION ALL\n",
        "\n",
        "  -- Bag B: Primary Program\n",
        "  SELECT row_id, lemmas, \"bag_b_primary_program\" AS bag\n",
        "  FROM analysis.irs_990_2023_bow_20241015_all_data\n",
        "  CROSS JOIN UNNEST(SPLIT(bag_b_lemmas_in_primary_program)) AS lemmas\n",
        "),\n",
        "lemma_count_per_bag AS (\n",
        "  SELECT bag, lemmas, COUNT(DISTINCT row_id) AS lemma_count\n",
        "  FROM unnested_lemmas\n",
        "  GROUP BY bag, lemmas\n",
        ")\n",
        "SELECT lemmas, SUM(lemma_count) AS total_count\n",
        "FROM lemma_count_per_bag\n",
        "GROUP BY lemmas\n",
        "\"\"\""
      ]
    },
    {
      "cell_type": "code",
      "execution_count": null,
      "metadata": {
        "id": "U83r3jJ3EQMy"
      },
      "outputs": [],
      "source": [
        "df_lemma_counts = bf.read_gbq(lemma_counts_query).to_pandas().sort_values(by='total_count', ascending=False)"
      ]
    },
    {
      "cell_type": "code",
      "execution_count": null,
      "metadata": {
        "id": "IoyyWMxTOpaI"
      },
      "outputs": [],
      "source": [
        "df_lemma_counts"
      ]
    },
    {
      "cell_type": "code",
      "execution_count": null,
      "metadata": {
        "id": "JXrlnsbQER5U"
      },
      "outputs": [],
      "source": [
        "plt.bar(df_lemma_counts['lemmas'], df_lemma_counts['total_count'])\n",
        "plt.xticks(rotation=90)\n",
        "for i, v in enumerate(df_lemma_counts['total_count']):\n",
        "    plt.text(i, v, str(v), ha='center', va='bottom')\n",
        "plt.title('BoW v5 Word Frequency')\n",
        "plt.show"
      ]
    },
    {
      "cell_type": "code",
      "execution_count": null,
      "metadata": {
        "id": "CEGz-eOVOuhN"
      },
      "outputs": [],
      "source": [
        "%%bigquery\n",
        "CREATE OR REPLACE TABLE analysis.irs_990_2023_bow_20241015_filtered_final AS\n",
        "SELECT *\n",
        "FROM analysis.irs_990_2023_bow_20241015_all_data\n",
        "WHERE\n",
        "    -- Rule 2: Exclude organizations with bag_d words in business name\n",
        "    IFNULL(bag_d_business_name_matched_word_count, 0) = 0\n",
        "\n",
        "    -- Rule 3: Exclude organizations with bag_f words in mission or primary program\n",
        "    -- unless they also have bag_e words in either mission or primary program\n",
        "    AND (\n",
        "        (IFNULL(bag_f_mission_matched_word_count, 0) = 0 AND IFNULL(bag_f_primary_program_matched_word_count, 0) = 0)\n",
        "        OR\n",
        "        ((IFNULL(bag_f_mission_matched_word_count, 0) > 0 OR IFNULL(bag_f_primary_program_matched_word_count, 0) > 0)\n",
        "         AND\n",
        "         (IFNULL(bag_e_mission_matched_word_count, 0) > 0 OR IFNULL(bag_e_primary_program_matched_word_count, 0) > 0))\n",
        "    );"
      ]
    },
    {
      "cell_type": "code",
      "execution_count": null,
      "metadata": {
        "id": "Y6C4MUnnOyzV"
      },
      "outputs": [],
      "source": [
        "%%bigquery\n",
        "SELECT data_source, COUNT(DISTINCT row_id) AS match_count\n",
        "FROM analysis.irs_990_2023_bow_20241015_filtered_final AS b\n",
        "LEFT JOIN novel_v2.unique_orgs AS u ON CAST(b.ein AS STRING) = u.ein\n",
        "WHERE u.ein IS NOT NULL\n",
        "GROUP BY data_source\n",
        "ORDER BY match_count DESC"
      ]
    },
    {
      "cell_type": "markdown",
      "metadata": {
        "id": "dPq4fZRbO3K6"
      },
      "source": [
        "Transform and map the fields"
      ]
    },
    {
      "cell_type": "code",
      "execution_count": null,
      "metadata": {
        "id": "I1_JeS7aO6nz"
      },
      "outputs": [],
      "source": [
        "%%bigquery\n",
        "CREATE OR REPLACE TABLE standardized_v2.irs_bow_new_orgs AS\n",
        "WITH new_orgs AS (\n",
        "  SELECT b.*,\n",
        "    UPPER(COALESCE(address, \"\")) AS std_street,\n",
        "    UPPER(COALESCE(city, \"\")) AS std_city,\n",
        "    UPPER(COALESCE(state, \"\")) AS std_state,\n",
        "    UPPER(COALESCE(CAST(zip AS STRING), \"\")) AS std_zip\n",
        "  FROM analysis.irs_990_2023_bow_20241015_filtered_final AS b\n",
        "  LEFT JOIN novel_v2.unique_orgs AS u ON CAST(b.ein AS STRING) = u.ein\n",
        "  WHERE u.ein IS NULL\n",
        "),\n",
        "extra_columns AS (\n",
        "  SELECT\n",
        "    30704 + ROW_NUMBER() OVER() AS dedupe_id,\n",
        "    'Private non-profit' AS chosen_org_type,\n",
        "    'irs xml' AS data_source,\n",
        "    reference.standardize_org_name(business_name) AS org_name,\n",
        "    CONCAT(std_street, ' ', std_city, ' ', std_state, ' ', std_zip) AS org_address,\n",
        "    CAST(ein AS STRING) AS original_unique_id,\n",
        "    NULL AS geo_lat,\n",
        "    NULL AS geo_lon,\n",
        "    NTEE_CD AS org_subtype_in_data_source,\n",
        "    '2025-06-02' AS last_updated,\n",
        "    *\n",
        "  FROM new_orgs\n",
        "),\n",
        "address_matching AS (\n",
        "  SELECT\n",
        "    TO_HEX(MD5(UPPER(CONCAT(org_name, COALESCE(c.output_address, d.org_address, ''))))) AS org_id,\n",
        "    CAST(NULL AS STRING) AS org_subtype_ipeds,\n",
        "    CAST(NULL AS STRING) AS org_subtype_rapids,\n",
        "    CASE\n",
        "      WHEN org_subtype_in_data_source LIKE \"B41%\" THEN \"Community or Junior Colleges\"\n",
        "      WHEN org_subtype_in_data_source LIKE \"B60%\" THEN \"Adult, Continuing Education\"\n",
        "      WHEN org_subtype_in_data_source LIKE \"J20%\" THEN \"Employment Procurement Assistance, Job Training\"\n",
        "      WHEN org_subtype_in_data_source LIKE \"J21%\" THEN \"Vocational Counseling, Guidance and Testing\"\n",
        "      WHEN org_subtype_in_data_source LIKE \"J22%\" THEN \"Vocational Training\"\n",
        "      WHEN org_subtype_in_data_source LIKE \"J30%\" THEN \"Vocational Rehabilitation\"\n",
        "      WHEN org_subtype_in_data_source LIKE \"J32%\" THEN \"Goodwill Industries\"\n",
        "      WHEN org_subtype_in_data_source LIKE \"J33%\" THEN \"Sheltered Remunerative Employment, Work Activity Center N.E.C.\"\n",
        "    END AS org_subtype_irs,\n",
        "    CAST(NULL AS STRING) AS org_subtype_tpr,\n",
        "    *\n",
        "  FROM extra_columns AS d\n",
        "  LEFT JOIN reference.census_gov_address_output AS c ON TO_HEX(MD5(REPLACE(d.org_address, '\"', ''))) = c.address_id\n",
        "),\n",
        "flag_columns AS (\n",
        "SELECT\n",
        "  org_id IN (SELECT DISTINCT org_id FROM deduped_v2.organizations_combined WHERE data_source = 'ipeds') AS in_ipeds,\n",
        "  org_id IN (SELECT DISTINCT org_id FROM deduped_v2.organizations_combined WHERE data_source = 'rapids') AS in_rapids,\n",
        "  TRUE AS in_irs,\n",
        "  org_id IN (SELECT DISTINCT org_id FROM deduped_v2.organizations_combined WHERE data_source = 'tpr') AS in_tpr,\n",
        " *\n",
        "FROM address_matching\n",
        ")\n",
        "SELECT dedupe_id,\n",
        "  chosen_org_type,\n",
        "  data_source,\n",
        "  org_name,\n",
        "  org_id,\n",
        "  NULL AS ipeds_unique_id,\n",
        "  original_unique_id AS irs_unique_id,\n",
        "  NULL AS rapids_unique_id,\n",
        "  NULL AS tpr_unique_id,\n",
        "  org_address,\n",
        "  std_street,\n",
        "  std_city,\n",
        "  std_state,\n",
        "  std_zip,\n",
        "  geo_lat,\n",
        "  geo_lon,\n",
        "  org_subtype_in_data_source,\n",
        "  original_unique_id AS ein,\n",
        "  in_ipeds,\n",
        "  in_irs,\n",
        "  in_rapids,\n",
        "  in_tpr,\n",
        "  org_subtype_ipeds,\n",
        "  org_subtype_irs,\n",
        "  org_subtype_rapids,\n",
        "  org_subtype_tpr,\n",
        "  CAST(in_ipeds AS INT64) + CAST(in_rapids AS INT64) + CAST(in_irs AS INT64) + CAST(in_tpr AS INT64) AS num_data_sources,\n",
        "  CAST(NULL AS STRING) AS org_type_ipeds,\n",
        "  org_subtype_in_data_source AS org_type_irs,\n",
        "  CAST(NULL AS STRING) AS org_type_rapids,\n",
        "  CAST(NULL AS STRING) AS org_type_tpr,\n",
        "  CAST(last_updated AS DATE) AS last_updated,\n",
        "  FALSE AS org_subtype_highest_degree_bachelors_plus,\n",
        "  FALSE AS org_subtype_highest_degree_associates,\n",
        "  FALSE AS org_subtype_highest_degree_certificate,\n",
        "  FALSE AS org_subtype_other_higher_ed_institution,\n",
        "  FALSE AS org_subtype_private_for_profit,\n",
        "  FALSE AS org_subtype_apprenticeship_business_association,\n",
        "  FALSE AS org_subtype_apprenticeship_employer,\n",
        "  FALSE AS org_subtype_apprenticeship_intermediary,\n",
        "  FALSE AS org_subtype_apprenticeship_gov,\n",
        "  FALSE AS org_subtype_apprenticeship_wib,\n",
        "  FALSE AS org_subtype_apprenticeship_union_labor,\n",
        "  FALSE AS org_subtype_apprenticeship_foundation,\n",
        "  FALSE AS org_subtype_apprenticeship_other,\n",
        "  CASE\n",
        "    WHEN org_subtype_in_data_source\n",
        "    LIKE ANY (\"B30%\",\"J20%\", \"J21%\", \"J22%\", \"J30%\", \"J32%\", \"J33%\")\n",
        "    THEN TRUE\n",
        "    ELSE FALSE\n",
        "  END AS org_subtype_job_training_non_profits\n",
        "FROM flag_columns\n"
      ]
    },
    {
      "cell_type": "code",
      "execution_count": null,
      "metadata": {
        "id": "EykPNSbnPAQm"
      },
      "outputs": [],
      "source": [
        "%%bigquery\n",
        "-- Make sure there are no duplicate org_ids before inserting new orgs\n",
        "SELECT *\n",
        "FROM standardized_v2.irs_bow_new_orgs\n",
        "WHERE org_id IN (SELECT org_id FROM novel_v2.unique_orgs)"
      ]
    },
    {
      "cell_type": "code",
      "execution_count": null,
      "metadata": {
        "id": "RdgJut81PCYb"
      },
      "outputs": [],
      "source": [
        "%%bigquery\n",
        "DELETE FROM standardized_v2.irs_bow_new_orgs\n",
        "WHERE org_id IN (SELECT org_id FROM novel_v2.unique_orgs)"
      ]
    },
    {
      "cell_type": "code",
      "execution_count": null,
      "metadata": {
        "id": "qpnSF3M6PE1n"
      },
      "outputs": [],
      "source": [
        "%%bigquery\n",
        "INSERT INTO novel_v2.unique_orgs\n",
        "SELECT *\n",
        "FROM standardized_v2.irs_bow_new_orgs"
      ]
    },
    {
      "cell_type": "markdown",
      "metadata": {
        "id": "6BDaLmXcPHY9"
      },
      "source": [
        "Create a new table with extra data points from IRS XML extracts"
      ]
    },
    {
      "cell_type": "code",
      "execution_count": null,
      "metadata": {
        "id": "O0Fz17cmPH5n"
      },
      "outputs": [],
      "source": [
        "%%bigquery\n",
        "CREATE OR REPLACE TABLE novel_v2.unique_orgs_with_irs_data AS\n",
        "WITH one_ein_per_org AS (\n",
        "  SELECT *\n",
        "  FROM standardized_v2.irs_990_2023_bow\n",
        "  WHERE EXTRACT(YEAR FROM tax_period_end_date) IN (2022, 2023)\n",
        "  QUALIFY ROW_NUMBER() OVER (PARTITION BY ein ORDER BY return_timestamp DESC) = 1\n",
        ")\n",
        "SELECT u.*,\n",
        "  i.website,\n",
        "  i.formation_year,\n",
        "  i.total_employees,\n",
        "  i.total_revenue_previous_year,\n",
        "  CASE\n",
        "    WHEN EXTRACT(YEAR FROM tax_period_end_date) = 2022\n",
        "    THEN i.total_revenue_current_year * 1.041\n",
        "    ELSE i.total_revenue_current_year\n",
        "  END AS total_revenue_current_year,\n",
        "  i.total_expenses_previous_year,\n",
        "  CASE\n",
        "    WHEN EXTRACT(YEAR FROM tax_period_end_date) = 2022\n",
        "    THEN i.total_expenses_current_year * 1.041\n",
        "    ELSE i.total_expenses_current_year\n",
        "  END AS total_expenses_current_year,\n",
        "  i.mission_description,\n",
        "  i.primary_program_description,\n",
        "  i.states_where_form_990_filed,\n",
        "  i.states_where_form_990_filed_count\n",
        "FROM novel_v2.unique_orgs AS u\n",
        "LEFT JOIN one_ein_per_org AS i ON u.ein = CAST(i.ein AS STRING)\n",
        ";\n"
      ]
    },
    {
      "cell_type": "markdown",
      "metadata": {
        "id": "glp0YuFkPU9_"
      },
      "source": [
        "In these steps, we add IPEDS revenue and expense data to Novel v2\n",
        "\n",
        "Source files are uploaded to `hks-almanac-storage-standard/v2/ipeds` bucket\n"
      ]
    },
    {
      "cell_type": "code",
      "execution_count": null,
      "metadata": {
        "id": "fQ9kC7hlPZgq"
      },
      "outputs": [],
      "source": [
        "%%bigquery\n",
        "-- Are the 3 datasets mutually exclusive?\n",
        "SELECT unitid\n",
        "FROM standardized_v2.ipeds_f2223_f1a_data\n",
        "INTERSECT DISTINCT\n",
        "SELECT unitid\n",
        "FROM standardized_v2.ipeds_f2223_f2_data\n",
        "INTERSECT DISTINCT\n",
        "SELECT unitid\n",
        "FROM standardized_v2.ipeds_f2223_f3_data"
      ]
    },
    {
      "cell_type": "markdown",
      "metadata": {
        "id": "aVZU0NVTPjPJ"
      },
      "source": [
        "Great. No results mean they are indeed mutually exclusive.\n",
        "\n",
        "Create a union of all revenue and expense columns from the 3 tables."
      ]
    },
    {
      "cell_type": "code",
      "execution_count": null,
      "metadata": {
        "id": "TFsRfryqPkCf"
      },
      "outputs": [],
      "source": [
        "%%bigquery\n",
        "\n",
        "CREATE OR REPLACE TABLE standardized_v2.ipeds_f2223_revenue_and_expense AS\n",
        "SELECT unitid, f1d01 AS ipeds_revenue, f1d02 AS ipeds_expense, 'f1a' AS source_file\n",
        "FROM standardized_v2.ipeds_f2223_f1a_data\n",
        "UNION ALL\n",
        "SELECT unitid, f2b01 AS ipeds_revenue, f2b02 AS ipeds_expense, 'f2' AS source_file\n",
        "FROM standardized_v2.ipeds_f2223_f2_data\n",
        "UNION ALL\n",
        "SELECT unitid, f3b01 AS ipeds_revenue, f3b02 AS ipeds_expense, 'f3' AS source_file\n",
        "FROM standardized_v2.ipeds_f2223_f3_data"
      ]
    },
    {
      "cell_type": "code",
      "execution_count": null,
      "metadata": {
        "id": "HVENZeCkPovb"
      },
      "outputs": [],
      "source": [
        "%%bigquery\n",
        "CREATE OR REPLACE TABLE novel_v2.unique_orgs_with_irs_data AS\n",
        "SELECT n.*, i.ipeds_revenue, i.ipeds_expense\n",
        "FROM novel_v2.unique_orgs_with_irs_data AS n\n",
        "LEFT JOIN standardized_v2.ipeds_f2223_revenue_and_expense AS i\n",
        "ON CAST(n.ipeds_unique_id AS STRING) = i.unitid\n"
      ]
    },
    {
      "cell_type": "markdown",
      "metadata": {
        "id": "4_DguuZpP2mJ"
      },
      "source": [
        "Orgs with ZA state code have their data fixed manually in the below spreadsheet"
      ]
    },
    {
      "cell_type": "code",
      "execution_count": null,
      "metadata": {
        "id": "equooX-ZP9x8"
      },
      "outputs": [],
      "source": [
        "spreadsheet_id = \"1emb9dLyViwDf6D20uzGSQ9F04NhrfOR8Wif-v0sHlXU\""
      ]
    },
    {
      "cell_type": "code",
      "execution_count": null,
      "metadata": {
        "id": "xcmFS45JQEyy"
      },
      "outputs": [],
      "source": [
        "sheet = gc.open_by_key(spreadsheet_id).worksheet(\"Sheet1\")"
      ]
    },
    {
      "cell_type": "code",
      "execution_count": null,
      "metadata": {
        "id": "Z3Fec65wQGqx"
      },
      "outputs": [],
      "source": [
        "df = pd.DataFrame(sheet.get_all_records())"
      ]
    },
    {
      "cell_type": "code",
      "execution_count": null,
      "metadata": {
        "id": "bTozzba7QIxx"
      },
      "outputs": [],
      "source": [
        "# Load DataFrame to BigQuery\n",
        "pandas_gbq.to_gbq(df, \"reference_v2.std_state_fix\", project_id=project, if_exists='replace')"
      ]
    },
    {
      "cell_type": "code",
      "execution_count": null,
      "metadata": {
        "id": "dyRYcPJdQL1K"
      },
      "outputs": [],
      "source": [
        "%%bigquery\n",
        "UPDATE novel_v2.unique_orgs AS u\n",
        "SET std_state = r.std_state\n",
        "FROM reference_v2.std_state_fix AS r\n",
        "WHERE u.org_id = r.org_id"
      ]
    },
    {
      "cell_type": "code",
      "execution_count": null,
      "metadata": {
        "id": "VEOM8quEQNXm"
      },
      "outputs": [],
      "source": [
        "%%bigquery\n",
        "UPDATE novel_v2.unique_orgs_with_irs_data AS u\n",
        "SET std_state = r.std_state\n",
        "FROM reference_v2.std_state_fix AS r\n",
        "WHERE u.org_id = r.org_id"
      ]
    },
    {
      "cell_type": "markdown",
      "metadata": {
        "id": "GSfNjrmtQOQB"
      },
      "source": [
        "This concludes the processing steps"
      ]
    }
  ],
  "metadata": {
    "colab": {
      "cell_execution_strategy": "setup",
      "name": "Almanac v2 - All Steps",
      "provenance": []
    },
    "kernelspec": {
      "display_name": "Python 3",
      "name": "python3"
    },
    "language_info": {
      "name": "python"
    }
  },
  "nbformat": 4,
  "nbformat_minor": 0
}
